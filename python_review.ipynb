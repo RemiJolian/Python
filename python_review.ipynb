{
  "cells": [
    {
      "cell_type": "markdown",
      "metadata": {
        "id": "view-in-github",
        "colab_type": "text"
      },
      "source": [
        "<a href=\"https://colab.research.google.com/github/RemiJolian/Python/blob/main/python_review.ipynb\" target=\"_parent\"><img src=\"https://colab.research.google.com/assets/colab-badge.svg\" alt=\"Open In Colab\"/></a>"
      ]
    },
    {
      "cell_type": "markdown",
      "metadata": {
        "id": "j5V-fRkc5wI9"
      },
      "source": [
        "use %d"
      ]
    },
    {
      "cell_type": "code",
      "execution_count": null,
      "metadata": {
        "colab": {
          "base_uri": "https://localhost:8080/"
        },
        "id": "aLw5SzqrQPSc",
        "outputId": "5b9bf7fc-db19-41b8-ac09-2b515c2b7896"
      },
      "outputs": [
        {
          "name": "stdout",
          "output_type": "stream",
          "text": [
            "I am 23 years old\n"
          ]
        }
      ],
      "source": [
        "a = 23\n",
        "# a = int(23)\n",
        "print('I am %d years old' % (a))"
      ]
    },
    {
      "cell_type": "code",
      "execution_count": null,
      "metadata": {
        "colab": {
          "base_uri": "https://localhost:8080/"
        },
        "id": "6F45xeiHwLNA",
        "outputId": "f2286864-7086-415f-a963-6cd86e4572be"
      },
      "outputs": [
        {
          "name": "stdout",
          "output_type": "stream",
          "text": [
            "Keivan is 19 years old. His height is 1.81 m.\n"
          ]
        }
      ],
      "source": [
        "name = 'Keivan'\n",
        "age = 19\n",
        "height = 1.81121121\n",
        "print('%s is %d years old. His height is %.2f m.' % (name, age, height))"
      ]
    },
    {
      "cell_type": "code",
      "execution_count": null,
      "metadata": {
        "colab": {
          "base_uri": "https://localhost:8080/"
        },
        "id": "Xg5kqyXwzOuJ",
        "outputId": "4ad3d59c-d9d7-4a6b-b238-53b0f86d8528"
      },
      "outputs": [
        {
          "name": "stdout",
          "output_type": "stream",
          "text": [
            "3 5\n",
            "3 5\n"
          ]
        }
      ],
      "source": [
        "a,b = input().split()\n",
        "a = int(a)\n",
        "b = int(b)\n",
        "print (a,b)"
      ]
    },
    {
      "cell_type": "markdown",
      "metadata": {
        "id": "L8DyUvcY0XwF"
      },
      "source": [
        "get some inputs"
      ]
    },
    {
      "cell_type": "code",
      "execution_count": null,
      "metadata": {
        "colab": {
          "base_uri": "https://localhost:8080/"
        },
        "id": "BRmZ6J7d0S1k",
        "outputId": "2eed1e13-2a93-49db-e329-0a697df52699"
      },
      "outputs": [
        {
          "name": "stdout",
          "output_type": "stream",
          "text": [
            "3 2 2 7\n",
            "3 2 2 7\n"
          ]
        }
      ],
      "source": [
        "a,b,c,d = map(int, input().split())\n",
        "print(a,b,c,d)"
      ]
    },
    {
      "cell_type": "code",
      "execution_count": null,
      "metadata": {
        "colab": {
          "base_uri": "https://localhost:8080/"
        },
        "id": "WjHJBIz-AV2k",
        "outputId": "85cce0b6-1b4a-4009-fae2-00b599c0b18d"
      },
      "outputs": [
        {
          "name": "stdout",
          "output_type": "stream",
          "text": [
            "7.5\n",
            "41\n",
            "0\n"
          ]
        }
      ],
      "source": [
        "print(2 * 3 + 4 % 2 + 3 / 2)\n",
        "print(1+2**3*5)\n",
        "print(1//2*2)"
      ]
    },
    {
      "cell_type": "markdown",
      "metadata": {
        "id": "gfzHA1OrCKy8"
      },
      "source": []
    },
    {
      "cell_type": "code",
      "execution_count": null,
      "metadata": {
        "id": "LMHTm9_CCLmP"
      },
      "outputs": [],
      "source": [
        "a = 1 + 2\n",
        "b = 5.0 - 3\n",
        "print('a =', a, 'b =', b)\n",
        "c = a * 2\n",
        "d = c / 2\n",
        "e = c // 2\n",
        "print('a =', a, 'c =', c, 'd =', d, 'e =', e)\n",
        "f = a ** b\n",
        "print('f = ', f)\n",
        "s = t = '12'\n",
        "print('s + t =', s + t, 's * 3 =', s * 3, '4 * t =', 4 * t)"
      ]
    },
    {
      "cell_type": "markdown",
      "metadata": {
        "id": "hNkZCgBMMbgG"
      },
      "source": [
        "ASCII code of Parameters"
      ]
    },
    {
      "cell_type": "code",
      "execution_count": null,
      "metadata": {
        "colab": {
          "base_uri": "https://localhost:8080/"
        },
        "id": "-YVfqDoGMZgT",
        "outputId": "902fc2b0-3b6b-4ff2-e648-2c2456dfb708"
      },
      "outputs": [
        {
          "name": "stdout",
          "output_type": "stream",
          "text": [
            "99\n",
            "M\n"
          ]
        }
      ],
      "source": [
        "ch = 'c'\n",
        "print(ord(ch))\n",
        "print(chr(77))"
      ]
    },
    {
      "cell_type": "code",
      "execution_count": null,
      "metadata": {
        "colab": {
          "base_uri": "https://localhost:8080/"
        },
        "id": "Of29PzdJRdiq",
        "outputId": "d6f5f07e-983c-42df-a884-598404d8da2d"
      },
      "outputs": [
        {
          "name": "stdout",
          "output_type": "stream",
          "text": [
            "g\n",
            "character order is : 7\n"
          ]
        }
      ],
      "source": [
        "alpha = input()\n",
        "ch1 = ord(alpha)\n",
        "print('character order is :', ch1-96)\n"
      ]
    },
    {
      "cell_type": "code",
      "execution_count": null,
      "metadata": {
        "colab": {
          "base_uri": "https://localhost:8080/"
        },
        "id": "69Q75VCvXfEt",
        "outputId": "5d2a167c-d8ea-481b-bd3f-bc8054647a21"
      },
      "outputs": [
        {
          "name": "stdout",
          "output_type": "stream",
          "text": [
            "3.0\n",
            "3\n"
          ]
        }
      ],
      "source": [
        "a = float(input())\n",
        "print(int(a))"
      ]
    },
    {
      "cell_type": "code",
      "execution_count": null,
      "metadata": {
        "colab": {
          "base_uri": "https://localhost:8080/"
        },
        "id": "6hhe6UyeZ44Y",
        "outputId": "c2df6adf-78aa-4dfa-fe98-dcf8e2579f97"
      },
      "outputs": [
        {
          "name": "stdout",
          "output_type": "stream",
          "text": [
            "3.2\n",
            "3\n"
          ]
        }
      ],
      "source": [
        "import math\n",
        "x = float(input())\n",
        "g = math.floor(x)\n",
        "print(g)"
      ]
    },
    {
      "cell_type": "code",
      "execution_count": null,
      "metadata": {
        "colab": {
          "base_uri": "https://localhost:8080/"
        },
        "id": "0c7RS8Ynit5f",
        "outputId": "fbfbdbdf-eaab-40b6-cb81-d1c1b4b53d82"
      },
      "outputs": [
        {
          "name": "stdout",
          "output_type": "stream",
          "text": [
            "87\n",
            "1\n"
          ]
        }
      ],
      "source": [
        "a = int(input()) \n",
        "print(int((a != 0) == (not not a)))"
      ]
    },
    {
      "cell_type": "code",
      "execution_count": null,
      "metadata": {
        "colab": {
          "base_uri": "https://localhost:8080/"
        },
        "id": "-Tj5ELiSk6cr",
        "outputId": "e1639154-e8da-44af-c83c-a4e3a0291e4c"
      },
      "outputs": [
        {
          "name": "stdout",
          "output_type": "stream",
          "text": [
            "4\n",
            "7\n",
            "22 28\n"
          ]
        }
      ],
      "source": [
        "num1 = int(input())\n",
        "num2 = int(input())\n",
        "c = 0\n",
        "sum = 2 * (num1 + num2)\n",
        "mul = 0\n",
        "mul = num1 * num2\n",
        "print(sum, mul)\n"
      ]
    },
    {
      "cell_type": "markdown",
      "metadata": {
        "id": "lQ2sv31OpZXv"
      },
      "source": [
        "input three numbers 'a', 'b' and 'c'\n",
        "then output 'max' as their maximum\n",
        "------------------------------------\n",
        "1. max <- a\n",
        "2. max <- (b + max + |b - max|) / 2\n",
        "3. max <- (c + max + |c - max|) / 2\n",
        "4. output max"
      ]
    },
    {
      "cell_type": "code",
      "execution_count": null,
      "metadata": {
        "colab": {
          "base_uri": "https://localhost:8080/"
        },
        "id": "3Kx3tH33pfoF",
        "outputId": "4b79ce4c-6e0c-4f61-cc72-3772d1a4d73d"
      },
      "outputs": [
        {
          "name": "stdout",
          "output_type": "stream",
          "text": [
            "8\n"
          ]
        }
      ],
      "source": [
        "print(max(3,5,1,8))\n"
      ]
    },
    {
      "cell_type": "code",
      "execution_count": null,
      "metadata": {
        "colab": {
          "base_uri": "https://localhost:8080/"
        },
        "id": "JOjIAH1GtYt6",
        "outputId": "f92a4124-3ff6-4247-cc09-75382186b6a1"
      },
      "outputs": [
        {
          "name": "stdout",
          "output_type": "stream",
          "text": [
            "5 5 6 9 8 7\n",
            "-4 -4 -4 -7 -6 1\n"
          ]
        }
      ],
      "source": [
        "m1, m2, m3, m4, m5, m6 = input().split()\n",
        "print(1-int(m1), 1-int(m2),2-int(m3), 2-int(m4), 2-int(m5),8 -int(m6))\n"
      ]
    },
    {
      "cell_type": "code",
      "execution_count": null,
      "metadata": {
        "colab": {
          "base_uri": "https://localhost:8080/"
        },
        "id": "r_3VVEqdyrhs",
        "outputId": "232cda5d-aa5b-49c1-a298-124f03168ea2"
      },
      "outputs": [
        {
          "name": "stdout",
          "output_type": "stream",
          "text": [
            "2 5 3 6 9 8\n",
            "-1 -4 -1 -4 -7 0\n"
          ]
        }
      ],
      "source": [
        "shah, vazir, rokh, fil, asb, sarbaz = map(int, input().split())\n",
        "print( 1 - shah, 1 - vazir, 2 - rokh, 2 - fil, 2 - asb, 8 - sarbaz )"
      ]
    },
    {
      "cell_type": "markdown",
      "metadata": {
        "id": "mm01sEbnXpg-"
      },
      "source": [
        "bishtarin taqsim ba n khat dar zamin moraba shekl"
      ]
    },
    {
      "cell_type": "code",
      "execution_count": null,
      "metadata": {
        "colab": {
          "base_uri": "https://localhost:8080/"
        },
        "id": "z0sPOPSKTNDY",
        "outputId": "69aceb4f-fe22-4e18-f7fe-073386b09c3a"
      },
      "outputs": [
        {
          "name": "stdout",
          "output_type": "stream",
          "text": [
            "9\n",
            "30\n"
          ]
        }
      ],
      "source": [
        "n = int(input())\n",
        "if n % 2 == 0:\n",
        "  k = (n//2 + 1) ** 2\n",
        "  print (k)\n",
        "else:\n",
        "  k = (n//2) + 1\n",
        "  print(k * (k+1))"
      ]
    },
    {
      "cell_type": "code",
      "execution_count": null,
      "metadata": {
        "id": "tQV_lD03Xn_M"
      },
      "outputs": [],
      "source": []
    },
    {
      "cell_type": "code",
      "execution_count": null,
      "metadata": {
        "colab": {
          "base_uri": "https://localhost:8080/"
        },
        "id": "OcuTu9IKXx3_",
        "outputId": "0141ba0c-44cd-4505-da25-881d6233d0d8"
      },
      "outputs": [
        {
          "name": "stdout",
          "output_type": "stream",
          "text": [
            "9\n",
            "30\n"
          ]
        }
      ],
      "source": [
        "n=input()\n",
        "n=int(n)\n",
        "k=n//2+1\n",
        "m=n//2+n%2+1\n",
        "print(k*m)"
      ]
    },
    {
      "cell_type": "code",
      "execution_count": null,
      "metadata": {
        "colab": {
          "base_uri": "https://localhost:8080/"
        },
        "id": "XM7KNSoUeUWQ",
        "outputId": "a45ff471-7b40-4506-a993-593456508e0c"
      },
      "outputs": [
        {
          "name": "stdout",
          "output_type": "stream",
          "text": [
            "1\n",
            "2\n"
          ]
        }
      ],
      "source": [
        "roads = int(input())\n",
        "max_of_pieces = ((roads / 2) + 1) ** 2 \n",
        "print(int(max_of_pieces))"
      ]
    },
    {
      "cell_type": "code",
      "execution_count": null,
      "metadata": {
        "colab": {
          "base_uri": "https://localhost:8080/"
        },
        "id": "OMB4yDEMfAbQ",
        "outputId": "763bf357-b4e2-492b-fad1-fc3709d894aa"
      },
      "outputs": [
        {
          "name": "stdout",
          "output_type": "stream",
          "text": [
            "12.25\n"
          ]
        }
      ],
      "source": [
        "print((5/2+1)**2)"
      ]
    },
    {
      "cell_type": "code",
      "execution_count": null,
      "metadata": {
        "colab": {
          "base_uri": "https://localhost:8080/"
        },
        "id": "PmWcu3Z5hmeU",
        "outputId": "0431cc65-7f06-4f10-bd7d-d44622bbe1be"
      },
      "outputs": [
        {
          "name": "stdout",
          "output_type": "stream",
          "text": [
            "5\n",
            "6\n",
            "8\n",
            "9\n",
            "28\n",
            "7.0\n",
            "2160\n",
            "9\n",
            "5\n"
          ]
        }
      ],
      "source": [
        "\n",
        "num1 = int(input())\n",
        "num2 = int(input())\n",
        "num3 = int(input())\n",
        "num4 = int(input())\n",
        "\n",
        "s = num1 + num2 + num3 + num4\n",
        "ave = s/4\n",
        "mul = num1 * num2 * num3 * num4\n",
        "max_nums = max(num1, num2, num3, num4)\n",
        "min_nums = min(num1, num2, num3, num4)\n",
        "\n",
        "print(s)\n",
        "print(ave)\n",
        "print(mul)\n",
        "print(max_nums)\n",
        "print(min_nums)"
      ]
    },
    {
      "cell_type": "markdown",
      "metadata": {
        "id": "FtScRqERLQw0"
      },
      "source": [
        "exam some data with desimal regit"
      ]
    },
    {
      "cell_type": "code",
      "execution_count": null,
      "metadata": {
        "id": "DDe00bjCLVs4"
      },
      "outputs": [],
      "source": [
        "num1 = int(input())\n",
        "num2 = int(input())\n",
        "num3 = int(input())\n",
        "num4 = int(input())\n",
        "\n",
        "s = num1 + num2 + num3 + num4\n",
        "ave = s/4\n",
        "mul = num1 * num2 * num3 * num4\n",
        "max_nums = max(num1, num2, num3, num4)\n",
        "min_nums = min(num1, num2, num3, num4)\n",
        "\n",
        "print('Sum : %.6f  ' % s)\n",
        "print('Average : %.6f ' % ave)\n",
        "print('Product : %.6f' % mul)\n",
        "print('Max : %6f ' % max_nums)\n",
        "print('Min : %6f ' % min_nums)"
      ]
    },
    {
      "cell_type": "code",
      "execution_count": null,
      "metadata": {
        "id": "CgMMaqAAMxLF"
      },
      "outputs": [],
      "source": [
        "a = int(input())\n",
        "b = int(input())\n",
        "c = int(input())\n",
        "d = int(input())\n",
        "\n",
        "sum = (a + b + c + d)\n",
        "avg = (a + b + c + d) / 4\n",
        "pro = (a * b * c * d)\n",
        "max = max(a, b, c, d)\n",
        "min = min(a, b, c, d)\n",
        "\n",
        "print('Sum : %.6f' % (sum))\n",
        "print('Average : %.6f' % (avg))\n",
        "print('Product : %.6f' % (pro))\n",
        "print('Max : %.6f' % (max))\n",
        "print('Min : %.6f' % (min))"
      ]
    },
    {
      "cell_type": "code",
      "execution_count": null,
      "metadata": {
        "colab": {
          "base_uri": "https://localhost:8080/"
        },
        "id": "R_Eng5gfQHir",
        "outputId": "e066a950-0b70-4d82-c320-9f3fe2c1d66c"
      },
      "outputs": [
        {
          "name": "stdout",
          "output_type": "stream",
          "text": [
            "000009\n",
            "09\n"
          ]
        }
      ],
      "source": [
        "num = 9\n",
        "\n",
        "# Method 1:\n",
        "print(\"{:0>6d}\".format(num))\n",
        "\n",
        "# Method 2:\n",
        "print(f\"{num:02d}\")"
      ]
    },
    {
      "cell_type": "code",
      "execution_count": null,
      "metadata": {
        "colab": {
          "base_uri": "https://localhost:8080/"
        },
        "id": "zSUPvb9TW6mf",
        "outputId": "c851e851-efc7-4025-b0f7-539b95fc01e1"
      },
      "outputs": [
        {
          "name": "stdout",
          "output_type": "stream",
          "text": [
            "3\n"
          ]
        }
      ],
      "source": [
        "print(abs(-3))"
      ]
    },
    {
      "cell_type": "markdown",
      "metadata": {
        "id": "GDfQBhQpduCl"
      },
      "source": [
        "mr bagher and mr.khoshqalb and clock and mirror problem"
      ]
    },
    {
      "cell_type": "code",
      "execution_count": null,
      "metadata": {
        "colab": {
          "base_uri": "https://localhost:8080/"
        },
        "id": "-x5P-A-zakY3",
        "outputId": "6935c4a8-eccc-46c8-fe5a-b65f442aff9d"
      },
      "outputs": [
        {
          "name": "stdout",
          "output_type": "stream",
          "text": [
            "0 0\n",
            "00:00\n"
          ]
        }
      ],
      "source": [
        "a , b = input().split()\n",
        "a = int(a)\n",
        "b = int(b)\n",
        "if a == 0:\n",
        "    hh = 0\n",
        "else:\n",
        "    hh = 12 - int(a)\n",
        "if b == 0:\n",
        "    mm = 0\n",
        "else:\n",
        "    mm = 60 - int(b)\n",
        "print(f\"{hh:02d}:{mm:02d}\")"
      ]
    },
    {
      "cell_type": "code",
      "execution_count": null,
      "metadata": {
        "id": "tECpaHQJdU9W"
      },
      "outputs": [],
      "source": [
        "hour, minute = map(int,input().split())\n",
        "hour = 12 - hour\n",
        "minute = 60 - minute \n",
        "if hour == 12 :\n",
        "\thour = 0\n",
        "if minute == 60:\n",
        "\tminute = 0\n",
        "print('%02d:%02d'%(hour,minute))\n"
      ]
    },
    {
      "cell_type": "code",
      "execution_count": null,
      "metadata": {
        "colab": {
          "base_uri": "https://localhost:8080/"
        },
        "id": "yt2vIEwrfAIj",
        "outputId": "43cd1170-c43f-458d-92f5-897d75a057a6"
      },
      "outputs": [
        {
          "name": "stdout",
          "output_type": "stream",
          "text": [
            "5 5\n",
            "07:55\n"
          ]
        }
      ],
      "source": [
        "time = str(input()).split(' ')\n",
        "reversed_hour = time[0]\n",
        "reversed_min = time[1]\n",
        "\n",
        "correct_hour = (12 - int(reversed_hour)) % 12\n",
        "correct_min = (60 - int(reversed_min)) % 60\n",
        "\n",
        "print(f\"{correct_hour:02d}:{correct_min:02d}\")\n",
        "\n",
        "\n"
      ]
    },
    {
      "cell_type": "markdown",
      "metadata": {
        "id": "Ttex6klwpgzr"
      },
      "source": [
        "best answer:"
      ]
    },
    {
      "cell_type": "code",
      "execution_count": null,
      "metadata": {
        "id": "8oyhNAzNpe3K"
      },
      "outputs": [],
      "source": [
        "a, b = input().split()\n",
        "a = int(a)\n",
        "b = int(b)\n",
        "print(\"%02d:%02d\" % ((12 - a) % 12, (60 - b) % 60))\n",
        "\n"
      ]
    },
    {
      "cell_type": "markdown",
      "metadata": {
        "id": "GR8VQNHVuSOs"
      },
      "source": [
        "sort of 3 num:"
      ]
    },
    {
      "cell_type": "code",
      "execution_count": null,
      "metadata": {
        "id": "2wnKeUqSuU0j"
      },
      "outputs": [],
      "source": [
        "a, b , c = 6,6,5\n",
        "if a > b :\n",
        "    a , b = b , a\n",
        "if b > c :\n",
        "    b , c = c , b\n",
        "if a > b :\n",
        "    a , b = b , a\n",
        "print(a , b , c)"
      ]
    },
    {
      "cell_type": "markdown",
      "metadata": {
        "id": "AWANKMa6xt00"
      },
      "source": [
        "compare 2 num:"
      ]
    },
    {
      "cell_type": "code",
      "execution_count": null,
      "metadata": {
        "colab": {
          "base_uri": "https://localhost:8080/"
        },
        "id": "Q1rnt0c4xLrG",
        "outputId": "16a9e579-29e5-4abc-cec9-4386f3cd8de7"
      },
      "outputs": [
        {
          "name": "stdout",
          "output_type": "stream",
          "text": [
            "7\n",
            "7\n",
            "equal\n"
          ]
        }
      ],
      "source": [
        "a = int(input())\n",
        "b = int(input())\n",
        "if a > b :\n",
        "    print(\"first one\")\n",
        "elif a <b :\n",
        "    print(\"second one\")\n",
        "else:\n",
        "    print(\"equal\")"
      ]
    },
    {
      "cell_type": "markdown",
      "metadata": {
        "id": "ryrZBcfey6iP"
      },
      "source": [
        "\"pass\" syntax, means nothing to do:\n"
      ]
    },
    {
      "cell_type": "code",
      "execution_count": null,
      "metadata": {
        "colab": {
          "base_uri": "https://localhost:8080/"
        },
        "id": "1oE9JUSrzDEO",
        "outputId": "228aa59f-b592-4c6b-c58f-7dd8124988e5"
      },
      "outputs": [
        {
          "name": "stdout",
          "output_type": "stream",
          "text": [
            "22\n",
            "hoora\n"
          ]
        }
      ],
      "source": [
        "a = int(input())\n",
        "if 0 <= a <10:\n",
        "    pass\n",
        "else:\n",
        "    print(\"hoora\")"
      ]
    },
    {
      "cell_type": "markdown",
      "metadata": {
        "id": "aNbkzldPzLSg"
      },
      "source": [
        "or:\n"
      ]
    },
    {
      "cell_type": "code",
      "execution_count": null,
      "metadata": {
        "id": "oh4AcDlDzM-W"
      },
      "outputs": [],
      "source": [
        "a = int(input())\n",
        "if not 0 <= a <10:\n",
        "    print(\"hoora\")"
      ]
    },
    {
      "cell_type": "code",
      "execution_count": null,
      "metadata": {
        "id": "00ftrTFh1K7Y"
      },
      "outputs": [],
      "source": [
        "t = int(input())\n",
        "\n",
        "if t > 100:\n",
        "    print('Stream')\n",
        "elif 0 <= t <=100:\n",
        "    print('Water')\n",
        "else:\n",
        "    print('Ice')"
      ]
    },
    {
      "cell_type": "markdown",
      "metadata": {
        "id": "qeFbzCmkDrLk"
      },
      "source": [
        "OR , and , ... conditions:"
      ]
    },
    {
      "cell_type": "code",
      "execution_count": null,
      "metadata": {
        "id": "fz5NJ-luDo5i"
      },
      "outputs": [],
      "source": [
        "if True and False:\n",
        "    print(\"1\")\n",
        "if True or False:\n",
        "    print(\"2\")\n",
        "if True or (True and False) :\n",
        "    print(\"3\")\n",
        "if False and (True or False) :\n",
        "    print(\"4\")"
      ]
    },
    {
      "cell_type": "code",
      "execution_count": null,
      "metadata": {
        "id": "CTWaczkJEHig"
      },
      "outputs": [],
      "source": [
        "a = True\n",
        "b = False\n",
        "print(a and b)\n",
        "print(a or b)\n",
        "print(not b)"
      ]
    },
    {
      "cell_type": "code",
      "execution_count": null,
      "metadata": {
        "colab": {
          "base_uri": "https://localhost:8080/"
        },
        "id": "vXfP4ot5FBEq",
        "outputId": "9539572c-8cc8-42e5-c2d7-b3f96610772b"
      },
      "outputs": [
        {
          "name": "stdout",
          "output_type": "stream",
          "text": [
            "1\n"
          ]
        }
      ],
      "source": [
        "a = 1\n",
        "b = 3\n",
        "print(b and a)"
      ]
    },
    {
      "cell_type": "code",
      "execution_count": null,
      "metadata": {
        "colab": {
          "base_uri": "https://localhost:8080/"
        },
        "id": "65KP-xrVzqE0",
        "outputId": "5a1cafb9-1a8f-4195-f0b3-06488cf16d65"
      },
      "outputs": [
        {
          "name": "stdout",
          "output_type": "stream",
          "text": [
            "2\n",
            "3\n",
            "4\n",
            "good\n"
          ]
        }
      ],
      "source": [
        "A = int(input())\n",
        "B = int(input())\n",
        "C = int(input())\n",
        "\n",
        "if A%2 == 0 or (B%2 == 0 and C%2 == 0):\n",
        "    print('good')\n",
        "else:\n",
        "    prinr('bad')"
      ]
    },
    {
      "cell_type": "code",
      "execution_count": null,
      "metadata": {
        "colab": {
          "base_uri": "https://localhost:8080/"
        },
        "id": "-tn7Px592xcG",
        "outputId": "d1e1db05-84ff-4c81-9ef1-df8129632979"
      },
      "outputs": [
        {
          "name": "stdout",
          "output_type": "stream",
          "text": [
            "4 7 5 574\n"
          ]
        }
      ],
      "source": [
        "a = 475\n",
        "a1 = a // 100          # 4\n",
        "a2 = (a % 100) // 10   # 7\n",
        "a3 = (a % 100) % 10    # 5\n",
        "\n",
        "x = a3*100 + a2*10 + a1\n",
        "print(a1,a2,a3,x)\n"
      ]
    },
    {
      "cell_type": "code",
      "execution_count": null,
      "metadata": {
        "colab": {
          "base_uri": "https://localhost:8080/"
        },
        "id": "nu78SPC9CpG3",
        "outputId": "183f56d2-6453-4675-ccbe-9801d0369781"
      },
      "outputs": [
        {
          "name": "stdout",
          "output_type": "stream",
          "text": [
            "214\n",
            "654\n",
            "214 < 654\n"
          ]
        }
      ],
      "source": [
        "a = int(input())\n",
        "b = int(input())\n",
        "\n",
        "a1 = a // 100          \n",
        "a2 = (a % 100) // 10   \n",
        "a3 = (a % 100) % 10    \n",
        "x = a3*100 + a2*10 + a1\n",
        "# print(x)\n",
        "\n",
        "b1 = b // 100          \n",
        "b2 = (b % 100) // 10   \n",
        "b3 = (b % 100) % 10    \n",
        "y = b3*100 + b2*10 + b1\n",
        "# print(y)\n",
        "\n",
        "\n",
        "if x > y:\n",
        "    print(b , '<', a)\n",
        "elif y > x:\n",
        "    print(a, '<', b)\n",
        "else:\n",
        "    Print(a ,'=', b)"
      ]
    },
    {
      "cell_type": "code",
      "execution_count": null,
      "metadata": {
        "id": "KV26B4twH-Zf"
      },
      "outputs": [],
      "source": [
        "a = int(input())\n",
        "b = int(input())\n",
        "rev_a = a//100 + ((a//10)%10) * 10 + (a%10)* 100\n",
        "rev_b = b//100 + ((b//10)%10) * 10 + (b%10)* 100\n",
        "if rev_a < rev_b:\n",
        "    print(a,'<',b)\n",
        "elif rev_a > rev_b:\n",
        "    print(b,'<',a)\n",
        "else:\n",
        "    print(a,'=',b)\n"
      ]
    },
    {
      "cell_type": "markdown",
      "metadata": {
        "id": "M4vkjf_Gdh2G"
      },
      "source": [
        "calculate 4th corner of rectangle:\n"
      ]
    },
    {
      "cell_type": "code",
      "execution_count": null,
      "metadata": {
        "id": "jgDS0Ce2d4Tn"
      },
      "outputs": [],
      "source": [
        "x1 , y1 = map(int,input().split())\n",
        "x2 , y2 = map(int,input().split())\n",
        "x3 , y3 = map(int,input().split())\n",
        "\n",
        "if (x1 != x2) and (x1 != x3):\n",
        "    x4 = x1\n",
        "elif (x2 != x1) and (x2 != x3):\n",
        "    x4 = x2\n",
        "else:\n",
        "    x4 = x3\n",
        "if (y1 != y2) and (y1 != y3):\n",
        "    y4 = y1\n",
        "elif (y2 != y1) and (y2 != y3):\n",
        "    y4 = y2\n",
        "else:\n",
        "    y4 = y3\n",
        "print(x4,y4)"
      ]
    },
    {
      "cell_type": "markdown",
      "metadata": {
        "id": "1ljyxqzFgoDD"
      },
      "source": [
        "max of 4 num:"
      ]
    },
    {
      "cell_type": "code",
      "execution_count": null,
      "metadata": {
        "colab": {
          "base_uri": "https://localhost:8080/"
        },
        "id": "QALMrWTFgqL9",
        "outputId": "f1c0c3f9-3589-407f-9547-25700b2f32e5"
      },
      "outputs": [
        {
          "name": "stdout",
          "output_type": "stream",
          "text": [
            "3\n",
            "3\n",
            "2\n",
            "2\n",
            "3\n"
          ]
        }
      ],
      "source": [
        "a = int(input())\n",
        "b = int(input())\n",
        "c = int(input())\n",
        "d = int(input())\n",
        "\n",
        "#print(max(a,b,c,d))\n",
        "\n",
        "if a >= b and a >= c and a >= d:\n",
        "    print(a)\n",
        "elif b >= a and b >= c and b >= d:\n",
        "    print(b)\n",
        "elif c >= a and c >= b and c >= d:\n",
        "    print(c)\n",
        "else:\n",
        "    print(d)"
      ]
    },
    {
      "cell_type": "markdown",
      "metadata": {
        "id": "RFUD-CZPYZId"
      },
      "source": [
        "Liteh & Fiteh:"
      ]
    },
    {
      "cell_type": "code",
      "execution_count": null,
      "metadata": {
        "id": "O7Hb6tTo2P4n"
      },
      "outputs": [],
      "source": [
        "a, b, c, d, e = input()\n",
        "\n",
        "R = 0\n",
        "G = 0\n",
        "Y = 0\n",
        "\n",
        "if a == 'G':\n",
        "    G = G + 1\n",
        "elif a == 'Y':\n",
        "    Y = Y + 1\n",
        "elif a == 'R':\n",
        "    R = R + 1\n",
        "# -------------------------------\n",
        "if b == 'G':\n",
        "    G = G + 1\n",
        "elif b == 'Y':\n",
        "    Y = Y + 1\n",
        "elif b == 'R':\n",
        "    R = R + 1\n",
        "# -------------------------------\n",
        "if d == 'G':\n",
        "    G = G + 1\n",
        "elif d == 'Y':\n",
        "    Y = Y + 1\n",
        "elif d == 'R':\n",
        "    R = R + 1\n",
        "#--------------------------------\n",
        "if c == 'G':\n",
        "    G = G + 1\n",
        "elif c == 'Y':\n",
        "    Y = Y + 1\n",
        "elif c == 'R':\n",
        "    R = R + 1\n",
        "#--------------------------------\n",
        "if e == 'G':\n",
        "    G = G + 1\n",
        "elif e == 'Y':\n",
        "    Y = Y + 1\n",
        "elif e == 'R':\n",
        "    R = R + 1\n",
        "#---------------------------------\n",
        "#---------------------------------\n",
        "if R >= 3 or (R >= 2 and Y >= 2) or Y == 5 or G == 0:\n",
        "    print('nakhor lite')\n",
        "else:\n",
        "    print('rahat baash')\n",
        "print (R,Y,G)"
      ]
    },
    {
      "cell_type": "markdown",
      "metadata": {
        "id": "tCcirNbyycnI"
      },
      "source": [
        "if number n is power of 2:"
      ]
    },
    {
      "cell_type": "code",
      "execution_count": null,
      "metadata": {
        "id": "uYq9jJRFygqq"
      },
      "outputs": [],
      "source": [
        "n = int(input())\n",
        "while  n%2 == 0:\n",
        "  n = n/2\n",
        "if n == 1:\n",
        "  print('yes')\n",
        "else:\n",
        "  print('no')"
      ]
    },
    {
      "cell_type": "markdown",
      "metadata": {
        "id": "CbntnIvGToPL"
      },
      "source": [
        "Wooo...w! ex:"
      ]
    },
    {
      "cell_type": "code",
      "execution_count": null,
      "metadata": {
        "colab": {
          "base_uri": "https://localhost:8080/"
        },
        "id": "_9XtjFUCTshC",
        "outputId": "7033fbc5-78fe-4f1b-dd8d-2971f3023217"
      },
      "outputs": [
        {
          "name": "stdout",
          "output_type": "stream",
          "text": [
            "2\n",
            "Woow!\n"
          ]
        }
      ],
      "source": [
        "'''\n",
        "n = int(input())\n",
        "print('W',end='')\n",
        "for i in range(n):\n",
        "  print('o',end='')\n",
        "print('w!')\n",
        "\n",
        "'''\n",
        "# or:\n",
        "\n",
        "n = int(input())\n",
        "x = n * 'o'\n",
        "print('W'+x+'w!')\n"
      ]
    },
    {
      "cell_type": "markdown",
      "metadata": {
        "id": "P9IXgZNDV352"
      },
      "source": [
        "Or this code:"
      ]
    },
    {
      "cell_type": "code",
      "execution_count": null,
      "metadata": {
        "colab": {
          "base_uri": "https://localhost:8080/"
        },
        "id": "id1VAuFLV7HN",
        "outputId": "b703a0ad-196f-4ada-be13-af8b80c30b3e"
      },
      "outputs": [
        {
          "name": "stdout",
          "output_type": "stream",
          "text": [
            "5\n",
            "Wooooow!\n"
          ]
        }
      ],
      "source": [
        "n = int(input())\n",
        "print('W',n*'o','w!', sep='')"
      ]
    },
    {
      "cell_type": "markdown",
      "metadata": {
        "id": "mhu5EK3wXphs"
      },
      "source": [
        "factoriel n:"
      ]
    },
    {
      "cell_type": "code",
      "execution_count": null,
      "metadata": {
        "id": "Y_fmYur8XsWs"
      },
      "outputs": [],
      "source": [
        "n = int(input())\n",
        "f = 1\n",
        "for i in range(1,n+1):\n",
        "    f = f * i\n",
        "print(f)\n",
        "\n",
        "# Or this code:\n",
        "'''\n",
        "a = int(input())\n",
        "\n",
        "fact = 1 \n",
        "\n",
        "while a>0:\n",
        "    fact *= a \n",
        "    a -= 1 \n",
        "    \n",
        "print(fact)\n",
        "'''\n",
        "# Or:\n",
        "'''\n",
        "n = int(input())\n",
        "zarb = 1\n",
        "for i in range (2, n + 1):\n",
        "    zarb = i * zarb\n",
        "\n",
        "print(zarb)\n",
        "'''\n",
        "# Or:\n",
        "'''\n",
        "x = int(input())\n",
        "\n",
        "for i in range(x - 1, 0, -1):\n",
        "    x *= i\n",
        "\n",
        "print(x)\n",
        "'''\n"
      ]
    },
    {
      "cell_type": "markdown",
      "source": [
        "sum of some num until enterance of 0:"
      ],
      "metadata": {
        "id": "cwc0qKIrRGHi"
      }
    },
    {
      "cell_type": "code",
      "execution_count": null,
      "metadata": {
        "colab": {
          "base_uri": "https://localhost:8080/"
        },
        "id": "TFcF3gfAfF17",
        "outputId": "fc056cc2-96e5-4acc-afd2-3a053bf11c6a"
      },
      "outputs": [
        {
          "output_type": "stream",
          "name": "stdout",
          "text": [
            "0\n",
            "0\n"
          ]
        }
      ],
      "source": [
        "sum = 0\n",
        "n = 1\n",
        "while n != 0:\n",
        "    n = int(input())\n",
        "    sum = sum + n\n",
        "print(sum) \n"
      ]
    },
    {
      "cell_type": "markdown",
      "source": [
        "OR:"
      ],
      "metadata": {
        "id": "jkVWzV2gRysG"
      }
    },
    {
      "cell_type": "code",
      "source": [
        "a = int(input())\n",
        "sum = a\n",
        "\n",
        "while True:\n",
        "    n = int(input())\n",
        "    if n != 0:\n",
        "        sum += n\n",
        "    else:\n",
        "        print(sum)\n",
        "        break"
      ],
      "metadata": {
        "id": "FjmO9beeR01F"
      },
      "execution_count": null,
      "outputs": []
    },
    {
      "cell_type": "markdown",
      "source": [
        "OR:\n"
      ],
      "metadata": {
        "id": "mSBrU7y8R2aP"
      }
    },
    {
      "cell_type": "code",
      "source": [
        "sum = 0\n",
        "while True :\n",
        "    x = int(input())\n",
        "    if x == 0:\n",
        "        break\n",
        "    else:\n",
        "        sum += x\n",
        "print(sum)"
      ],
      "metadata": {
        "id": "fcO7HdntR4UK"
      },
      "execution_count": null,
      "outputs": []
    },
    {
      "cell_type": "markdown",
      "source": [
        "sum of x:"
      ],
      "metadata": {
        "id": "W6m_QNkkVxVa"
      }
    },
    {
      "cell_type": "code",
      "source": [
        "n = int(input())\n",
        "while n != 0:\n",
        "    for i in range(n):\n",
        "        print(n)\n",
        "    n = int(input())2\n",
        "     "
      ],
      "metadata": {
        "id": "0hJxOKAtURjb"
      },
      "execution_count": null,
      "outputs": []
    },
    {
      "cell_type": "markdown",
      "source": [
        "or:"
      ],
      "metadata": {
        "id": "9CrznHd2V0Md"
      }
    },
    {
      "cell_type": "code",
      "source": [
        "x = 1\n",
        "while x:\n",
        "\tx = int(input())\n",
        "\tfor i in range(x):\n",
        "\t\tprint(x)"
      ],
      "metadata": {
        "id": "Q-JJBN_nV1YD"
      },
      "execution_count": null,
      "outputs": []
    },
    {
      "cell_type": "code",
      "source": [
        "n = int(input())\n",
        "\n",
        "for i in range(n):\n",
        "    m = int(input())\n",
        "    if m > 3:\n",
        "        print('*')\n",
        "    else:\n",
        "        print(m * '*')"
      ],
      "metadata": {
        "colab": {
          "base_uri": "https://localhost:8080/"
        },
        "id": "raqkO90VZmK5",
        "outputId": "2e466d25-defd-4e50-8256-200f99986dbd"
      },
      "execution_count": null,
      "outputs": [
        {
          "output_type": "stream",
          "name": "stdout",
          "text": [
            "4\n",
            "2\n",
            "**\n",
            "1\n",
            "*\n",
            "3\n",
            "***\n",
            "5\n",
            "*\n"
          ]
        }
      ]
    },
    {
      "cell_type": "markdown",
      "source": [
        "Multiplication Table :"
      ],
      "metadata": {
        "id": "UzYDTdz5cF0Z"
      }
    },
    {
      "cell_type": "code",
      "source": [
        "'''\n",
        "1 2 3 \n",
        "2 4 6 \n",
        "3 6 9 \n",
        "\n",
        "'''\n",
        "n = int(input())\n",
        "for i in range(1,n+1):\n",
        "    for j in range(1,n+1):\n",
        "      print (i*j, end=' ')\n",
        "    print()\n",
        "     "
      ],
      "metadata": {
        "colab": {
          "base_uri": "https://localhost:8080/"
        },
        "id": "dvsjYgHpcK1I",
        "outputId": "17d90d93-ef91-4491-f005-83d79d130ef2"
      },
      "execution_count": null,
      "outputs": [
        {
          "output_type": "stream",
          "name": "stdout",
          "text": [
            "5\n",
            "1 2 3 4 5 \n",
            "2 4 6 8 10 \n",
            "3 6 9 12 15 \n",
            "4 8 12 16 20 \n",
            "5 10 15 20 25 \n"
          ]
        }
      ]
    },
    {
      "cell_type": "markdown",
      "source": [
        "**inverse number:**"
      ],
      "metadata": {
        "id": "urlIuGCJ7aVU"
      }
    },
    {
      "cell_type": "code",
      "source": [
        "n = int(input())\n",
        "a=0\n",
        "while n>0 :\n",
        "    a *= 10\n",
        "    a = a + (n % 10)\n",
        "    n = n // 10\n",
        "\n",
        "print(a)"
      ],
      "metadata": {
        "id": "2sl8Rbv09uQ_"
      },
      "execution_count": null,
      "outputs": []
    },
    {
      "cell_type": "markdown",
      "source": [
        "OR:"
      ],
      "metadata": {
        "id": "yVX9tOY7-mAZ"
      }
    },
    {
      "cell_type": "code",
      "source": [
        "# Inverse num:\n",
        "\n",
        "n = int(input())\n",
        "s = str(n)\n",
        "i = len(s)-1\n",
        "s_new = ''\n",
        "while i >= 0:\n",
        "  s_new = s_new + s[i]\n",
        "  i = i -1\n",
        "n_new = int(s_new)\n",
        "print(n_new)\n"
      ],
      "metadata": {
        "colab": {
          "base_uri": "https://localhost:8080/"
        },
        "id": "k8bVc4VCyhI9",
        "outputId": "614157a2-c0a9-43b2-d1c8-20ebd60651ea"
      },
      "execution_count": null,
      "outputs": [
        {
          "output_type": "stream",
          "name": "stdout",
          "text": [
            "210254\n",
            "452012\n"
          ]
        }
      ]
    },
    {
      "cell_type": "markdown",
      "source": [
        "OR"
      ],
      "metadata": {
        "id": "HNO4iZWRA6iL"
      }
    },
    {
      "cell_type": "code",
      "source": [
        "import math\n",
        "a = int(input())\n",
        "b = 0\n",
        "while a > 0 :\n",
        "    b = b * 10 + a % 10\n",
        "    a = math.floor(a / 10)\n",
        "print(b)\n",
        "\n"
      ],
      "metadata": {
        "colab": {
          "base_uri": "https://localhost:8080/"
        },
        "id": "2yV6TjCEAFZy",
        "outputId": "aeda5bee-18e6-47d9-a86f-4608aca940f1"
      },
      "execution_count": null,
      "outputs": [
        {
          "output_type": "execute_result",
          "data": {
            "text/plain": [
              "0"
            ]
          },
          "metadata": {},
          "execution_count": 4
        }
      ]
    },
    {
      "cell_type": "markdown",
      "source": [
        "# sum of digid of num until 1 digid:"
      ],
      "metadata": {
        "id": "N6mCQX80LtHG"
      }
    },
    {
      "cell_type": "code",
      "source": [
        "n = int(input())\n",
        "#digit_sum = 0\n",
        "while n >= 10:\n",
        "    digit_sum = 0\n",
        "    while n > 0:\n",
        "        digit_sum += n % 10\n",
        "        n //= 10\n",
        "    n = digit_sum\n",
        "print(n)"
      ],
      "metadata": {
        "colab": {
          "base_uri": "https://localhost:8080/"
        },
        "id": "7PwCW1IuLr82",
        "outputId": "3d191f11-f282-4a2d-97e6-db29295728b7"
      },
      "execution_count": null,
      "outputs": [
        {
          "output_type": "stream",
          "name": "stdout",
          "text": [
            "20202145\n",
            "7\n"
          ]
        }
      ]
    },
    {
      "cell_type": "markdown",
      "source": [
        "# Poopak_sleep_Tile:\n"
      ],
      "metadata": {
        "id": "jcxJvYe7WdUW"
      }
    },
    {
      "cell_type": "code",
      "source": [
        "# Poopak_sleep\n",
        "\n",
        "a = int(input())\n",
        "b = int(input())\n",
        "x = int(input())\n",
        "s1 = []\n",
        "for i in range(1,a+1):\n",
        "    if a % i == 0:\n",
        "      s1.append(i)\n",
        "#print(s1)\n",
        "s2 = []\n",
        "for j in range(1,b+1):\n",
        "    if b % j == 0:\n",
        "      s2.append(j)\n",
        "#print(s2)\n",
        "c = 0\n",
        "for i in range(len(s1)):\n",
        "  for j in range(len(s2)):\n",
        "      if s1[i]+s2[j] <= x:\n",
        "         c = c + 1\n",
        "print(c)\n",
        "\n",
        "\n"
      ],
      "metadata": {
        "id": "PWH1PGcEWtY9"
      },
      "execution_count": null,
      "outputs": []
    },
    {
      "cell_type": "markdown",
      "source": [
        "# OR:"
      ],
      "metadata": {
        "id": "NoSC1lb4cKqW"
      }
    },
    {
      "cell_type": "code",
      "source": [
        "# Poopak_sleep\n",
        "\n",
        "a, b, x = map(int,input().split())\n",
        "c = 0\n",
        "for i in range(1,a+1):\n",
        "    if a % i == 0:\n",
        "      for j in range(1,b+1):\n",
        "        if b % j == 0:\n",
        "          if i + j <= x:\n",
        "            c = c +1 \n",
        "\n",
        "print(c)"
      ],
      "metadata": {
        "colab": {
          "base_uri": "https://localhost:8080/"
        },
        "id": "pkTITdsJYz_m",
        "outputId": "172e0aba-928f-4aed-8a2f-cf7b1c5f3d98"
      },
      "execution_count": null,
      "outputs": [
        {
          "output_type": "stream",
          "name": "stdout",
          "text": [
            "12 6 4\n",
            "6\n"
          ]
        }
      ]
    },
    {
      "cell_type": "markdown",
      "source": [
        "# OR"
      ],
      "metadata": {
        "id": "32FMH7m_ftQt"
      }
    },
    {
      "cell_type": "code",
      "source": [
        "# Poopak_sleep\n",
        "\n",
        "a, b, x = input().split()\n",
        "a, b, x = int(a), int(b), int(x)\n",
        "ans = 0\n",
        "for i in range(1,a+1):\n",
        "    for j in range(1,b+1):\n",
        "        if a % i == 0 and b % j == 0 and i + j <= x:\n",
        "            ans += 1\n",
        "print(ans)\n"
      ],
      "metadata": {
        "id": "oknmc6YDfu1E"
      },
      "execution_count": null,
      "outputs": []
    },
    {
      "cell_type": "code",
      "source": [
        "a = 11\n",
        "b = 12\n",
        "def f():\n",
        " if a < b :\n",
        "   return b\n",
        "#else: // this line is not needed!\n",
        " return a\n",
        "\n",
        "f()"
      ],
      "metadata": {
        "colab": {
          "base_uri": "https://localhost:8080/"
        },
        "id": "7qnvYXAajhX2",
        "outputId": "b1568671-c729-4021-afcb-f916cf941324"
      },
      "execution_count": null,
      "outputs": [
        {
          "output_type": "execute_result",
          "data": {
            "text/plain": [
              "12"
            ]
          },
          "metadata": {},
          "execution_count": 46
        }
      ]
    },
    {
      "cell_type": "code",
      "source": [
        "def func(a):\n",
        "    return(abs(a))\n",
        "a = -3\n",
        "b = 9\n",
        "print(func(a)+func(b))"
      ],
      "metadata": {
        "colab": {
          "base_uri": "https://localhost:8080/"
        },
        "id": "FbqCPrOAsaj3",
        "outputId": "b1bf8b53-51c7-49fa-930a-c0522aa52207"
      },
      "execution_count": null,
      "outputs": [
        {
          "output_type": "stream",
          "name": "stdout",
          "text": [
            "12\n"
          ]
        }
      ]
    },
    {
      "cell_type": "markdown",
      "source": [
        "# Global Variable:"
      ],
      "metadata": {
        "id": "46c0ATeSwBaE"
      }
    },
    {
      "cell_type": "code",
      "source": [
        "count = 0\n",
        "\n",
        "def plus(a, b):\n",
        "    global count  \n",
        "    if(a + b > 0):\n",
        "        count += 1\n",
        "\n",
        "def minus(a, b):    \n",
        "    global count    \n",
        "    if(a - b > 0):\n",
        "        count += 1\n",
        "\n",
        "def mult(a, b):    \n",
        "    global count   \n",
        "    if(a * b > 0):\n",
        "        count += 1\n",
        "\n",
        "\n",
        "a, b = map(int, input().split())\n",
        "plus(a, b)\n",
        "minus(a, b)\n",
        "mult(a, b)\n",
        "print(count)"
      ],
      "metadata": {
        "colab": {
          "base_uri": "https://localhost:8080/"
        },
        "id": "1cGFqU_EvPOU",
        "outputId": "f4136bff-ebdd-4d89-ce84-d4cc8407c948"
      },
      "execution_count": null,
      "outputs": [
        {
          "output_type": "stream",
          "name": "stdout",
          "text": [
            "5 9\n",
            "2\n"
          ]
        }
      ]
    },
    {
      "cell_type": "markdown",
      "source": [
        "# Prime_num:"
      ],
      "metadata": {
        "id": "6n4wteKvzQ5j"
      }
    },
    {
      "cell_type": "code",
      "source": [
        "# prime nums\n",
        "\n",
        "a = int(input())\n",
        "b = int(input())\n",
        "def is_prime(n):\n",
        "    aval = True\n",
        "    for i in range(2, n):\n",
        "      if n%i ==0:\n",
        "        aval = False\n",
        "    return aval\t  \n",
        "\n",
        "for i in range(a,b+1):\n",
        "   if is_prime(i) and i != 1:\n",
        "       print (i)\n",
        "    \n"
      ],
      "metadata": {
        "id": "pIHEhLvPzTub"
      },
      "execution_count": null,
      "outputs": []
    },
    {
      "cell_type": "markdown",
      "source": [
        "# OR:"
      ],
      "metadata": {
        "id": "gPpnsaDNFvST"
      }
    },
    {
      "cell_type": "code",
      "source": [
        "def is_prime(num):\n",
        "    if num == 1:\n",
        "        return 0\n",
        "    for i in range(2, num):\n",
        "        if num % i == 0:\n",
        "            return 0\n",
        "    return 1\n",
        "    \n",
        "a = int(input())\n",
        "b = int(input())\n",
        "for i in range(a, b+1):\n",
        "    if is_prime(i) == 1:\n",
        "        print(i)"
      ],
      "metadata": {
        "id": "dChTeApTFxJ7"
      },
      "execution_count": null,
      "outputs": []
    },
    {
      "cell_type": "code",
      "source": [
        "n = int(input())\n",
        "def zoj(n):\n",
        "    if n % 2 == 0:\n",
        "        print('zoj')\n",
        "        print(n +2)\n",
        "    else:\n",
        "      print('fard')\n",
        "      print(n+1)\n",
        "zoj(n)"
      ],
      "metadata": {
        "colab": {
          "base_uri": "https://localhost:8080/"
        },
        "id": "5aexN7x6KZxN",
        "outputId": "4936d899-8a5f-43dd-e62d-8ff146b02c46"
      },
      "execution_count": null,
      "outputs": [
        {
          "output_type": "stream",
          "name": "stdout",
          "text": [
            "2\n",
            "zoj\n",
            "4\n"
          ]
        }
      ]
    },
    {
      "cell_type": "markdown",
      "source": [
        "# Good Nums:"
      ],
      "metadata": {
        "id": "MI_00LvyvpJB"
      }
    },
    {
      "cell_type": "code",
      "source": [
        "\n",
        "def f(k):\n",
        "  k = int (input())\n",
        "  c = 0\n",
        "  n = 0\n",
        "  i = 1\n",
        "  while c <= k:\n",
        "      n = i\n",
        "      print('i:',i)\n",
        "      print('n:',n)\n",
        "      for j in range(1 , i+1):\n",
        "          if n % j == 0:\n",
        "            c = c + 1\n",
        "            print('c:',c)\n",
        "      i = i + 1\n",
        "  #return n\n",
        "f(k)\n"
      ],
      "metadata": {
        "id": "F-PpAYKqvs01"
      },
      "execution_count": null,
      "outputs": []
    },
    {
      "cell_type": "code",
      "source": [
        "n = int(input())\n",
        "def f(n):\n",
        "    c = 0\n",
        "    for i in range(1,n+1):\n",
        "        if n%i == 0:\n",
        "            c = c + 1\n",
        "    return c\n",
        "f(n)\n",
        "\n",
        "\n",
        "'''\n",
        "\n",
        "i = 0\n",
        "n = 0\n",
        "while f(n) <= k:\n",
        "  i = i + 1\n",
        "  n = i\n",
        "print(n)\n",
        "'''\n",
        "  \n"
      ],
      "metadata": {
        "id": "J7ViJrcjP1aA"
      },
      "execution_count": null,
      "outputs": []
    },
    {
      "cell_type": "markdown",
      "source": [
        "# bmm of 2 nums"
      ],
      "metadata": {
        "id": "tV_d2xM0xAG5"
      }
    },
    {
      "cell_type": "code",
      "source": [
        "n = int(input())\n",
        "def gcd(a,b):\n",
        "  for i in range(1, a+b):\n",
        "    x = a+b - i \n",
        "    if a%x == 0 and b%x == 0 :\n",
        "        return x\n",
        "def lcm(a,b):\n",
        "    return (a*b)/gcd(a,b)\n",
        "\n",
        "\n",
        "def lcm_prime(n):\n",
        "    answer = 1\n",
        "    for i in range(1,n):\n",
        "        if gcd(i, n) == 1:\n",
        "            answer =  int(lcm(answer , i))\n",
        "    return answer\n",
        "\n",
        "lcm_prime(n)\n"
      ],
      "metadata": {
        "colab": {
          "base_uri": "https://localhost:8080/"
        },
        "id": "_fBfTmC4cIOE",
        "outputId": "6a4a2d2a-c135-44fe-8c27-fff17289362b"
      },
      "execution_count": 34,
      "outputs": [
        {
          "name": "stdout",
          "output_type": "stream",
          "text": [
            "8\n"
          ]
        },
        {
          "output_type": "execute_result",
          "data": {
            "text/plain": [
              "105"
            ]
          },
          "metadata": {},
          "execution_count": 34
        }
      ]
    },
    {
      "cell_type": "code",
      "source": [
        "\n",
        "def gcd(x,y):\n",
        "    for i in range(x,0,-1):\n",
        "        if x % i == 0 and y % i == 0:\n",
        "            return i\n",
        "def lcm(x,y):\n",
        "    return x * y // gcd(x,y)\n",
        "n = int(input())\n",
        "ans = 1\n",
        "for i in range(1,n):\n",
        "    if gcd(i,n) == 1:\n",
        "        ans = lcm(ans,i)\n",
        "print(ans)\n"
      ],
      "metadata": {
        "colab": {
          "base_uri": "https://localhost:8080/"
        },
        "id": "Jx53J6434pG3",
        "outputId": "8384c255-ec57-488f-b906-b1595219ffa9"
      },
      "execution_count": 35,
      "outputs": [
        {
          "output_type": "stream",
          "name": "stdout",
          "text": [
            "5\n",
            "12\n"
          ]
        }
      ]
    },
    {
      "cell_type": "markdown",
      "source": [
        "# Sange Paa-india-Shayan:"
      ],
      "metadata": {
        "id": "8r3vUdi1-zHf"
      }
    },
    {
      "cell_type": "code",
      "source": [
        "n_sp = int(input())\n",
        "for i in range(n_sp):\n",
        "  w_sp = int(input())\n",
        "\n",
        "def is_prime(n):\n",
        "  aval = True\n",
        "  for i in range(2,n):\n",
        "    if n % i == 0:\n",
        "      aval = False\n",
        "  return aval\n",
        "c = 0\n",
        "if is_prime(w_sp):\n",
        "  for j in range(1,n):\n",
        "    if is_prime(j):\n",
        "      c = c + 1\n",
        "else:\n",
        "  for i in range(1,w_sp+1):\n",
        "    if w_sp % i == 0 and is_prime(i):\n",
        "      c = c + 1\n",
        "#final_price = c * n_sp\n",
        "print(final_price)\n",
        "\n"
      ],
      "metadata": {
        "colab": {
          "base_uri": "https://localhost:8080/"
        },
        "id": "_PXpNmrt-5nV",
        "outputId": "79e41424-8572-4c2d-d6de-2f54db3f533f"
      },
      "execution_count": 40,
      "outputs": [
        {
          "output_type": "stream",
          "name": "stdout",
          "text": [
            "7\n",
            "1\n",
            "3\n"
          ]
        }
      ]
    },
    {
      "cell_type": "code",
      "source": [],
      "metadata": {
        "id": "4bXaL24KxE-7"
      },
      "execution_count": null,
      "outputs": []
    }
  ],
  "metadata": {
    "colab": {
      "provenance": [],
      "authorship_tag": "ABX9TyMPuw9OZYe2cnKHt/cfkbWh",
      "include_colab_link": true
    },
    "kernelspec": {
      "display_name": "Python 3",
      "name": "python3"
    },
    "language_info": {
      "name": "python"
    }
  },
  "nbformat": 4,
  "nbformat_minor": 0
}