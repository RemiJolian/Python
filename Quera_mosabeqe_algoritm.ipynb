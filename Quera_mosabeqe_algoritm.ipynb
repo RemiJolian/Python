{
  "nbformat": 4,
  "nbformat_minor": 0,
  "metadata": {
    "colab": {
      "provenance": [],
      "authorship_tag": "ABX9TyPptZiDqNeref/ojlepLdMZ",
      "include_colab_link": true
    },
    "kernelspec": {
      "name": "python3",
      "display_name": "Python 3"
    },
    "language_info": {
      "name": "python"
    }
  },
  "cells": [
    {
      "cell_type": "markdown",
      "metadata": {
        "id": "view-in-github",
        "colab_type": "text"
      },
      "source": [
        "<a href=\"https://colab.research.google.com/github/RemiJolian/Python/blob/main/Quera_mosabeqe_algoritm.ipynb\" target=\"_parent\"><img src=\"https://colab.research.google.com/assets/colab-badge.svg\" alt=\"Open In Colab\"/></a>"
      ]
    },
    {
      "cell_type": "markdown",
      "source": [
        "4 nums:"
      ],
      "metadata": {
        "id": "rLfiG443a2Rp"
      }
    },
    {
      "cell_type": "code",
      "execution_count": null,
      "metadata": {
        "id": "lv7Q8CmWW04E"
      },
      "outputs": [],
      "source": [
        "#4nums\n",
        "n, a, b, c, d = map(int,input().split())\n",
        "count = 0\n",
        "for i in range(1,n+1):\n",
        "  if i % a == 0 or i % b == 0 or i % c == 0 or i % d == 0 :\n",
        "    count += 1\n",
        "print(count)\n",
        "\n"
      ]
    },
    {
      "cell_type": "markdown",
      "source": [
        "# ekhtelas:"
      ],
      "metadata": {
        "id": "tWwlTlIXa6aG"
      }
    },
    {
      "cell_type": "code",
      "source": [
        "n = int(input())\n",
        "name_b = ' '\n",
        "max = 0\n",
        "for i in range(n):\n",
        "  name, ekht = map(str,input().split())\n",
        "  if int(ekht) > max:\n",
        "    max = int(ekht)\n",
        "    name_b = name\n",
        "print (name_b)\n"
      ],
      "metadata": {
        "id": "uuMkIO3ma9E6"
      },
      "execution_count": null,
      "outputs": []
    },
    {
      "cell_type": "markdown",
      "source": [
        "# simplify of string"
      ],
      "metadata": {
        "id": "LSxY3XbZeNeE"
      }
    },
    {
      "cell_type": "code",
      "source": [
        "n = int(input())\n",
        "s =input()\n",
        "s2 = []\n",
        "for i in range(1,n):\n",
        "  if s[i] != s[i-1]:\n",
        "    s2.append(s[i])\n",
        "    \n",
        "\n",
        "print(s2)\n"
      ],
      "metadata": {
        "id": "81zw2EI_eSag"
      },
      "execution_count": null,
      "outputs": []
    },
    {
      "cell_type": "code",
      "source": [
        "n = 8\n",
        "s = 'dacbbcdc'\n",
        "s2 = ''\n",
        "for i in range(1,n):\n",
        "  if s[i] != s[i-1]:\n",
        "    s2 += s[i-1]\n",
        "    \n",
        "\n",
        "print(s2)"
      ],
      "metadata": {
        "id": "R4eQUzvqfaC2",
        "colab": {
          "base_uri": "https://localhost:8080/"
        },
        "outputId": "fd0a338f-12ab-4e67-850f-9398a5c57a6e"
      },
      "execution_count": null,
      "outputs": [
        {
          "output_type": "stream",
          "name": "stdout",
          "text": [
            "dacbcd\n"
          ]
        }
      ]
    },
    {
      "cell_type": "markdown",
      "source": [
        "# Shokolat froshi:"
      ],
      "metadata": {
        "id": "yqVZPvip5D_o"
      }
    },
    {
      "cell_type": "code",
      "source": [
        "b, c = map(int,input().split())\n",
        "n_array = list(map(int,input().split()))\n",
        "n = len(n_array)\n",
        "flage = False\n",
        "for i in range(n):\n",
        "    for j in range(n):\n",
        "       if (n_array[i] + n_array[j]) % c == 0 and (i != j):\n",
        "         flage = True\n",
        "         break\n",
        "if flage or n_array == [0]:\n",
        "  print('YES')\n",
        "else:\n",
        "  print('NO')\n",
        "      \n"
      ],
      "metadata": {
        "colab": {
          "base_uri": "https://localhost:8080/"
        },
        "id": "Ce0CxqWW5Ini",
        "outputId": "3dfa87e9-c658-4050-f41d-788906fb11d0"
      },
      "execution_count": null,
      "outputs": [
        {
          "output_type": "stream",
          "name": "stdout",
          "text": [
            "1 101\n",
            "0\n",
            "YES\n"
          ]
        }
      ]
    }
  ]
}