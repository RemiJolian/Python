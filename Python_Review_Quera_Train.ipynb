{
  "nbformat": 4,
  "nbformat_minor": 0,
  "metadata": {
    "colab": {
      "provenance": [],
      "authorship_tag": "ABX9TyOOKVdZT4mhdnx4NucJxQli",
      "include_colab_link": true
    },
    "kernelspec": {
      "name": "python3",
      "display_name": "Python 3"
    },
    "language_info": {
      "name": "python"
    }
  },
  "cells": [
    {
      "cell_type": "markdown",
      "metadata": {
        "id": "view-in-github",
        "colab_type": "text"
      },
      "source": [
        "<a href=\"https://colab.research.google.com/github/RemiJolian/Python/blob/main/Python_Review_Quera_Train.ipynb\" target=\"_parent\"><img src=\"https://colab.research.google.com/assets/colab-badge.svg\" alt=\"Open In Colab\"/></a>"
      ]
    },
    {
      "cell_type": "markdown",
      "source": [
        "# search a string in  a string  \n"
      ],
      "metadata": {
        "id": "ltwIdSyFLrtI"
      }
    },
    {
      "cell_type": "code",
      "execution_count": null,
      "metadata": {
        "colab": {
          "base_uri": "https://localhost:8080/"
        },
        "id": "DhbNUrlADu_M",
        "outputId": "2e596a60-797d-4a44-e910-e1df050103cf"
      },
      "outputs": [
        {
          "output_type": "stream",
          "name": "stdout",
          "text": [
            "abcdefcghtyjcdoil\n",
            "cd\n",
            "ans: 3\n",
            "efcghtyjcdoil\n",
            "ans: 7\n",
            "oil\n"
          ]
        }
      ],
      "source": [
        "# search a string in  a string  \n",
        "s = input()\n",
        "q = input()\n",
        "ans = 0\n",
        "for i in range(len(s)):\n",
        "  if q in s:\n",
        "    index = s.index(q[0])\n",
        "    print('index:',index)\n",
        "    ans += index \n",
        "    print('ans:', ans + 1)\n",
        "    k = s.index(q[len(q)-1]) + 1\n",
        "    s = s[k::]\n",
        "    ans = ans + len(q)\n",
        "    print(s)\n",
        "    "
      ]
    },
    {
      "cell_type": "markdown",
      "source": [
        "another exc on list:"
      ],
      "metadata": {
        "id": "5T6oKN8qPk7I"
      }
    },
    {
      "cell_type": "code",
      "source": [
        "\n",
        "    "
      ],
      "metadata": {
        "colab": {
          "base_uri": "https://localhost:8080/"
        },
        "id": "qjWeeHF5PqcZ",
        "outputId": "67f2cf2f-2625-45db-e9c0-972a46385f28"
      },
      "execution_count": null,
      "outputs": [
        {
          "output_type": "stream",
          "name": "stdout",
          "text": [
            "5 3\n",
            "1 2 3 4 5\n",
            "0 to 2\n",
            "1 to 3\n",
            "2 to 4\n"
          ]
        }
      ]
    },
    {
      "cell_type": "code",
      "source": [],
      "metadata": {
        "id": "bLuBzIMNSgNn"
      },
      "execution_count": null,
      "outputs": []
    }
  ]
}