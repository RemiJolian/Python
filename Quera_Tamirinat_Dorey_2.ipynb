{
  "nbformat": 4,
  "nbformat_minor": 0,
  "metadata": {
    "colab": {
      "provenance": [],
      "authorship_tag": "ABX9TyPZv7Yws5f8m7Fhsyor8Eay",
      "include_colab_link": true
    },
    "kernelspec": {
      "name": "python3",
      "display_name": "Python 3"
    },
    "language_info": {
      "name": "python"
    }
  },
  "cells": [
    {
      "cell_type": "markdown",
      "metadata": {
        "id": "view-in-github",
        "colab_type": "text"
      },
      "source": [
        "<a href=\"https://colab.research.google.com/github/RemiJolian/Python/blob/main/Quera_Tamirinat_Dorey_2.ipynb\" target=\"_parent\"><img src=\"https://colab.research.google.com/assets/colab-badge.svg\" alt=\"Open In Colab\"/></a>"
      ]
    },
    {
      "cell_type": "markdown",
      "source": [
        "Kappi Virus"
      ],
      "metadata": {
        "id": "1y_4Hiak7KsV"
      }
    },
    {
      "cell_type": "code",
      "execution_count": null,
      "metadata": {
        "colab": {
          "base_uri": "https://localhost:8080/"
        },
        "id": "LBRbspda7Dxz",
        "outputId": "d31528a9-44a3-4422-d9d6-0f9505e8cb90"
      },
      "outputs": [
        {
          "output_type": "stream",
          "name": "stdout",
          "text": [
            "4 zzz\n",
            "copy of copy of copy of copy of zzz\n"
          ]
        }
      ],
      "source": [
        "n , s = map(str,input().split())\n",
        "n = int(n)\n",
        "for i in range(n): \n",
        " print('copy of',end=' ')\n",
        "print(s)"
      ]
    },
    {
      "cell_type": "markdown",
      "source": [
        "OR"
      ],
      "metadata": {
        "id": "0i3iI7g98efx"
      }
    },
    {
      "cell_type": "code",
      "source": [
        "string = input().split()\n",
        "print(int(string[0]) * \"copy of \" + string[1])"
      ],
      "metadata": {
        "id": "OuCzzh7n8f0G"
      },
      "execution_count": null,
      "outputs": []
    },
    {
      "cell_type": "code",
      "source": [
        "string = input().split()\n",
        "print(int(string[0]) * 'copy of '+ string[1])"
      ],
      "metadata": {
        "colab": {
          "base_uri": "https://localhost:8080/"
        },
        "id": "fI35IbeJ8nG4",
        "outputId": "5fe8030f-83df-4e32-ca6c-960546d6d37a"
      },
      "execution_count": null,
      "outputs": [
        {
          "output_type": "stream",
          "name": "stdout",
          "text": [
            "3 qqq\n",
            "copy of copy of copy of  qqq\n"
          ]
        }
      ]
    }
  ]
}