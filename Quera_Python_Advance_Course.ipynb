{
  "nbformat": 4,
  "nbformat_minor": 0,
  "metadata": {
    "colab": {
      "provenance": [],
      "authorship_tag": "ABX9TyMREKmGacslPqA5QtAJ9T7H",
      "include_colab_link": true
    },
    "kernelspec": {
      "name": "python3",
      "display_name": "Python 3"
    },
    "language_info": {
      "name": "python"
    }
  },
  "cells": [
    {
      "cell_type": "markdown",
      "metadata": {
        "id": "view-in-github",
        "colab_type": "text"
      },
      "source": [
        "<a href=\"https://colab.research.google.com/github/RemiJolian/Python/blob/main/Quera_Python_Advance_Course.ipynb\" target=\"_parent\"><img src=\"https://colab.research.google.com/assets/colab-badge.svg\" alt=\"Open In Colab\"/></a>"
      ]
    },
    {
      "cell_type": "markdown",
      "source": [
        "# Quera_Python_Advance_Course"
      ],
      "metadata": {
        "id": "8t02VnksciiE"
      }
    },
    {
      "cell_type": "markdown",
      "source": [
        "First,Review:"
      ],
      "metadata": {
        "id": "RqKqCxTScmho"
      }
    },
    {
      "cell_type": "code",
      "source": [
        "n = float(input())\n",
        "print(int(n))\n",
        "print(type(n))"
      ],
      "metadata": {
        "id": "QbNoJ6NTctTV"
      },
      "execution_count": null,
      "outputs": []
    },
    {
      "cell_type": "code",
      "source": [
        "t = int(input())\n",
        "\n",
        "if t >100:\n",
        "    print('Steam')\n",
        "elif t < 0:\n",
        "    print('Ice')\n",
        "else:\n",
        "    print('Water')"
      ],
      "metadata": {
        "id": "h9FJ__kHc9ue"
      },
      "execution_count": null,
      "outputs": []
    },
    {
      "cell_type": "code",
      "source": [
        "s = [['s', 'd', 'f', 'g'], ['e', 'd']]\n",
        "for word in s:\n",
        "    for ch in word:\n",
        "        print(ch,end=' ')"
      ],
      "metadata": {
        "colab": {
          "base_uri": "https://localhost:8080/"
        },
        "id": "485O4vu6mZAs",
        "outputId": "d7ddc9c3-68bc-4f5d-a5c6-d4efa29f53d2"
      },
      "execution_count": null,
      "outputs": [
        {
          "output_type": "stream",
          "name": "stdout",
          "text": [
            "s d f g e d "
          ]
        }
      ]
    },
    {
      "cell_type": "code",
      "source": [
        "words = ['salam', 'khoobi?', 'na']\n",
        "\n",
        "for i in range(len(words)):\n",
        "    print(words[i])\n",
        "\n",
        "for i in range(0, len(words), 2):\n",
        "    print(\" *** \" + words[i])"
      ],
      "metadata": {
        "colab": {
          "base_uri": "https://localhost:8080/"
        },
        "id": "lPCcutxhnN0G",
        "outputId": "9b18a6d4-bce9-45d5-b186-8883367fca9a"
      },
      "execution_count": null,
      "outputs": [
        {
          "output_type": "stream",
          "name": "stdout",
          "text": [
            "salam\n",
            "khoobi?\n",
            "na\n",
            " *** salam\n",
            " *** na\n"
          ]
        }
      ]
    },
    {
      "cell_type": "markdown",
      "source": [
        "Jadval Zarb:"
      ],
      "metadata": {
        "id": "EwpsNOm9r0Mv"
      }
    },
    {
      "cell_type": "code",
      "source": [
        "n = int(input())\n",
        "\n",
        "for i in range(1,n+1):\n",
        "    for j in range(1,n+1):\n",
        "        print(i*j,end=' ')\n",
        "    print()"
      ],
      "metadata": {
        "id": "tS2Y6jfGpXd8"
      },
      "execution_count": null,
      "outputs": []
    }
  ]
}