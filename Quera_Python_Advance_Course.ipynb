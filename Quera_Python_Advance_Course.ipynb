{
  "nbformat": 4,
  "nbformat_minor": 0,
  "metadata": {
    "colab": {
      "provenance": [],
      "authorship_tag": "ABX9TyOa6eQX7WUjiSjZiBaYByIO",
      "include_colab_link": true
    },
    "kernelspec": {
      "name": "python3",
      "display_name": "Python 3"
    },
    "language_info": {
      "name": "python"
    }
  },
  "cells": [
    {
      "cell_type": "markdown",
      "metadata": {
        "id": "view-in-github",
        "colab_type": "text"
      },
      "source": [
        "<a href=\"https://colab.research.google.com/github/RemiJolian/Python/blob/main/Quera_Python_Advance_Course.ipynb\" target=\"_parent\"><img src=\"https://colab.research.google.com/assets/colab-badge.svg\" alt=\"Open In Colab\"/></a>"
      ]
    },
    {
      "cell_type": "markdown",
      "source": [
        "# Quera_Python_Advance_Course"
      ],
      "metadata": {
        "id": "8t02VnksciiE"
      }
    },
    {
      "cell_type": "markdown",
      "source": [
        "First,Review:"
      ],
      "metadata": {
        "id": "RqKqCxTScmho"
      }
    },
    {
      "cell_type": "code",
      "source": [
        "n = float(input())\n",
        "print(int(n))\n",
        "print(type(n))"
      ],
      "metadata": {
        "id": "QbNoJ6NTctTV"
      },
      "execution_count": null,
      "outputs": []
    },
    {
      "cell_type": "code",
      "source": [
        "t = int(input())\n",
        "\n",
        "if t >100:\n",
        "    print('Steam')\n",
        "elif t < 0:\n",
        "    print('Ice')\n",
        "else:\n",
        "    print('Water')"
      ],
      "metadata": {
        "id": "h9FJ__kHc9ue"
      },
      "execution_count": null,
      "outputs": []
    },
    {
      "cell_type": "code",
      "source": [
        "s = [['s', 'd', 'f', 'g'], ['e', 'd']]\n",
        "for word in s:\n",
        "    for ch in word:\n",
        "        print(ch,end=' ')"
      ],
      "metadata": {
        "colab": {
          "base_uri": "https://localhost:8080/"
        },
        "id": "485O4vu6mZAs",
        "outputId": "d7ddc9c3-68bc-4f5d-a5c6-d4efa29f53d2"
      },
      "execution_count": null,
      "outputs": [
        {
          "output_type": "stream",
          "name": "stdout",
          "text": [
            "s d f g e d "
          ]
        }
      ]
    },
    {
      "cell_type": "code",
      "source": [
        "words = ['salam', 'khoobi?', 'na']\n",
        "\n",
        "for i in range(len(words)):\n",
        "    print(words[i])\n",
        "\n",
        "for i in range(0, len(words), 2):\n",
        "    print(\" *** \" + words[i])"
      ],
      "metadata": {
        "colab": {
          "base_uri": "https://localhost:8080/"
        },
        "id": "lPCcutxhnN0G",
        "outputId": "9b18a6d4-bce9-45d5-b186-8883367fca9a"
      },
      "execution_count": null,
      "outputs": [
        {
          "output_type": "stream",
          "name": "stdout",
          "text": [
            "salam\n",
            "khoobi?\n",
            "na\n",
            " *** salam\n",
            " *** na\n"
          ]
        }
      ]
    },
    {
      "cell_type": "markdown",
      "source": [
        "Jadval Zarb:"
      ],
      "metadata": {
        "id": "EwpsNOm9r0Mv"
      }
    },
    {
      "cell_type": "code",
      "source": [
        "n = int(input())\n",
        "\n",
        "for i in range(1,n+1):\n",
        "    for j in range(1,n+1):\n",
        "        print(i*j,end=' ')\n",
        "    print()"
      ],
      "metadata": {
        "id": "tS2Y6jfGpXd8"
      },
      "execution_count": null,
      "outputs": []
    },
    {
      "cell_type": "markdown",
      "source": [
        "kochektarin mazrab:"
      ],
      "metadata": {
        "id": "Mlr3hikvfpNe"
      }
    },
    {
      "cell_type": "code",
      "source": [
        "p, d = map(int,input().split()) \n",
        "\n",
        "i = 1 \n",
        "while (i*d) % p > (p/2):\n",
        "    i = i + 1\n",
        "print(i*d)"
      ],
      "metadata": {
        "colab": {
          "base_uri": "https://localhost:8080/"
        },
        "id": "iUJWM930m8Qq",
        "outputId": "38500c0c-3c52-434c-fa11-d422e25167d1"
      },
      "execution_count": 15,
      "outputs": [
        {
          "output_type": "stream",
          "name": "stdout",
          "text": [
            "8 7\n",
            "28\n"
          ]
        }
      ]
    },
    {
      "cell_type": "markdown",
      "source": [
        "combination, or tarjib in math, tabe' entekhabi:"
      ],
      "metadata": {
        "id": "KHUuijn79k2Q"
      }
    },
    {
      "cell_type": "code",
      "source": [
        "def comb(n, k):\n",
        "    import math\n",
        "    if n >= k:\n",
        "        t = math.factorial(n-k)\n",
        "        n = math.factorial(n)\n",
        "        k = math.factorial(k)\n",
        "        return int(n/(t * k))\n",
        "    else:\n",
        "        return 0\n",
        "comb(10,2)"
      ],
      "metadata": {
        "colab": {
          "base_uri": "https://localhost:8080/"
        },
        "id": "AQKIk7lDq6Tf",
        "outputId": "d18fd6f9-7484-4f24-84c2-aaf34f9b4795"
      },
      "execution_count": 7,
      "outputs": [
        {
          "output_type": "execute_result",
          "data": {
            "text/plain": [
              "0"
            ]
          },
          "metadata": {},
          "execution_count": 7
        }
      ]
    },
    {
      "cell_type": "markdown",
      "source": [
        "OR:"
      ],
      "metadata": {
        "id": "3KJCjDEn9ujv"
      }
    },
    {
      "cell_type": "code",
      "source": [
        "def comb(n, k):\n",
        "    ans = 1\n",
        "    for i in range(n-k+1, n+1):\n",
        "        ans *= i\n",
        "    for i in range(1, k+1):\n",
        "        ans /= i\n",
        "    return ans\n"
      ],
      "metadata": {
        "id": "Efq3fA5G9wbE"
      },
      "execution_count": null,
      "outputs": []
    },
    {
      "cell_type": "code",
      "source": [
        "from math import factorial as f\n",
        "def comb(n, k):\n",
        "    if k>n:\n",
        "        return 0\n",
        "    else:\n",
        "        return (f(n)/(f(k)*f(n-k)))\n",
        "    pass\n",
        "\n",
        "    \n"
      ],
      "metadata": {
        "id": "cjc8jonV-STn"
      },
      "execution_count": null,
      "outputs": []
    },
    {
      "cell_type": "markdown",
      "source": [
        "and OR:"
      ],
      "metadata": {
        "id": "-dUGPw_F-jgB"
      }
    },
    {
      "cell_type": "code",
      "source": [
        "def comb(n, k):\n",
        "    if k == 0 :\n",
        "        return 1\n",
        "    elif k == 1 :\n",
        "        return n\n",
        "    elif k == n :\n",
        "        return 1\n",
        "    elif k > n :\n",
        "        return 0\n",
        "    else :\n",
        "        return fac(n) / (fac(k) * fac(n - k))\n",
        "\n",
        "def fac(n) :\n",
        "    if n == 0 or n == 1 :\n",
        "        return 1\n",
        "    temp = 1\n",
        "    for i in range(2, n + 1) :\n",
        "        temp *= i\n",
        "    return temp"
      ],
      "metadata": {
        "id": "GKBvqBfp-lsy"
      },
      "execution_count": null,
      "outputs": []
    },
    {
      "cell_type": "code",
      "source": [
        "import math\n",
        "\n",
        "\n",
        "def comb(n, k):\n",
        "    if n - k < 0:\n",
        "        return 0\n",
        "    return math.factorial(n) // (math.factorial(k) * math.factorial(n - k))"
      ],
      "metadata": {
        "id": "zCk82Lnk-syv"
      },
      "execution_count": null,
      "outputs": []
    },
    {
      "cell_type": "markdown",
      "source": [
        "Use math Library:"
      ],
      "metadata": {
        "id": "eJX41ayHKYEN"
      }
    },
    {
      "cell_type": "code",
      "source": [
        "import math\n",
        "print(math.gcd(4,24))\n",
        "print(math.fabs(-3))\n",
        "print(math.factorial(4))\n",
        "print(math.pow(2,8))  # 2 ^^ 3\n",
        "print(math.log(2.718))\n",
        "print(math.log(8,2))\n",
        "print(math.sqrt(25))  #jazr\n",
        "print(math.sin(3))   # sinos\n",
        "print(math.radians(8)) # degree to radian\n",
        "print('--------')\n",
        "print(math.pi)"
      ],
      "metadata": {
        "colab": {
          "base_uri": "https://localhost:8080/"
        },
        "id": "8TwTjPvDKA7j",
        "outputId": "a98243ea-d0f2-4464-d0f9-0d69358cab8b"
      },
      "execution_count": 24,
      "outputs": [
        {
          "output_type": "stream",
          "name": "stdout",
          "text": [
            "4\n",
            "3.0\n",
            "24\n",
            "256.0\n",
            "0.999896315728952\n",
            "3.0\n",
            "5.0\n",
            "0.1411200080598672\n",
            "0.13962634015954636\n",
            "--------\n",
            "3.141592653589793\n"
          ]
        }
      ]
    }
  ]
}