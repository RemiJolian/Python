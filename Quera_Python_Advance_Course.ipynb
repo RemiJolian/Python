{
  "nbformat": 4,
  "nbformat_minor": 0,
  "metadata": {
    "colab": {
      "provenance": [],
      "authorship_tag": "ABX9TyNaOM9xMYViOCFAhk3I383m",
      "include_colab_link": true
    },
    "kernelspec": {
      "name": "python3",
      "display_name": "Python 3"
    },
    "language_info": {
      "name": "python"
    }
  },
  "cells": [
    {
      "cell_type": "markdown",
      "metadata": {
        "id": "view-in-github",
        "colab_type": "text"
      },
      "source": [
        "<a href=\"https://colab.research.google.com/github/RemiJolian/Python/blob/main/Quera_Python_Advance_Course.ipynb\" target=\"_parent\"><img src=\"https://colab.research.google.com/assets/colab-badge.svg\" alt=\"Open In Colab\"/></a>"
      ]
    },
    {
      "cell_type": "markdown",
      "source": [
        "# Quera_Python_Advance_Course"
      ],
      "metadata": {
        "id": "8t02VnksciiE"
      }
    },
    {
      "cell_type": "markdown",
      "source": [
        "First,Review:"
      ],
      "metadata": {
        "id": "RqKqCxTScmho"
      }
    },
    {
      "cell_type": "code",
      "source": [
        "n = float(input())\n",
        "print(int(n))\n",
        "print(type(n))"
      ],
      "metadata": {
        "id": "QbNoJ6NTctTV"
      },
      "execution_count": null,
      "outputs": []
    },
    {
      "cell_type": "code",
      "source": [
        "t = int(input())\n",
        "\n",
        "if t >100:\n",
        "    print('Steam')\n",
        "elif t < 0:\n",
        "    print('Ice')\n",
        "else:\n",
        "    print('Water')"
      ],
      "metadata": {
        "id": "h9FJ__kHc9ue"
      },
      "execution_count": null,
      "outputs": []
    },
    {
      "cell_type": "code",
      "source": [
        "s = [['s', 'd', 'f', 'g'], ['e', 'd']]\n",
        "for word in s:\n",
        "    for ch in word:\n",
        "        print(ch,end=' ')"
      ],
      "metadata": {
        "colab": {
          "base_uri": "https://localhost:8080/"
        },
        "id": "485O4vu6mZAs",
        "outputId": "d7ddc9c3-68bc-4f5d-a5c6-d4efa29f53d2"
      },
      "execution_count": null,
      "outputs": [
        {
          "output_type": "stream",
          "name": "stdout",
          "text": [
            "s d f g e d "
          ]
        }
      ]
    },
    {
      "cell_type": "code",
      "source": [
        "words = ['salam', 'khoobi?', 'na']\n",
        "\n",
        "for i in range(len(words)):\n",
        "    print(words[i])\n",
        "\n",
        "for i in range(0, len(words), 2):\n",
        "    print(\" *** \" + words[i])"
      ],
      "metadata": {
        "colab": {
          "base_uri": "https://localhost:8080/"
        },
        "id": "lPCcutxhnN0G",
        "outputId": "9b18a6d4-bce9-45d5-b186-8883367fca9a"
      },
      "execution_count": null,
      "outputs": [
        {
          "output_type": "stream",
          "name": "stdout",
          "text": [
            "salam\n",
            "khoobi?\n",
            "na\n",
            " *** salam\n",
            " *** na\n"
          ]
        }
      ]
    },
    {
      "cell_type": "markdown",
      "source": [
        "Jadval Zarb:"
      ],
      "metadata": {
        "id": "EwpsNOm9r0Mv"
      }
    },
    {
      "cell_type": "code",
      "source": [
        "n = int(input())\n",
        "\n",
        "for i in range(1,n+1):\n",
        "    for j in range(1,n+1):\n",
        "        print(i*j,end=' ')\n",
        "    print()"
      ],
      "metadata": {
        "id": "tS2Y6jfGpXd8"
      },
      "execution_count": null,
      "outputs": []
    },
    {
      "cell_type": "markdown",
      "source": [
        "kochektarin mazrab:"
      ],
      "metadata": {
        "id": "Mlr3hikvfpNe"
      }
    },
    {
      "cell_type": "code",
      "source": [
        "p, d = map(int,input().split()) \n",
        "\n",
        "i = 1 \n",
        "while (i*d) % p > (p/2):\n",
        "    i = i + 1\n",
        "print(i*d)"
      ],
      "metadata": {
        "colab": {
          "base_uri": "https://localhost:8080/"
        },
        "id": "iUJWM930m8Qq",
        "outputId": "38500c0c-3c52-434c-fa11-d422e25167d1"
      },
      "execution_count": null,
      "outputs": [
        {
          "output_type": "stream",
          "name": "stdout",
          "text": [
            "8 7\n",
            "28\n"
          ]
        }
      ]
    },
    {
      "cell_type": "markdown",
      "source": [
        "combination, or tarjib in math, tabe' entekhabi:"
      ],
      "metadata": {
        "id": "KHUuijn79k2Q"
      }
    },
    {
      "cell_type": "code",
      "source": [
        "def comb(n, k):\n",
        "    import math\n",
        "    if n >= k:\n",
        "        t = math.factorial(n-k)\n",
        "        n = math.factorial(n)\n",
        "        k = math.factorial(k)\n",
        "        return int(n/(t * k))\n",
        "    else:\n",
        "        return 0\n",
        "comb(10,2)"
      ],
      "metadata": {
        "colab": {
          "base_uri": "https://localhost:8080/"
        },
        "id": "AQKIk7lDq6Tf",
        "outputId": "d18fd6f9-7484-4f24-84c2-aaf34f9b4795"
      },
      "execution_count": null,
      "outputs": [
        {
          "output_type": "execute_result",
          "data": {
            "text/plain": [
              "0"
            ]
          },
          "metadata": {},
          "execution_count": 7
        }
      ]
    },
    {
      "cell_type": "markdown",
      "source": [
        "OR:"
      ],
      "metadata": {
        "id": "3KJCjDEn9ujv"
      }
    },
    {
      "cell_type": "code",
      "source": [
        "def comb(n, k):\n",
        "    ans = 1\n",
        "    for i in range(n-k+1, n+1):\n",
        "        ans *= i\n",
        "    for i in range(1, k+1):\n",
        "        ans /= i\n",
        "    return ans\n"
      ],
      "metadata": {
        "id": "Efq3fA5G9wbE"
      },
      "execution_count": null,
      "outputs": []
    },
    {
      "cell_type": "code",
      "source": [
        "from math import factorial as f\n",
        "def comb(n, k):\n",
        "    if k>n:\n",
        "        return 0\n",
        "    else:\n",
        "        return (f(n)/(f(k)*f(n-k)))\n",
        "    pass\n",
        "\n",
        "    \n"
      ],
      "metadata": {
        "id": "cjc8jonV-STn"
      },
      "execution_count": null,
      "outputs": []
    },
    {
      "cell_type": "markdown",
      "source": [
        "and OR:"
      ],
      "metadata": {
        "id": "-dUGPw_F-jgB"
      }
    },
    {
      "cell_type": "code",
      "source": [
        "def comb(n, k):\n",
        "    if k == 0 :\n",
        "        return 1\n",
        "    elif k == 1 :\n",
        "        return n\n",
        "    elif k == n :\n",
        "        return 1\n",
        "    elif k > n :\n",
        "        return 0\n",
        "    else :\n",
        "        return fac(n) / (fac(k) * fac(n - k))\n",
        "\n",
        "def fac(n) :\n",
        "    if n == 0 or n == 1 :\n",
        "        return 1\n",
        "    temp = 1\n",
        "    for i in range(2, n + 1) :\n",
        "        temp *= i\n",
        "    return temp"
      ],
      "metadata": {
        "id": "GKBvqBfp-lsy"
      },
      "execution_count": null,
      "outputs": []
    },
    {
      "cell_type": "code",
      "source": [
        "import math\n",
        "\n",
        "\n",
        "def comb(n, k):\n",
        "    if n - k < 0:\n",
        "        return 0\n",
        "    return math.factorial(n) // (math.factorial(k) * math.factorial(n - k))"
      ],
      "metadata": {
        "id": "zCk82Lnk-syv"
      },
      "execution_count": null,
      "outputs": []
    },
    {
      "cell_type": "markdown",
      "source": [
        "Use math Library:"
      ],
      "metadata": {
        "id": "eJX41ayHKYEN"
      }
    },
    {
      "cell_type": "code",
      "source": [
        "import math\n",
        "print(math.gcd(4,24)) #greatest common factor number that divides them\n",
        "print(math.fabs(-3))\n",
        "print(math.factorial(4))\n",
        "print(math.pow(2,8))  # 2 ^^ 3\n",
        "print(math.log(8))\n",
        "print(math.log(8,2)) # = 3, 2 ^^ 3 = 8\n",
        "print(math.sqrt(25))  #jazr\n",
        "print(math.sin(3))   # sinos\n",
        "print(math.radians(8)) # degree to radian\n",
        "print(math.floor(3.2))\n",
        "print('--------')\n",
        "print(math.pi)  # 3.14159..."
      ],
      "metadata": {
        "colab": {
          "base_uri": "https://localhost:8080/"
        },
        "id": "8TwTjPvDKA7j",
        "outputId": "a98243ea-d0f2-4464-d0f9-0d69358cab8b"
      },
      "execution_count": null,
      "outputs": [
        {
          "output_type": "stream",
          "name": "stdout",
          "text": [
            "4\n",
            "3.0\n",
            "24\n",
            "256.0\n",
            "0.999896315728952\n",
            "3.0\n",
            "5.0\n",
            "0.1411200080598672\n",
            "0.13962634015954636\n",
            "--------\n",
            "3.141592653589793\n"
          ]
        }
      ]
    },
    {
      "cell_type": "markdown",
      "source": [
        "Mohasebat sakht:"
      ],
      "metadata": {
        "id": "VGkh1oOmA4ub"
      }
    },
    {
      "cell_type": "code",
      "source": [
        "import math\n",
        "def f(x):\n",
        "   \n",
        "    m = math.pow(x,5/3) + math.tan(math.radians(x))\n",
        "    m = math.floor(m)\n",
        "    n = math.pow(math.pi,(2 + math.atan((math.sin(math.radians(x)) ** 2))))\n",
        "    n = math.floor(n)\n",
        "    return math.gcd(m,n)\n",
        "f(5)"
      ],
      "metadata": {
        "colab": {
          "base_uri": "https://localhost:8080/"
        },
        "id": "z8AY96euA71g",
        "outputId": "37c1d2f6-b43d-4fec-bdb7-0669d1aa2f1c"
      },
      "execution_count": null,
      "outputs": [
        {
          "output_type": "execute_result",
          "data": {
            "text/plain": [
              "1"
            ]
          },
          "metadata": {},
          "execution_count": 26
        }
      ]
    },
    {
      "cell_type": "markdown",
      "source": [
        "# Date and time Library:"
      ],
      "metadata": {
        "id": "jkJoC2d3Sk-G"
      }
    },
    {
      "cell_type": "code",
      "source": [
        "from datetime import time       # time and date are read only.\n",
        "t = time(17,21,22)\n",
        "print(t)\n",
        "\n",
        "from datetime import date\n",
        "d = date(2023,5,27)\n",
        "print(d)"
      ],
      "metadata": {
        "colab": {
          "base_uri": "https://localhost:8080/"
        },
        "id": "kT6ev6rESqGp",
        "outputId": "8aa5711b-5e5e-47de-f70c-7acf56543858"
      },
      "execution_count": null,
      "outputs": [
        {
          "output_type": "stream",
          "name": "stdout",
          "text": [
            "17:21:22\n",
            "2023-05-27\n"
          ]
        }
      ]
    },
    {
      "cell_type": "code",
      "source": [
        "from datetime import datetime\n",
        "dt = datetime(2022,5,14,14,29,30)\n",
        "print(dt)"
      ],
      "metadata": {
        "colab": {
          "base_uri": "https://localhost:8080/"
        },
        "id": "ap_LmVBrUpAQ",
        "outputId": "2a24c9ea-4ac3-4668-9358-733a97923294"
      },
      "execution_count": null,
      "outputs": [
        {
          "output_type": "stream",
          "name": "stdout",
          "text": [
            "2022-05-14 14:29:30\n"
          ]
        }
      ]
    },
    {
      "cell_type": "code",
      "source": [
        "datetime.now()"
      ],
      "metadata": {
        "colab": {
          "base_uri": "https://localhost:8080/"
        },
        "id": "AmQnP-V_VRSy",
        "outputId": "ecf39f1b-f755-4da9-e149-2593c7378ad1"
      },
      "execution_count": null,
      "outputs": [
        {
          "output_type": "execute_result",
          "data": {
            "text/plain": [
              "datetime.datetime(2023, 5, 11, 6, 43, 20, 525712)"
            ]
          },
          "metadata": {},
          "execution_count": 36
        }
      ]
    },
    {
      "cell_type": "markdown",
      "source": [
        "How to convert string to date:"
      ],
      "metadata": {
        "id": "itx7wqLRiYcD"
      }
    },
    {
      "cell_type": "code",
      "source": [
        "from datetime import datetime\n",
        "date = datetime.strptime('2005-01-06', '%Y-%m-%d')\n",
        "print(\"day:\", date.day)\n",
        "print(\"month:\", date.month)\n",
        "print(\"year:\", date.year)"
      ],
      "metadata": {
        "id": "akfkODUXidsl"
      },
      "execution_count": null,
      "outputs": []
    },
    {
      "cell_type": "markdown",
      "source": [
        "# Chan rozeshe?Sajad:"
      ],
      "metadata": {
        "id": "nJyU-POVfD6Y"
      }
    },
    {
      "cell_type": "markdown",
      "source": [
        "this solution is wrong, notice:   # why? becuase we do not use datetime library in line ...:"
      ],
      "metadata": {
        "id": "LecSnIc3mnrx"
      }
    },
    {
      "cell_type": "code",
      "source": [
        "def day_calculator(date_inter):\n",
        "\n",
        " from datetime import datetime\n",
        " date_inter = datetime.strptime('2005-01-06', '%Y-%m-%d')\n",
        " sajad_b = date.time.striptime('1999-01-14', 'Y-%m-%d')\n",
        " y = (date_inter.year - sajad_b.year) * 365\n",
        " m = (date_inter.mounth - sajad_b.mounth) * 30\n",
        " d = (date_inter.day - sajad_b)\n",
        " if y < 0 or (y == 0 and m < 0):\n",
        "    return 'Not yet born'\n",
        " else:\n",
        "    ans = y + m + d\n",
        "    return ans"
      ],
      "metadata": {
        "id": "g5pL6JO1fJK2"
      },
      "execution_count": null,
      "outputs": []
    },
    {
      "cell_type": "markdown",
      "source": [
        "This is ok:"
      ],
      "metadata": {
        "id": "EeBu3jrGydO2"
      }
    },
    {
      "cell_type": "code",
      "source": [
        "def calculate_date(date_inter):\n",
        "  from datetime import datetime\n",
        "  date_inter = datetime.strptime('2018-10-12', '%Y-%m-%d')\n",
        "  sajad_b = datetime.strptime('1999-01-14', '%Y-%m-%d')\n",
        "  div = (date_inter - sajad_b).days\n",
        "  if div < 0:\n",
        "    return \"Not born yet\"\n",
        "  else:\n",
        "    return div\n",
        "\n",
        "calculate_date('1999-08-07')\n"
      ],
      "metadata": {
        "id": "PlZ14j9yjsZx"
      },
      "execution_count": null,
      "outputs": []
    },
    {
      "cell_type": "code",
      "source": [
        "from datetime import datetime\n",
        "  date_inter = datetime.strptime('2018-10-12', '%Y-%m-%d')"
      ],
      "metadata": {
        "id": "scrSyTygzFo-"
      },
      "execution_count": null,
      "outputs": []
    },
    {
      "cell_type": "markdown",
      "source": [
        "notice this point:"
      ],
      "metadata": {
        "id": "iDdNz8KXneoU"
      }
    },
    {
      "cell_type": "code",
      "source": [
        "from datetime import datetime\n",
        "date = datetime.strptime('2005-01-06', '%Y-%m-%d')\n",
        "print(\"day:\", date.day)\n",
        "print(\"month:\", date.month)\n",
        "print(\"year:\", date.year)\n",
        "print(date)"
      ],
      "metadata": {
        "id": "Fs70Y9tgkwMp"
      },
      "execution_count": null,
      "outputs": []
    },
    {
      "cell_type": "markdown",
      "source": [
        "# Strings:"
      ],
      "metadata": {
        "id": "Wz8Ajldt4Dx3"
      }
    },
    {
      "cell_type": "code",
      "source": [
        "s = \"Hello \"\n",
        "t = '!'\n",
        "name = input()\n",
        "print(s + name + t)"
      ],
      "metadata": {
        "id": "vw7fF_pW4GTb"
      },
      "execution_count": null,
      "outputs": []
    },
    {
      "cell_type": "code",
      "source": [
        ">>> s = 'spartacus'\n",
        ">>> s.removeprefix('s')\n",
        "'partacus'\n",
        ">>> s.removeprefix('spar')\n",
        "'tacus'\n",
        ">>> s.removeprefix('part')\n",
        "'spartacus'\n",
        ">>> s.removesuffix('s')\n",
        "'spartacu'\n",
        ">>> s.removesuffix('acus')\n",
        "'spart'\n",
        ">>> s.removesuffix('tacu')\n",
        "'spartacus'"
      ],
      "metadata": {
        "colab": {
          "base_uri": "https://localhost:8080/",
          "height": 35
        },
        "id": "7dnn-Z0l8h6K",
        "outputId": "0bd8ce30-f0e0-4b28-d57e-1fa4d18a11b1"
      },
      "execution_count": null,
      "outputs": [
        {
          "output_type": "execute_result",
          "data": {
            "text/plain": [
              "'spartacus'"
            ],
            "application/vnd.google.colaboratory.intrinsic+json": {
              "type": "string"
            }
          },
          "metadata": {},
          "execution_count": 1
        }
      ]
    },
    {
      "cell_type": "markdown",
      "source": [
        "# Names, Karim:"
      ],
      "metadata": {
        "id": "GOGkhnbkDyz-"
      }
    },
    {
      "cell_type": "code",
      "source": [
        "n = int(input())\n",
        "names = []\n",
        "max = 0          \n",
        "for i in range(n):\n",
        "    name = input()\n",
        "    names.append(name)\n",
        "for i in names:\n",
        "  c = 0\n",
        "  s = []\n",
        "  for j in range(len(i)):\n",
        "     if i[j] not in s:\n",
        "        s.append(i[j])\n",
        "        c += 1\n",
        "  s = []\n",
        "  if max <= c:\n",
        "    max = c\n",
        "\n",
        "print(max)\n",
        "\n"
      ],
      "metadata": {
        "id": "3V9ribj0D2X3"
      },
      "execution_count": null,
      "outputs": []
    },
    {
      "cell_type": "code",
      "source": [
        "n = int(input())\n",
        "ans = 0\n",
        "for i in range(n):\n",
        "\tname = input()\n",
        "\tdif = \"\"\n",
        "\tfor j in name:\n",
        "\t\tif j not in dif:\n",
        "\t\t\tdif = dif + j\n",
        "\tans = max(ans, len(dif))\n",
        "print(ans)"
      ],
      "metadata": {
        "id": "FItcfMDbzXyB"
      },
      "execution_count": null,
      "outputs": []
    },
    {
      "cell_type": "markdown",
      "source": [
        "and OR"
      ],
      "metadata": {
        "id": "H1NTF0x3zguy"
      }
    },
    {
      "cell_type": "code",
      "source": [
        "n=int(input())\n",
        "l=[]\n",
        "for i in range(n):\n",
        "    l.append(len(set(input())))\n",
        "\n",
        "print(int(max(l)))\n"
      ],
      "metadata": {
        "id": "xRY-GOMzzjYA"
      },
      "execution_count": null,
      "outputs": []
    },
    {
      "cell_type": "markdown",
      "source": [
        "# Password(ramz of gawsandogh):"
      ],
      "metadata": {
        "id": "0I0E-auUoz6h"
      }
    },
    {
      "cell_type": "code",
      "source": [
        "k = int(input())             \n",
        "password = input()            \n",
        "selector = []\n",
        "ans = 0\n",
        "for i in range(len(password)):\n",
        "  selector.append(input())    \n",
        "for i in range(k):\n",
        "  for j in range(9):\n",
        "    if password[i] == selector[i][j]:\n",
        "      break\n",
        "  if j > 9//2:\n",
        "    ans += 9 - j\n",
        "  else:\n",
        "    ans += j\n",
        "print(ans)\n"
      ],
      "metadata": {
        "id": "_5_gfgKmpDHd"
      },
      "execution_count": null,
      "outputs": []
    },
    {
      "cell_type": "markdown",
      "source": [
        "# OR these answer:"
      ],
      "metadata": {
        "id": "LI6mHfMF1g4E"
      }
    },
    {
      "cell_type": "code",
      "source": [
        "k = int(input())\n",
        "password = input()\n",
        "ans = 0\n",
        "for i in password:\n",
        "\tselector = input()\n",
        "\tmoves = selector.find(i)\n",
        "\tans = ans + min(moves, 9 - moves)\n",
        "print(ans)"
      ],
      "metadata": {
        "id": "ROGSf-kb1i0f"
      },
      "execution_count": null,
      "outputs": []
    },
    {
      "cell_type": "code",
      "source": [
        "def kooch(a, b,):\n",
        "    l=[]\n",
        "    b =str(b)+ '.'\n",
        "    h = str(b).split(str(a))\n",
        "    for x in h:\n",
        "        l.append(len(x))\n",
        "\n",
        "    return min(l)\n",
        "\n",
        "k = int(input())\n",
        "r = input()\n",
        "d = list(r)\n",
        "o=0\n",
        "w=0\n",
        "while o<k:\n",
        "    w += kooch(d[o],b = input())\n",
        "    o+=1\n",
        "print(w)"
      ],
      "metadata": {
        "id": "8fVcJv3R1oMa"
      },
      "execution_count": null,
      "outputs": []
    },
    {
      "cell_type": "code",
      "source": [
        "def jash(adad, reshte):\n",
        "    ja = reshte.index(adad)\n",
        "    if ja>4:\n",
        "        return (9 - ja)\n",
        "    else:\n",
        "        return ja\n",
        "k = int(input())\n",
        "rkr = input()\n",
        "ans = 0\n",
        "for i in range(k):\n",
        "    charkh = input()\n",
        "    ans += jash(rkr[i], charkh)\n",
        "print(ans)  "
      ],
      "metadata": {
        "id": "Vb_i2xCg10l8"
      },
      "execution_count": null,
      "outputs": []
    },
    {
      "cell_type": "code",
      "source": [
        "k = int(input())\n",
        "code = input()\n",
        "count = 0\n",
        "for i in range(k):\n",
        "    order = input()\n",
        "    index = order.find(code[i])        \n",
        "\n",
        "    if(index <= 4):\n",
        "        count += index\n",
        "    else:\n",
        "        count += ((8 - index) + 1)\n",
        "print(count)"
      ],
      "metadata": {
        "id": "MFtMexXW17VZ"
      },
      "execution_count": null,
      "outputs": []
    },
    {
      "cell_type": "markdown",
      "source": [
        "% d"
      ],
      "metadata": {
        "id": "AEC05pi8-2SY"
      }
    },
    {
      "cell_type": "markdown",
      "source": [
        "# string"
      ],
      "metadata": {
        "id": "E9RDCIA7IT6j"
      }
    },
    {
      "cell_type": "code",
      "source": [
        "age = 12\n",
        "height = 178.5\n",
        "isMale = True\n",
        "f'Age : {age}, Height : {height}, Gender : {isMale}'"
      ],
      "metadata": {
        "id": "6tOUfaDXMj_C"
      },
      "execution_count": null,
      "outputs": []
    },
    {
      "cell_type": "code",
      "source": [
        "variable = 5\n",
        "f\"{variable=}\""
      ],
      "metadata": {
        "id": "OYryh8EEJgJ8"
      },
      "execution_count": null,
      "outputs": []
    },
    {
      "cell_type": "code",
      "source": [
        "greeting = \"Hello %s!\"\n",
        "name = input(\"Please enter your name:\\n\")\n",
        "print(greeting % name)"
      ],
      "metadata": {
        "id": "3w1QETL-JaqQ"
      },
      "execution_count": null,
      "outputs": []
    },
    {
      "cell_type": "code",
      "source": [
        "greeting = \"Hello %s with %d years old!\"\n",
        "name = input(\"Please enter your name:\\n\")\n",
        "age = int(input(\"Please enter your age:\\n\"))\n",
        "print(greeting % (name, age))"
      ],
      "metadata": {
        "id": "vCFf6d9LJXbn"
      },
      "execution_count": null,
      "outputs": []
    },
    {
      "cell_type": "markdown",
      "source": [
        "# format"
      ],
      "metadata": {
        "id": "xdsWjJXuEEfO"
      }
    },
    {
      "cell_type": "code",
      "source": [
        "greeting = \"Hello {} with {} years old!\"\n",
        "name = input(\"Please enter your name:\\n\")\n",
        "age = int(input(\"Please enter your age:\\n\"))\n",
        "print(greeting.format(name, age))"
      ],
      "metadata": {
        "id": "VnbOib5DT5b3"
      },
      "execution_count": null,
      "outputs": []
    },
    {
      "cell_type": "code",
      "source": [
        "\"{:+} {:+} {:+}\".format(241.1, -124.21, 0)\n",
        "#'+241.1 -124.21 +0'  add + sign to positive numbers\n",
        "\"{:.3f} {:.3f}\".format(122, 33.22191)\n",
        "#'122.000 33.222'\n",
        "\"{:b} {:b}\".format(-34, 21)\n",
        "#'-100010 10101'  binary\n",
        "\"{:x} {:x}\".format(241, 124)\n",
        "#'f1 7c' mabnaye 16\n",
        "\"{:o} {:o}\".format(241, 124)\n",
        "#'361 174' mabnaye 8\n",
        "\"{:0=8} {:1=8} {:2=2}\".format(12, 21.12, 312)\n",
        "#'00000012 11121.12 312' yتا زمانی که طول رشته از \n",
        "x کمتر باشد، به ابتدای آن کاراکتر \n",
        "اضافه میکند\n"
      ],
      "metadata": {
        "id": "nIvn1Eg5ERhh"
      },
      "execution_count": null,
      "outputs": []
    },
    {
      "cell_type": "code",
      "source": [
        "\"Hello {0} with {1} years old!\".format(\"Ali\", \"23\")\n",
        "#'Hello Ali with 23 years old!'\n",
        "\"Hello {name} with {age} years old!\".format(name = \"Ali\", age = \"23\")\n",
        "#'Hello Ali with 23 years old!'\n",
        "\"Hello {0} with {age} years old!\".format(\"Ali\", age = \"23\")\n",
        "#'Hello Ali with 23 years old!'"
      ],
      "metadata": {
        "id": "FSga3W6HLQsZ"
      },
      "execution_count": null,
      "outputs": []
    },
    {
      "cell_type": "code",
      "source": [
        "\"{0:.3f} {0:+}\".format(23.12)\n",
        "#'23.120 +23.12'\n",
        "\"{num:.3f} {num:+}\".format(num=23.12)\n",
        "#'23.120 +23.12'"
      ],
      "metadata": {
        "colab": {
          "base_uri": "https://localhost:8080/",
          "height": 35
        },
        "id": "hUrLtxNSLwjk",
        "outputId": "0f362f1d-4e4f-4a44-b874-d21881e45063"
      },
      "execution_count": null,
      "outputs": [
        {
          "output_type": "execute_result",
          "data": {
            "text/plain": [
              "'23.120 +23.12'"
            ],
            "application/vnd.google.colaboratory.intrinsic+json": {
              "type": "string"
            }
          },
          "metadata": {},
          "execution_count": 9
        }
      ]
    },
    {
      "cell_type": "markdown",
      "source": [
        "Shomordan sakht:"
      ],
      "metadata": {
        "id": "L1YRXhLZaOgY"
      }
    },
    {
      "cell_type": "code",
      "source": [
        "print('{:b}'.format(int(input())).count('1'))"
      ],
      "metadata": {
        "colab": {
          "base_uri": "https://localhost:8080/"
        },
        "id": "8Xgbd5QPaRPY",
        "outputId": "73d7e83f-5fb5-471f-c783-1a846d8d5b68"
      },
      "execution_count": null,
      "outputs": [
        {
          "output_type": "stream",
          "name": "stdout",
          "text": [
            "220\n",
            "5\n"
          ]
        }
      ]
    },
    {
      "cell_type": "code",
      "source": [
        "# and this solution\n",
        "print(bin(int(input())).count('1'))"
      ],
      "metadata": {
        "id": "9po5O_gbbQZt"
      },
      "execution_count": null,
      "outputs": []
    },
    {
      "cell_type": "code",
      "source": [
        "n = int(input())\n",
        "m = '{:b}'.format(n)\n",
        "c = 0\n",
        "for i in m:\n",
        "    if i == '1':\n",
        "        c += 1\n",
        "print(c)"
      ],
      "metadata": {
        "id": "jZbgV8K-abmX"
      },
      "execution_count": null,
      "outputs": []
    },
    {
      "cell_type": "code",
      "source": [
        "mobile_number = input()\n",
        "if len(mobile_number) == 11 and mobile_number.startswith('09') and mobile_number.isdigit(): \n",
        "    print('✅Valid mobile number')\n",
        "else:\n",
        "    print('❌Invalid mobile number')"
      ],
      "metadata": {
        "id": "FNT6zrkXiIpq"
      },
      "execution_count": null,
      "outputs": []
    },
    {
      "cell_type": "code",
      "source": [
        "import re\n",
        "a = 'Python is a object oriented lang.python is a nice lan!'\n",
        "re.findall('th', a)"
      ],
      "metadata": {
        "colab": {
          "base_uri": "https://localhost:8080/"
        },
        "id": "MOW4wBANph0C",
        "outputId": "5195c1d7-1c03-454d-cf0a-25d479b80bab"
      },
      "execution_count": null,
      "outputs": [
        {
          "output_type": "execute_result",
          "data": {
            "text/plain": [
              "['th', 'th']"
            ]
          },
          "metadata": {},
          "execution_count": 16
        }
      ]
    }
  ]
}