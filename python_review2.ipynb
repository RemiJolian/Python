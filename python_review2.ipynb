{
  "nbformat": 4,
  "nbformat_minor": 0,
  "metadata": {
    "colab": {
      "provenance": [],
      "authorship_tag": "ABX9TyM7+rIF6dseKuR66wrYE9EB",
      "include_colab_link": true
    },
    "kernelspec": {
      "name": "python3",
      "display_name": "Python 3"
    },
    "language_info": {
      "name": "python"
    }
  },
  "cells": [
    {
      "cell_type": "markdown",
      "metadata": {
        "id": "view-in-github",
        "colab_type": "text"
      },
      "source": [
        "<a href=\"https://colab.research.google.com/github/RemiJolian/Python/blob/main/python_review2.ipynb\" target=\"_parent\"><img src=\"https://colab.research.google.com/assets/colab-badge.svg\" alt=\"Open In Colab\"/></a>"
      ]
    },
    {
      "cell_type": "markdown",
      "source": [
        "# input list of nums:"
      ],
      "metadata": {
        "id": "rP0iEppv3pxd"
      }
    },
    {
      "cell_type": "code",
      "execution_count": 1,
      "metadata": {
        "colab": {
          "base_uri": "https://localhost:8080/"
        },
        "id": "DQPIBKZ03C6p",
        "outputId": "65be1cce-2b9b-4c91-a851-003a6e7e3366"
      },
      "outputs": [
        {
          "output_type": "stream",
          "name": "stdout",
          "text": [
            "1 2 3 4\n",
            "[1, 2, 3, 4]\n"
          ]
        }
      ],
      "source": [
        "array = [int(x) for x in input().split()]\n",
        "print(array)"
      ]
    },
    {
      "cell_type": "markdown",
      "source": [
        "# OR:"
      ],
      "metadata": {
        "id": "6g2ravSV3yF1"
      }
    },
    {
      "cell_type": "code",
      "source": [
        "array = list(map(int, input().split()))"
      ],
      "metadata": {
        "id": "VFMWcrbw30Jf"
      },
      "execution_count": null,
      "outputs": []
    },
    {
      "cell_type": "markdown",
      "source": [
        "OR2:"
      ],
      "metadata": {
        "id": "BNSzIOLn4Mx3"
      }
    },
    {
      "cell_type": "code",
      "source": [
        "a = []\n",
        "tmp = input().split()\n",
        "for i in range(0, len(tmp)):\n",
        "    x = int(tmp[i])\n",
        "    a.append(x)"
      ],
      "metadata": {
        "id": "Mh6cBp2m4QWw"
      },
      "execution_count": null,
      "outputs": []
    },
    {
      "cell_type": "markdown",
      "source": [
        "Print 2 list"
      ],
      "metadata": {
        "id": "57aYvp2k6TEj"
      }
    },
    {
      "cell_type": "code",
      "source": [
        "array1 = [int(i) for i in input().split()]\n",
        "array2 = [int(j) for j in input().split()]\n",
        "print(*array2,*array1)"
      ],
      "metadata": {
        "id": "_w0B0eQQ6D1v"
      },
      "execution_count": null,
      "outputs": []
    },
    {
      "cell_type": "markdown",
      "source": [
        "OR:"
      ],
      "metadata": {
        "id": "XTS31S1y6zOJ"
      }
    },
    {
      "cell_type": "code",
      "source": [
        "array1 = [int(x) for x in input().split()]\n",
        "array2 = list(map(int, input().split()))\n",
        "for x in array2:\n",
        "    print(x, end=' ')\n",
        "for x in array1:\n",
        "    print(x, end=' ')"
      ],
      "metadata": {
        "id": "g7Gwxxrm60s6"
      },
      "execution_count": null,
      "outputs": []
    },
    {
      "cell_type": "markdown",
      "source": [
        "# list with specific member:"
      ],
      "metadata": {
        "id": "mhv2T3sn_JWT"
      }
    },
    {
      "cell_type": "code",
      "source": [
        "lst = [0] * 100"
      ],
      "metadata": {
        "id": "3rgyXFgx_R4M"
      },
      "execution_count": null,
      "outputs": []
    },
    {
      "cell_type": "markdown",
      "source": [
        "a list from 1 to 100 nums:"
      ],
      "metadata": {
        "id": "aV25qCYvApUw"
      }
    },
    {
      "cell_type": "code",
      "source": [
        "array = list()\n",
        "for i in range(1,101):\n",
        "    array.append(i)\n",
        "print(array)"
      ],
      "metadata": {
        "id": "KDPJKzo7At-V"
      },
      "execution_count": null,
      "outputs": []
    },
    {
      "cell_type": "markdown",
      "source": [
        "OR1:"
      ],
      "metadata": {
        "id": "3xH6WuN-AvgV"
      }
    },
    {
      "cell_type": "code",
      "source": [
        "l = [0] * 100\n",
        "for i in range(100):\n",
        "    l[i] = i + 1\n",
        "print(l)"
      ],
      "metadata": {
        "id": "ynJFOwl9AxqJ"
      },
      "execution_count": null,
      "outputs": []
    },
    {
      "cell_type": "markdown",
      "source": [
        "OR2:"
      ],
      "metadata": {
        "id": "4A9G_nyqA0w1"
      }
    },
    {
      "cell_type": "code",
      "source": [
        "l = [i + 1 for i in range(100)]\n",
        "print(l)"
      ],
      "metadata": {
        "id": "DviXwomeA2ho"
      },
      "execution_count": null,
      "outputs": []
    },
    {
      "cell_type": "markdown",
      "source": [
        "Compare 2 lists:"
      ],
      "metadata": {
        "id": "_4tqqnVxEI7p"
      }
    },
    {
      "cell_type": "code",
      "source": [
        "n = int(input())\n",
        "s1 = list(input())\n",
        "s2 = list(input())\n",
        "e = 0\n",
        "for i in range(n):\n",
        "    if s2[i] != s1[i]:\n",
        "        e += 1\n",
        "print(e)"
      ],
      "metadata": {
        "id": "0aNR5xz-DEje"
      },
      "execution_count": null,
      "outputs": []
    },
    {
      "cell_type": "markdown",
      "source": [
        "Dr.Yosefi and his queiz,wrong code,why:\n"
      ],
      "metadata": {
        "id": "IOMoySv2MTJP"
      }
    },
    {
      "cell_type": "code",
      "source": [
        "n , q = map(int,input().split())\n",
        "array = list(input().split())\n",
        "arr2 = list()\n",
        "for i in range(q):\n",
        "    sum = 0\n",
        "    t, l, r = map(int,input().split()) #t = 1 or 2\n",
        "    if t == 1:\n",
        "        for j in range (l-1,r):\n",
        "            sum += int(array[j])\n",
        "        arr2.append(sum)\n",
        "    elif t == 2:\n",
        "        array[l-1] = array[r-1]\n",
        "        for j in range (l-1,r-1):\n",
        "            array[j+1] = array[j]\n",
        "\n",
        "for i in range(len(arr2)):\n",
        "  print(arr2[i])\n"
      ],
      "metadata": {
        "id": "UH6GQtmdMYhi"
      },
      "execution_count": null,
      "outputs": []
    },
    {
      "cell_type": "markdown",
      "source": [
        "# Dr.Yosefi,correct code:"
      ],
      "metadata": {
        "id": "dbdG9NnW-Nw2"
      }
    },
    {
      "cell_type": "code",
      "source": [
        "n, q = map(int, input().split())\n",
        "a = list(map(int, input().split()))\n",
        "for i in range(q):\n",
        "    t, l, r = map(int, input().split())\n",
        "    l -= 1\n",
        "    r -= 1\n",
        "    if t == 1:\n",
        "        print(sum(a[l:r + 1]))\n",
        "    else:\n",
        "        t = a[r]\n",
        "        for j in range(r - 1, l - 1, -1):\n",
        "            a[j + 1] = a[j]\n",
        "        a[l] = t"
      ],
      "metadata": {
        "id": "NtIXwPPY-TXR"
      },
      "execution_count": null,
      "outputs": []
    },
    {
      "cell_type": "code",
      "source": [
        "#n = int(input())\n",
        "a = list()\n",
        "#n = 1\n",
        "while n != 0 :\n",
        "    n = int(input())\n",
        "    a.append(n)\n",
        "\n",
        "print(a)"
      ],
      "metadata": {
        "colab": {
          "base_uri": "https://localhost:8080/"
        },
        "id": "mB87h9Sa_kAk",
        "outputId": "4cfcbafe-08e2-45fa-b7f2-936a039f13c3"
      },
      "execution_count": 44,
      "outputs": [
        {
          "output_type": "stream",
          "name": "stdout",
          "text": [
            "[]\n"
          ]
        }
      ]
    },
    {
      "cell_type": "code",
      "source": [
        "a = []\n",
        "n = int(input())\n",
        "while n != 0:\n",
        "  a.append(n)\n",
        "  n = int(input())\n",
        "b = a.reverse()\n",
        "print(a)"
      ],
      "metadata": {
        "id": "9lwrnwdDA2lo"
      },
      "execution_count": null,
      "outputs": []
    }
  ]
}