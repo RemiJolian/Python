{
  "cells": [
    {
      "cell_type": "markdown",
      "metadata": {
        "id": "view-in-github",
        "colab_type": "text"
      },
      "source": [
        "<a href=\"https://colab.research.google.com/github/RemiJolian/Python/blob/main/python_review2.ipynb\" target=\"_parent\"><img src=\"https://colab.research.google.com/assets/colab-badge.svg\" alt=\"Open In Colab\"/></a>"
      ]
    },
    {
      "cell_type": "markdown",
      "metadata": {
        "id": "rP0iEppv3pxd"
      },
      "source": [
        "# input list of nums:"
      ]
    },
    {
      "cell_type": "code",
      "execution_count": null,
      "metadata": {
        "colab": {
          "base_uri": "https://localhost:8080/"
        },
        "id": "DQPIBKZ03C6p",
        "outputId": "44968f76-6f24-4414-81c1-0dd2b7518a62"
      },
      "outputs": [
        {
          "name": "stdout",
          "output_type": "stream",
          "text": [
            "1 2 3\n",
            "[1, 2, 3]\n"
          ]
        }
      ],
      "source": [
        "array = [int(x) for x in input().split()]\n",
        "print(array)"
      ]
    },
    {
      "cell_type": "markdown",
      "metadata": {
        "id": "6g2ravSV3yF1"
      },
      "source": [
        "# OR:"
      ]
    },
    {
      "cell_type": "code",
      "execution_count": null,
      "metadata": {
        "colab": {
          "base_uri": "https://localhost:8080/"
        },
        "id": "VFMWcrbw30Jf",
        "outputId": "3290896e-4cf4-4039-9a16-05609ac88c23"
      },
      "outputs": [
        {
          "name": "stdout",
          "output_type": "stream",
          "text": [
            "1 2 3\n",
            "[1, 2, 3]\n"
          ]
        }
      ],
      "source": [
        "array = list(map(int, input().split()))\n",
        "print (array)"
      ]
    },
    {
      "cell_type": "markdown",
      "metadata": {
        "id": "BNSzIOLn4Mx3"
      },
      "source": [
        "OR2:"
      ]
    },
    {
      "cell_type": "code",
      "execution_count": null,
      "metadata": {
        "id": "Mh6cBp2m4QWw"
      },
      "outputs": [],
      "source": [
        "a = []\n",
        "tmp = input().split()\n",
        "for i in range(0, len(tmp)):\n",
        "    x = int(tmp[i])\n",
        "    a.append(x)"
      ]
    },
    {
      "cell_type": "markdown",
      "metadata": {
        "id": "57aYvp2k6TEj"
      },
      "source": [
        "Print 2 list"
      ]
    },
    {
      "cell_type": "code",
      "execution_count": null,
      "metadata": {
        "colab": {
          "base_uri": "https://localhost:8080/"
        },
        "id": "_w0B0eQQ6D1v",
        "outputId": "201ccec5-ca3d-4be3-e7d9-1dd28e65a98b"
      },
      "outputs": [
        {
          "name": "stdout",
          "output_type": "stream",
          "text": [
            "1 2 3\n",
            "4 5 6\n",
            "4 5 6 1 2 3\n"
          ]
        }
      ],
      "source": [
        "array1 = [int(i) for i in input().split()]\n",
        "array2 = [int(j) for j in input().split()]\n",
        "print(*array2,*array1)"
      ]
    },
    {
      "cell_type": "markdown",
      "metadata": {
        "id": "XTS31S1y6zOJ"
      },
      "source": [
        "OR:"
      ]
    },
    {
      "cell_type": "code",
      "execution_count": null,
      "metadata": {
        "colab": {
          "base_uri": "https://localhost:8080/"
        },
        "id": "g7Gwxxrm60s6",
        "outputId": "7236bba5-cf75-46c8-e26f-e4d356f1b66e"
      },
      "outputs": [
        {
          "name": "stdout",
          "output_type": "stream",
          "text": [
            "1 2 3\n",
            "4 5 6\n",
            "4 5 6 1 2 3 "
          ]
        }
      ],
      "source": [
        "array1 = [int(x) for x in input().split()]\n",
        "array2 = list(map(int, input().split()))\n",
        "for x in array2:\n",
        "    print(x, end=' ')\n",
        "for x in array1:\n",
        "    print(x, end=' ')"
      ]
    },
    {
      "cell_type": "markdown",
      "metadata": {
        "id": "mhv2T3sn_JWT"
      },
      "source": [
        "# list with specific member:"
      ]
    },
    {
      "cell_type": "code",
      "execution_count": null,
      "metadata": {
        "id": "3rgyXFgx_R4M"
      },
      "outputs": [],
      "source": [
        "lst = [0] * 100"
      ]
    },
    {
      "cell_type": "markdown",
      "metadata": {
        "id": "aV25qCYvApUw"
      },
      "source": [
        "a list from 1 to 100 nums:"
      ]
    },
    {
      "cell_type": "code",
      "execution_count": null,
      "metadata": {
        "id": "KDPJKzo7At-V"
      },
      "outputs": [],
      "source": [
        "array = list()\n",
        "for i in range(1,101):\n",
        "    array.append(i)\n",
        "print(array)"
      ]
    },
    {
      "cell_type": "markdown",
      "metadata": {
        "id": "3xH6WuN-AvgV"
      },
      "source": [
        "OR1:"
      ]
    },
    {
      "cell_type": "code",
      "execution_count": null,
      "metadata": {
        "colab": {
          "base_uri": "https://localhost:8080/"
        },
        "id": "ynJFOwl9AxqJ",
        "outputId": "5ac1cd5c-166b-4e6b-c800-5b58ac21cf46"
      },
      "outputs": [
        {
          "name": "stdout",
          "output_type": "stream",
          "text": [
            "[1, 2, 3, 4, 5, 6, 7, 8, 9, 10, 11, 12, 13, 14, 15, 16, 17, 18, 19, 20, 21, 22, 23, 24, 25, 26, 27, 28, 29, 30, 31, 32, 33, 34, 35, 36, 37, 38, 39, 40, 41, 42, 43, 44, 45, 46, 47, 48, 49, 50, 51, 52, 53, 54, 55, 56, 57, 58, 59, 60, 61, 62, 63, 64, 65, 66, 67, 68, 69, 70, 71, 72, 73, 74, 75, 76, 77, 78, 79, 80, 81, 82, 83, 84, 85, 86, 87, 88, 89, 90, 91, 92, 93, 94, 95, 96, 97, 98, 99, 100]\n"
          ]
        }
      ],
      "source": [
        "l = [0] * 100\n",
        "for i in range(100):\n",
        "    l[i] = i + 1\n",
        "print(l)"
      ]
    },
    {
      "cell_type": "markdown",
      "metadata": {
        "id": "4A9G_nyqA0w1"
      },
      "source": [
        "OR2:"
      ]
    },
    {
      "cell_type": "code",
      "execution_count": null,
      "metadata": {
        "id": "DviXwomeA2ho"
      },
      "outputs": [],
      "source": [
        "l = [i + 1 for i in range(100)]\n",
        "print(l)"
      ]
    },
    {
      "cell_type": "markdown",
      "metadata": {
        "id": "_4tqqnVxEI7p"
      },
      "source": [
        "Compare 2 lists:"
      ]
    },
    {
      "cell_type": "code",
      "execution_count": null,
      "metadata": {
        "id": "0aNR5xz-DEje"
      },
      "outputs": [],
      "source": [
        "n = int(input())\n",
        "s1 = list(input())\n",
        "s2 = list(input())\n",
        "e = 0\n",
        "for i in range(n):\n",
        "    if s2[i] != s1[i]:\n",
        "        e += 1\n",
        "print(e)\n"
      ]
    },
    {
      "cell_type": "markdown",
      "metadata": {
        "id": "IOMoySv2MTJP"
      },
      "source": [
        "Dr.Yosefi and his queiz,wrong code,why:\n"
      ]
    },
    {
      "cell_type": "code",
      "execution_count": null,
      "metadata": {
        "id": "UH6GQtmdMYhi"
      },
      "outputs": [],
      "source": [
        "n , q = map(int,input().split())\n",
        "array = list(input().split())\n",
        "arr2 = list()\n",
        "for i in range(q):\n",
        "    sum = 0\n",
        "    t, l, r = map(int,input().split()) #t = 1 or 2\n",
        "    if t == 1:\n",
        "        for j in range (l-1,r):\n",
        "            sum += int(array[j])\n",
        "        arr2.append(sum)\n",
        "    elif t == 2:\n",
        "        array[l-1] = array[r-1]\n",
        "        for j in range (l-1,r-1):\n",
        "            array[j+1] = array[j]\n",
        "\n",
        "for i in range(len(arr2)):\n",
        "  print(arr2[i])\n"
      ]
    },
    {
      "cell_type": "markdown",
      "metadata": {
        "id": "dbdG9NnW-Nw2"
      },
      "source": [
        "# Dr.Yosefi,correct code:"
      ]
    },
    {
      "cell_type": "code",
      "execution_count": null,
      "metadata": {
        "id": "NtIXwPPY-TXR"
      },
      "outputs": [],
      "source": [
        "n, q = map(int, input().split())\n",
        "a = list(map(int, input().split()))\n",
        "for i in range(q):\n",
        "    t, l, r = map(int, input().split())\n",
        "    l -= 1\n",
        "    r -= 1\n",
        "    if t == 1:\n",
        "        print(sum(a[l:r + 1]))\n",
        "    else:\n",
        "        t = a[r]\n",
        "        for j in range(r - 1, l - 1, -1):\n",
        "            a[j + 1] = a[j]\n",
        "        a[l] = t"
      ]
    },
    {
      "cell_type": "markdown",
      "metadata": {
        "id": "k2vbivThheSh"
      },
      "source": [
        "# print reverse of some num until enter 0:"
      ]
    },
    {
      "cell_type": "code",
      "execution_count": null,
      "metadata": {
        "id": "9Xk0twfChnfm"
      },
      "outputs": [],
      "source": [
        "n = int(input())\n",
        "a = list()\n",
        "while n != 0 :\n",
        "    a.append(n)\n",
        "    n = int(input())\n",
        "\n",
        "for i in range(len(a)-1,-1,-1):\n",
        "    print (a[i])"
      ]
    },
    {
      "cell_type": "markdown",
      "metadata": {
        "id": "dTr-QOc6oAyk"
      },
      "source": [
        "# OR:"
      ]
    },
    {
      "cell_type": "code",
      "execution_count": null,
      "metadata": {
        "id": "havNmxMaog7y"
      },
      "outputs": [],
      "source": [
        "nums = []\n",
        "while True:\n",
        "    num = input()\n",
        "    if num != \"0\":\n",
        "        nums.append(num)\n",
        "    else:\n",
        "        break\n",
        "k = len(nums)-1\n",
        "while k >= 0:\n",
        "    print(nums[k])\n",
        "    k-=1"
      ]
    },
    {
      "cell_type": "markdown",
      "metadata": {
        "id": "yNjZ9v-Fp1p8"
      },
      "source": [
        "# OR:"
      ]
    },
    {
      "cell_type": "code",
      "execution_count": null,
      "metadata": {
        "id": "s8bt1El0p4oh"
      },
      "outputs": [],
      "source": [
        "a = []\n",
        "\n",
        "while True:\n",
        "    x = int(input())\n",
        "    if (x == 0):\n",
        "        break\n",
        "    a.append(x)\n",
        "\n",
        "for i in range (1, len(a) + 1):\n",
        "    print(a[len(a) - i])"
      ]
    },
    {
      "cell_type": "markdown",
      "metadata": {
        "id": "HXdLNdTsxWpt"
      },
      "source": [
        "# Array shif,x times:"
      ]
    },
    {
      "cell_type": "code",
      "execution_count": null,
      "metadata": {
        "colab": {
          "base_uri": "https://localhost:8080/"
        },
        "id": "axyZkcUAxa0O",
        "outputId": "deee3a67-85cf-4066-f9d1-a34a14834cde"
      },
      "outputs": [
        {
          "name": "stdout",
          "output_type": "stream",
          "text": [
            "4 1\n",
            "1 2 3 4\n",
            "[2, 3, 1, 1]\n"
          ]
        }
      ],
      "source": [
        "n, x = map(int, input().split())\n",
        "a = list(map(int, input().split()))\n",
        "for i in range(x):\n",
        "    k = a[len(a)-1]\n",
        "    for j in range(0, len(a)-1):\n",
        "      a[(len(a)-1)-j] = a[(len(a)-1)-j-1]\n",
        "    a[0] = k\n",
        "    \n",
        "print(a)"
      ]
    },
    {
      "cell_type": "markdown",
      "metadata": {
        "id": "beg6CZ_wFKfN"
      },
      "source": [
        "# OR:"
      ]
    },
    {
      "cell_type": "code",
      "execution_count": null,
      "metadata": {
        "colab": {
          "base_uri": "https://localhost:8080/"
        },
        "id": "_PeWFR1Xx4z5",
        "outputId": "055539b3-f4a5-4359-c4a2-e058135cbe01"
      },
      "outputs": [
        {
          "name": "stdout",
          "output_type": "stream",
          "text": [
            "4 1\n",
            "1 2 3 4\n",
            "4 1 2 3 "
          ]
        }
      ],
      "source": [
        "n, x = map(int, input().split())\n",
        "a = list(map(int, input().split()))\n",
        "\n",
        "for i in range(n - x, n):\n",
        "    print(a[i], end=' ')\n",
        "\n",
        "for i in range(0, n - x):\n",
        "    print(a[i], end=' ')"
      ]
    },
    {
      "cell_type": "markdown",
      "metadata": {
        "id": "UcfRNZluGINX"
      },
      "source": [
        "# OR:"
      ]
    },
    {
      "cell_type": "code",
      "execution_count": null,
      "metadata": {
        "id": "tzBd1N9fGKLp"
      },
      "outputs": [],
      "source": [
        "n, x = map(int, input().split())\n",
        "arr = list(map(int, input().split()))\n",
        "r = [0] * n\n",
        "for i in range(n):\n",
        "    r[(i+x) % n] = arr[i]\n",
        "print(*r)"
      ]
    },
    {
      "cell_type": "markdown",
      "metadata": {
        "id": "3MDrtBtCG-P6"
      },
      "source": [
        "OR:"
      ]
    },
    {
      "cell_type": "code",
      "execution_count": null,
      "metadata": {
        "id": "Fm3zY7c-HAXV"
      },
      "outputs": [],
      "source": [
        "n, x = map(int, input().split())\n",
        "arr = list(map(int, input().split()))\n",
        "\n",
        "for i in range(x):\n",
        "    arr = [arr[-1]] + arr[:-1]\n",
        "\n",
        "print(*arr)\n"
      ]
    },
    {
      "cell_type": "markdown",
      "metadata": {
        "id": "jIrp05mAHp1u"
      },
      "source": [
        "# OR:"
      ]
    },
    {
      "cell_type": "code",
      "execution_count": null,
      "metadata": {
        "id": "VCf_rnm8HsST"
      },
      "outputs": [],
      "source": [
        "lenghtOfList, shiftNum = map(int, input().split())\n",
        "list = []\n",
        "list = input().split()\n",
        "for i in range(shiftNum):\n",
        "    list.insert(0, list.pop())\n",
        "for i in list:\n",
        "    print(i, end=\" \")"
      ]
    },
    {
      "cell_type": "markdown",
      "metadata": {
        "id": "JdZ6jW6lQhbd"
      },
      "source": [
        "# sum of 2 array:"
      ]
    },
    {
      "cell_type": "code",
      "execution_count": null,
      "metadata": {
        "colab": {
          "base_uri": "https://localhost:8080/"
        },
        "id": "rO-29-hnQlO0",
        "outputId": "58b6b9e2-f849-4cac-a3dd-4ed2a537a17e"
      },
      "outputs": [
        {
          "name": "stdout",
          "output_type": "stream",
          "text": [
            "2 3\n",
            "1 2 3\n",
            "4 5 6\n",
            "7 7 7\n",
            "8 8 8\n",
            "8 9 10 \n",
            "12 13 14 \n"
          ]
        }
      ],
      "source": [
        "n, m = map(int, input().split())\n",
        "\n",
        "a = []\n",
        "for i in range(n):\n",
        "\ta.append(list(map(int, input().split())))\n",
        "\t\n",
        "b = []\n",
        "for i in range(n):\n",
        "\tb.append(list(map(int, input().split())))\n",
        "\n",
        "c = [[a[i][j] + b[i][j] for j in range(m)] for i in range(n)]\n",
        "\n",
        "for i in range(n):\n",
        "    for j in range(m):\n",
        "        print(c[i][j], end=' ')\n",
        "    print()"
      ]
    },
    {
      "cell_type": "markdown",
      "metadata": {
        "id": "akpIIqG3lW7y"
      },
      "source": [
        "# OR:"
      ]
    },
    {
      "cell_type": "code",
      "execution_count": null,
      "metadata": {
        "id": "B55emhmrlZQN"
      },
      "outputs": [],
      "source": [
        "n, m = map(int, input().split())\n",
        "\n",
        "a = []\n",
        "for i in range(n):\n",
        "    row = list(map(int, input().split()))\n",
        "    a.append(row)\n",
        "\n",
        "b = []\n",
        "for i in range(n):\n",
        "    row = list(map(int, input().split()))\n",
        "    b.append(row)\n",
        "\n",
        "c = []\n",
        "for i in range(n):\n",
        "    row = []\n",
        "    for j in range(m):\n",
        "        row.append(a[i][j] + b[i][j])\n",
        "    c.append(row)\n",
        "\n",
        "for row in c:\n",
        "    print(' '.join(map(str, row)))"
      ]
    },
    {
      "cell_type": "markdown",
      "metadata": {
        "id": "rzCJe08LlgEW"
      },
      "source": [
        "# OR:"
      ]
    },
    {
      "cell_type": "code",
      "execution_count": null,
      "metadata": {
        "id": "M2_Jh7otljGn"
      },
      "outputs": [],
      "source": [
        "a, b = map(int, input().split())\n",
        "c = []\n",
        "d = []\n",
        "result = [[0] * b for i in range(a)]\n",
        "for i in range(a):\n",
        "    row = list(map(int, input().split()))\n",
        "    c.append(row)\n",
        "for i in range(a):\n",
        "    row = list(map(int, input().split()))\n",
        "    d.append(row)\n",
        "\n",
        "for i in range(len(c)):\n",
        "    for j in range(len(c[0])):\n",
        "        result[i][j] = c[i][j] + d[i][j]\n",
        "\n",
        "for i in result:\n",
        "    for j in i:\n",
        "        print(j, end = ' ')\n",
        "    print()"
      ]
    },
    {
      "cell_type": "markdown",
      "metadata": {
        "id": "-wWbSP1WlplW"
      },
      "source": [
        "# OR:"
      ]
    },
    {
      "cell_type": "code",
      "execution_count": null,
      "metadata": {
        "colab": {
          "base_uri": "https://localhost:8080/"
        },
        "id": "-wnmu-gplsaG",
        "outputId": "fbca1518-a5a2-4f20-d601-563b92509691"
      },
      "outputs": [
        {
          "name": "stdout",
          "output_type": "stream",
          "text": [
            "2 3\n",
            "1 1 1\n",
            "2 2 2\n",
            "3 3 3\n",
            "4 4 4\n",
            "4 4 4 \n",
            "6 6 6 \n"
          ]
        }
      ],
      "source": [
        "n, m = map(int, input().split())\n",
        "arr1 = [[int(j) for j in input().split()] for i in range(n)]\n",
        "arr2 = [[int(j) for j in input().split()] for i in range(n)]\n",
        "r = [[0] * m for i in range(n)]\n",
        "for i in range(n):\n",
        "    for j in range(m):\n",
        "        r[i][j] = arr1[i][j] + arr2[i][j]\n",
        "for i in range(n):\n",
        "    for j in range(m):\n",
        "        print(r[i][j], end=' ')\n",
        "    print()"
      ]
    },
    {
      "cell_type": "markdown",
      "metadata": {
        "id": "4WBs3GYGsgUY"
      },
      "source": [
        "sum of 2 array from chatGTP:"
      ]
    },
    {
      "cell_type": "code",
      "execution_count": null,
      "metadata": {
        "id": "pwRpbOzirDfz"
      },
      "outputs": [],
      "source": [
        "a = [2,3]\n",
        "b = [3,4]\n",
        "c = [sum(i) for i in zip(a,b)]\n",
        "print(c)"
      ]
    },
    {
      "cell_type": "code",
      "execution_count": null,
      "metadata": {
        "id": "lmvLBjJqBaBl"
      },
      "outputs": [],
      "source": [
        "s = input()\n",
        "print (s)\n"
      ]
    },
    {
      "cell_type": "markdown",
      "metadata": {
        "id": "rygQrcCYDUoI"
      },
      "source": [
        "# Taghirat araye ey:"
      ]
    },
    {
      "cell_type": "markdown",
      "metadata": {
        "id": "9Xf7b_8QEnzp"
      },
      "source": [
        "1 solution, ??"
      ]
    },
    {
      "cell_type": "code",
      "execution_count": null,
      "metadata": {
        "colab": {
          "base_uri": "https://localhost:8080/"
        },
        "id": "vJ7SLXZNCm7_",
        "outputId": "5387d9ba-064e-4e99-ee82-d31ad9b8c27e"
      },
      "outputs": [
        {
          "name": "stdout",
          "output_type": "stream",
          "text": [
            "3\n",
            "+ 0 1\n",
            "1\n",
            "+ 1 5\n",
            "5 1\n",
            "- 0\n",
            "5\n"
          ]
        }
      ],
      "source": [
        "q = int(input())\n",
        "arr = list()\n",
        "for i in range(q):\n",
        "    a = input().split()\n",
        "    if a[0] == '+':\n",
        "        arr.insert(int(a[1]) - 1, int(a[2]))\n",
        "    else:\n",
        "        arr.pop(int(a[1]) - 1 )\n",
        "    if arr == list():\n",
        "        print('EMPTY')\n",
        "    else:\n",
        "        print(*arr)"
      ]
    },
    {
      "cell_type": "markdown",
      "metadata": {
        "id": "QeI8ohx4CoET"
      },
      "source": [
        "# OR:"
      ]
    },
    {
      "cell_type": "code",
      "execution_count": null,
      "metadata": {
        "id": "oBPbafY8991q"
      },
      "outputs": [],
      "source": [
        "q = int(input())\n",
        "arr = []\n",
        "r = []\n",
        "for i in range(q):\n",
        "    arr.append(input().split())\n",
        "for a in arr:\n",
        "    if a[0] == \"+\":\n",
        "        r.insert(int(a[1])-1,int(a[2]))\n",
        "        print(*r)\n",
        "    else:\n",
        "        r.pop(int(a[1])-1)\n",
        "        if r == []:\n",
        "            print(\"EMPTY\")\n",
        "        else:\n",
        "            print(*r)\n",
        " "
      ]
    },
    {
      "cell_type": "markdown",
      "metadata": {
        "id": "amGzlE6W-JBI"
      },
      "source": [
        "# OR:"
      ]
    },
    {
      "cell_type": "code",
      "execution_count": null,
      "metadata": {
        "id": "ppqhdrc167qY"
      },
      "outputs": [],
      "source": [
        "n = int(input())\n",
        "a = []\n",
        "for i in range(n):\n",
        "    inp = input().split()\n",
        "    ch = inp[0]\n",
        "    index = int(inp[1])\n",
        "\n",
        "    if ch == '+':\n",
        "        value = int(inp[2])\n",
        "        a.insert(index - 1, value)\n",
        "    else:\n",
        "        a.pop(index - 1)\n",
        "    \n",
        "    if len(a) == 0:\n",
        "        print(\"EMPTY\")\n",
        "    else:\n",
        "        for x in a:\n",
        "            print(x, end=' ')\n",
        "        print()"
      ]
    },
    {
      "cell_type": "markdown",
      "metadata": {
        "id": "N1zwoZub-Zdx"
      },
      "source": [
        "# OR:"
      ]
    },
    {
      "cell_type": "code",
      "execution_count": null,
      "metadata": {
        "id": "Y3hSJXJ_-ccp"
      },
      "outputs": [],
      "source": [
        "q = int(input())\n",
        "a = list()\n",
        "b = list()\n",
        "\n",
        "for i in range (q):\n",
        "    a.append(list(map(str, input().split())))\n",
        "\n",
        "for i in range (q):\n",
        "    if (a[i][0] == '+'):\n",
        "        b.insert(int(a[i][1]) - 1, int(a[i][2]))\n",
        "    elif (a[i][0] == '-'):\n",
        "        b.pop(int(a[i][1]) - 1)\n",
        "\n",
        "    if (len(b) == 0):\n",
        "        print(\"EMPTY\")\n",
        "    else:\n",
        "        print(*b)"
      ]
    },
    {
      "cell_type": "code",
      "execution_count": null,
      "metadata": {
        "colab": {
          "base_uri": "https://localhost:8080/"
        },
        "id": "LE53A2t2_ftA",
        "outputId": "d17dc899-47c8-4f9b-ef06-a1f7771cd92a"
      },
      "outputs": [
        {
          "name": "stdout",
          "output_type": "stream",
          "text": [
            "2\n",
            "d 1 2\n",
            "+ 0 1\n",
            "[['d', '1', '2'], ['+', '0', '1']]\n"
          ]
        }
      ],
      "source": [
        "q = int(input())\n",
        "a = []\n",
        "for i in range (q):\n",
        "    a.append(list(map(str, input().split())))\n",
        "print(a)\n"
      ]
    },
    {
      "cell_type": "markdown",
      "metadata": {
        "id": "EuG2EvfQ-CRa"
      },
      "source": [
        "OR ?:"
      ]
    },
    {
      "cell_type": "code",
      "execution_count": null,
      "metadata": {
        "id": "kQkXyYji-FSi"
      },
      "outputs": [],
      "source": [
        "a = []\n",
        "q = int(input())\n",
        "for i in range(q):\n",
        "    s, i = map(str,input().split())\n",
        "    if s == '+' :\n",
        "        x = int(input())\n",
        "        a.insert(int(i),int(x))\n",
        "    elif s == '-':\n",
        "      a.pop(int(i))\n",
        "    print(a)"
      ]
    },
    {
      "cell_type": "markdown",
      "metadata": {
        "id": "zHGZylLaCTCH"
      },
      "source": [
        "# OR:"
      ]
    },
    {
      "cell_type": "code",
      "execution_count": null,
      "metadata": {
        "id": "OWDn7TFACVsv"
      },
      "outputs": [],
      "source": [
        "#functions\n",
        "#print function\n",
        "def my_print(a):\n",
        "    if( len(a ) == 0):\n",
        "        print(\"EMPTY\")\n",
        "    for i in range(len(a)):\n",
        "        if(i == len(a)-1):\n",
        "            print(a[i ] )\n",
        "        else:\n",
        "            print(a[i], end=\" \")\n",
        "\n",
        "\n",
        "#------------------\n",
        "n = int( input( ) )\n",
        "a = list()\n",
        "for i in range( n ):\n",
        "    t = input( )\n",
        "    temp = t.split( )\n",
        "    if(temp[0] == \"-\"):\n",
        "        a.pop( int(temp[1])-1 )\n",
        "        my_print(a)\n",
        "    elif(temp[0] == \"+\"):\n",
        "        a.insert(int(temp[1])-1,int(temp[2]))\n",
        "        my_print(a)\n",
        "    else:\n",
        "        print(\"wrong input !\")\n"
      ]
    },
    {
      "cell_type": "code",
      "execution_count": null,
      "metadata": {
        "id": "5BT244pDDhaD"
      },
      "outputs": [],
      "source": [
        "q = int(input())\n",
        "\n",
        "for i in range(q):\n",
        "    a = input().split()\n",
        "print(a)"
      ]
    },
    {
      "cell_type": "markdown",
      "metadata": {
        "id": "JbitoTIwARon"
      },
      "source": [
        "# Snapp at Shekarestan:"
      ]
    },
    {
      "cell_type": "code",
      "execution_count": null,
      "metadata": {
        "id": "qo_yd3UXAXGB"
      },
      "outputs": [],
      "source": [
        "n, m = map(int,input().split())\n",
        "array1 = []\n",
        "s = 0\n",
        "for i in range(n):\n",
        "  array1.append(list(map(int,input().split())))\n",
        "for i in range(m):\n",
        "  #array2.append(list(map(int,input().split())))\n",
        "  x, y = map(int,input().split())\n",
        "  s += array1[x-1][y-1]\n",
        "print(s)"
      ]
    },
    {
      "cell_type": "markdown",
      "metadata": {
        "id": "ihIRWjOfNdFR"
      },
      "source": [
        "# OR:"
      ]
    },
    {
      "cell_type": "code",
      "execution_count": null,
      "metadata": {
        "id": "H3Ff3KlXNe16"
      },
      "outputs": [],
      "source": [
        "n, m = map(int, input().split())\n",
        "a = [[int(x) for x in input().split()] for i in range(n)]\n",
        "\n",
        "ans = 0\n",
        "for i in range(m):\n",
        "    x, y = map(int, input().split())\n",
        "    ans += a[x - 1][y - 1]\n",
        "\n",
        "print(ans)\n"
      ]
    },
    {
      "cell_type": "markdown",
      "metadata": {
        "id": "x6HLHZSUODRh"
      },
      "source": [
        "# OR:"
      ]
    },
    {
      "cell_type": "code",
      "execution_count": null,
      "metadata": {
        "id": "KR_iJwPbOFRJ"
      },
      "outputs": [],
      "source": [
        "N, M = map(int,input().split())\n",
        "array = [[int(j) for j in input().split()] for i in range(N)]\n",
        "c = list()\n",
        "for i in range(M):\n",
        "    x, y = map(int, input().split())\n",
        "    c.append(array[x-1][y-1])\n",
        "Sum = 0\n",
        "for i in range(M):\n",
        "    Sum += c[i]\n",
        "print(Sum)"
      ]
    },
    {
      "cell_type": "markdown",
      "metadata": {
        "id": "hNgW2ShzOGu0"
      },
      "source": [
        "# OR:"
      ]
    },
    {
      "cell_type": "code",
      "execution_count": null,
      "metadata": {
        "id": "lfci0p3jOIXk"
      },
      "outputs": [],
      "source": [
        "N , M = map(int, input().split())\n",
        "answer = 0\n",
        "a = []\n",
        "for i in range(N):\n",
        "    a.append(list(map(int, input().split())))\n",
        "\n",
        "for j in range(M):\n",
        "    x,y = map(int, input().split())\n",
        "    price = a[x-1][y-1]\n",
        "    answer += price\n",
        "print(answer)\n",
        "    "
      ]
    },
    {
      "cell_type": "markdown",
      "metadata": {
        "id": "3g-F_m79g0zl"
      },
      "source": [
        "# Endoist:"
      ]
    },
    {
      "cell_type": "code",
      "execution_count": null,
      "metadata": {
        "id": "I4TuimZPmUc3"
      },
      "outputs": [],
      "source": [
        "maxn = 200\n",
        "counter = [0 for x in range(maxn)]\n",
        "q = int(input())\n",
        "\n",
        "for i in range(q):\n",
        "    tp, x = input().split()\n",
        "    x = int(x) - 1\n",
        "\n",
        "    if tp == '+':\n",
        "        counter[x] += 1\n",
        "    else:\n",
        "        print(counter[x])\n"
      ]
    },
    {
      "cell_type": "markdown",
      "metadata": {
        "id": "Tw4HQWg7r1Xx"
      },
      "source": [
        "# OR"
      ]
    },
    {
      "cell_type": "code",
      "execution_count": null,
      "metadata": {
        "id": "Ko8zyxkFr2-h"
      },
      "outputs": [],
      "source": [
        "\n",
        "q = int(input())\n",
        "a = [0] * 200\n",
        "b = list()\n",
        "c = 0\n",
        "for i in range(q):\n",
        "   b = list(map(str,input().split()))\n",
        "   b[1] = int(b[1])\n",
        "   c = b[1]\n",
        "   if (b[0] == '+'):\n",
        "       a[c - 1] += 1\n",
        "   elif (b[0] == '?'):\n",
        "        print(a[c - 1])\n"
      ]
    },
    {
      "cell_type": "markdown",
      "metadata": {
        "id": "vFFJ9EY_tf6h"
      },
      "source": [
        "# OR:"
      ]
    },
    {
      "cell_type": "code",
      "execution_count": null,
      "metadata": {
        "id": "vWZfl2LIth_1"
      },
      "outputs": [],
      "source": [
        "q = int(input())\n",
        "\n",
        "kise = [0 for x in range(210)]\n",
        "for i in range(q):\n",
        "    n = input().split()\n",
        "    what_to_do, color = n[0], int(n[1])\n",
        "    if what_to_do == \"+\":\n",
        "        kise[color] += 1\n",
        "    elif what_to_do == \"?\":\n",
        "        print(kise[color])"
      ]
    },
    {
      "cell_type": "markdown",
      "metadata": {
        "id": "FPYUtnZKzmBH"
      },
      "source": [
        "# search in string:"
      ]
    },
    {
      "cell_type": "markdown",
      "source": [
        "...not complete "
      ],
      "metadata": {
        "id": "opogK8n3EsNM"
      }
    },
    {
      "cell_type": "code",
      "execution_count": null,
      "metadata": {
        "colab": {
          "background_save": true
        },
        "id": "7EAeShlWs1Qz"
      },
      "outputs": [],
      "source": [
        "s = input()\n",
        "q = input()\n",
        "index = 0\n",
        "for i in range(len(s)):\n",
        "  if q in s:\n",
        "    index += s.index(q[0])\n",
        "    print(index+1)\n",
        "    k = s.index(q[len(q)-1]) + 1\n",
        "    print(k)\n",
        "    s = s[k::]\n",
        "    print(s)\n",
        "  \n",
        "    \n",
        "   \n"
      ]
    },
    {
      "cell_type": "markdown",
      "source": [
        "# final code:"
      ],
      "metadata": {
        "id": "1-nNxUv-Ew21"
      }
    },
    {
      "cell_type": "code",
      "source": [
        "a = input()\n",
        "b = input()\n",
        "for i in range(len(a)):\n",
        "    if b[0] == a[i] and b == a[i:i + len(b)]:\n",
        "        print(i + 1, end=' ')\n",
        "\n"
      ],
      "metadata": {
        "colab": {
          "base_uri": "https://localhost:8080/"
        },
        "id": "7vU7e4yZG3sW",
        "outputId": "de19d606-998c-467b-c9da-e54b2b3b84e9"
      },
      "execution_count": 5,
      "outputs": [
        {
          "output_type": "stream",
          "name": "stdout",
          "text": [
            "asdfdfghjkjkldf\n",
            "df\n",
            "3 5 14 "
          ]
        }
      ]
    },
    {
      "cell_type": "markdown",
      "source": [
        "OR:"
      ],
      "metadata": {
        "id": "_xh3ABRHG4rS"
      }
    },
    {
      "cell_type": "code",
      "source": [
        "s = input()\n",
        "q = input()\n",
        "print(s)\n",
        "print(q)\n",
        "for i in range(len(s)):\n",
        "    flage = True\n",
        "    for j in range(len(q)):\n",
        "        if i + j < len(s):\n",
        "            if s[i+j] != q[j]:\n",
        "                flage = False\n",
        "        else:\n",
        "            flage = False\n",
        "    if flage == True:\n",
        "        print(i+1)"
      ],
      "metadata": {
        "id": "ZUfolS-sEzSK"
      },
      "execution_count": null,
      "outputs": []
    },
    {
      "cell_type": "markdown",
      "source": [
        "# OR:"
      ],
      "metadata": {
        "id": "GyrL44M1GCGP"
      }
    },
    {
      "cell_type": "code",
      "source": [
        "str = input()\n",
        "sub_str = input()\n",
        "for i in range(len(str)):\n",
        "    flag = True\n",
        "    for j in range(len(sub_str)):\n",
        "        if not(i+j < len(str)) or str[i + j] != sub_str[j]:\n",
        "            flag = False\n",
        "            break\n",
        "    if flag:\n",
        "        print(i + 1, end = \" \")\n",
        "    "
      ],
      "metadata": {
        "id": "6TTETwxMGEMe"
      },
      "execution_count": null,
      "outputs": []
    },
    {
      "cell_type": "markdown",
      "source": [
        "OR:"
      ],
      "metadata": {
        "id": "oEbW8kvjGPIJ"
      }
    },
    {
      "cell_type": "code",
      "source": [
        "s = input()\n",
        "p = input()\n",
        "for i in range(len(s) - len(p) + 1):\n",
        "    flag = True\n",
        "    for j in range(len(p)):\n",
        "        if p[j] != s[i + j]:\n",
        "            flag = False\n",
        "    if flag:\n",
        "        print(i + 1, end=' ')\n",
        "print()"
      ],
      "metadata": {
        "colab": {
          "base_uri": "https://localhost:8080/"
        },
        "id": "QQizUCkuGQmQ",
        "outputId": "eb86e0fb-1752-4b6a-a873-717d673370a7"
      },
      "execution_count": 2,
      "outputs": [
        {
          "output_type": "stream",
          "name": "stdout",
          "text": [
            "asdfghjkdf\n",
            "df\n",
            "3 9 \n"
          ]
        }
      ]
    },
    {
      "cell_type": "markdown",
      "source": [
        "OR:"
      ],
      "metadata": {
        "id": "im5v3JqGIW7N"
      }
    },
    {
      "cell_type": "code",
      "source": [
        "main = input()\n",
        "key = input()\n",
        "collector = []\n",
        "\n",
        "for i in range(len(main)):\n",
        "    flag = True\n",
        "    for j in range(len(key)):\n",
        "        if i + j < len(main):\n",
        "            if main[i + j] != key[j]:\n",
        "                flag = False\n",
        "        else:\n",
        "            flag = False\n",
        "    if flag:\n",
        "        collector.append(i + 1)\n",
        "\n",
        "print(*collector)"
      ],
      "metadata": {
        "id": "x0KRazRPIYAx"
      },
      "execution_count": null,
      "outputs": []
    },
    {
      "cell_type": "markdown",
      "source": [
        "# Livan Bazi"
      ],
      "metadata": {
        "id": "_9U6sxh3QyWs"
      }
    },
    {
      "cell_type": "code",
      "source": [
        "n , x = input().split() # x = L, M, R\n",
        "ans = x\n",
        "n = int(n)\n",
        "for i in range(n):\n",
        "    r1, r2 = input().split()\n",
        "    if r1 ==  ans:\n",
        "        ans = r2\n",
        "    elif r2 == ans:\n",
        "        ans = r1\n",
        "    \n",
        "print(ans)"
      ],
      "metadata": {
        "colab": {
          "base_uri": "https://localhost:8080/"
        },
        "id": "hmOq_HLLQ0ws",
        "outputId": "cf8f47ac-b0ca-443a-9703-be5f75b42360"
      },
      "execution_count": 9,
      "outputs": [
        {
          "output_type": "stream",
          "name": "stdout",
          "text": [
            "3 M\n",
            "L M\n",
            "M R\n",
            "R M\n",
            "R\n"
          ]
        }
      ]
    }
  ],
  "metadata": {
    "colab": {
      "provenance": [],
      "authorship_tag": "ABX9TyMnTWfv+JPBpZR3tePOBbBc",
      "include_colab_link": true
    },
    "kernelspec": {
      "display_name": "Python 3",
      "name": "python3"
    },
    "language_info": {
      "name": "python"
    }
  },
  "nbformat": 4,
  "nbformat_minor": 0
}