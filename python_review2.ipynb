{
  "nbformat": 4,
  "nbformat_minor": 0,
  "metadata": {
    "colab": {
      "provenance": [],
      "authorship_tag": "ABX9TyMnK+L435AxdTaqw84zMNCk",
      "include_colab_link": true
    },
    "kernelspec": {
      "name": "python3",
      "display_name": "Python 3"
    },
    "language_info": {
      "name": "python"
    }
  },
  "cells": [
    {
      "cell_type": "markdown",
      "metadata": {
        "id": "view-in-github",
        "colab_type": "text"
      },
      "source": [
        "<a href=\"https://colab.research.google.com/github/RemiJolian/Python/blob/main/python_review2.ipynb\" target=\"_parent\"><img src=\"https://colab.research.google.com/assets/colab-badge.svg\" alt=\"Open In Colab\"/></a>"
      ]
    },
    {
      "cell_type": "markdown",
      "source": [
        "# input list of nums:"
      ],
      "metadata": {
        "id": "rP0iEppv3pxd"
      }
    },
    {
      "cell_type": "code",
      "execution_count": null,
      "metadata": {
        "colab": {
          "base_uri": "https://localhost:8080/"
        },
        "id": "DQPIBKZ03C6p",
        "outputId": "44968f76-6f24-4414-81c1-0dd2b7518a62"
      },
      "outputs": [
        {
          "output_type": "stream",
          "name": "stdout",
          "text": [
            "1 2 3\n",
            "[1, 2, 3]\n"
          ]
        }
      ],
      "source": [
        "array = [int(x) for x in input().split()]\n",
        "print(array)"
      ]
    },
    {
      "cell_type": "markdown",
      "source": [
        "# OR:"
      ],
      "metadata": {
        "id": "6g2ravSV3yF1"
      }
    },
    {
      "cell_type": "code",
      "source": [
        "array = list(map(int, input().split()))\n",
        "print (array)"
      ],
      "metadata": {
        "id": "VFMWcrbw30Jf"
      },
      "execution_count": null,
      "outputs": []
    },
    {
      "cell_type": "markdown",
      "source": [
        "OR2:"
      ],
      "metadata": {
        "id": "BNSzIOLn4Mx3"
      }
    },
    {
      "cell_type": "code",
      "source": [
        "a = []\n",
        "tmp = input().split()\n",
        "for i in range(0, len(tmp)):\n",
        "    x = int(tmp[i])\n",
        "    a.append(x)"
      ],
      "metadata": {
        "id": "Mh6cBp2m4QWw"
      },
      "execution_count": null,
      "outputs": []
    },
    {
      "cell_type": "markdown",
      "source": [
        "Print 2 list"
      ],
      "metadata": {
        "id": "57aYvp2k6TEj"
      }
    },
    {
      "cell_type": "code",
      "source": [
        "array1 = [int(i) for i in input().split()]\n",
        "array2 = [int(j) for j in input().split()]\n",
        "print(*array2,*array1)"
      ],
      "metadata": {
        "id": "_w0B0eQQ6D1v",
        "colab": {
          "base_uri": "https://localhost:8080/"
        },
        "outputId": "201ccec5-ca3d-4be3-e7d9-1dd28e65a98b"
      },
      "execution_count": null,
      "outputs": [
        {
          "output_type": "stream",
          "name": "stdout",
          "text": [
            "1 2 3\n",
            "4 5 6\n",
            "4 5 6 1 2 3\n"
          ]
        }
      ]
    },
    {
      "cell_type": "markdown",
      "source": [
        "OR:"
      ],
      "metadata": {
        "id": "XTS31S1y6zOJ"
      }
    },
    {
      "cell_type": "code",
      "source": [
        "array1 = [int(x) for x in input().split()]\n",
        "array2 = list(map(int, input().split()))\n",
        "for x in array2:\n",
        "    print(x, end=' ')\n",
        "for x in array1:\n",
        "    print(x, end=' ')"
      ],
      "metadata": {
        "id": "g7Gwxxrm60s6",
        "colab": {
          "base_uri": "https://localhost:8080/"
        },
        "outputId": "7236bba5-cf75-46c8-e26f-e4d356f1b66e"
      },
      "execution_count": null,
      "outputs": [
        {
          "output_type": "stream",
          "name": "stdout",
          "text": [
            "1 2 3\n",
            "4 5 6\n",
            "4 5 6 1 2 3 "
          ]
        }
      ]
    },
    {
      "cell_type": "markdown",
      "source": [
        "# list with specific member:"
      ],
      "metadata": {
        "id": "mhv2T3sn_JWT"
      }
    },
    {
      "cell_type": "code",
      "source": [
        "lst = [0] * 100"
      ],
      "metadata": {
        "id": "3rgyXFgx_R4M"
      },
      "execution_count": null,
      "outputs": []
    },
    {
      "cell_type": "markdown",
      "source": [
        "a list from 1 to 100 nums:"
      ],
      "metadata": {
        "id": "aV25qCYvApUw"
      }
    },
    {
      "cell_type": "code",
      "source": [
        "array = list()\n",
        "for i in range(1,101):\n",
        "    array.append(i)\n",
        "print(array)"
      ],
      "metadata": {
        "id": "KDPJKzo7At-V"
      },
      "execution_count": null,
      "outputs": []
    },
    {
      "cell_type": "markdown",
      "source": [
        "OR1:"
      ],
      "metadata": {
        "id": "3xH6WuN-AvgV"
      }
    },
    {
      "cell_type": "code",
      "source": [
        "l = [0] * 100\n",
        "for i in range(100):\n",
        "    l[i] = i + 1\n",
        "print(l)"
      ],
      "metadata": {
        "id": "ynJFOwl9AxqJ"
      },
      "execution_count": null,
      "outputs": []
    },
    {
      "cell_type": "markdown",
      "source": [
        "OR2:"
      ],
      "metadata": {
        "id": "4A9G_nyqA0w1"
      }
    },
    {
      "cell_type": "code",
      "source": [
        "l = [i + 1 for i in range(100)]\n",
        "print(l)"
      ],
      "metadata": {
        "id": "DviXwomeA2ho"
      },
      "execution_count": null,
      "outputs": []
    },
    {
      "cell_type": "markdown",
      "source": [
        "Compare 2 lists:"
      ],
      "metadata": {
        "id": "_4tqqnVxEI7p"
      }
    },
    {
      "cell_type": "code",
      "source": [
        "n = int(input())\n",
        "s1 = list(input())\n",
        "s2 = list(input())\n",
        "e = 0\n",
        "for i in range(n):\n",
        "    if s2[i] != s1[i]:\n",
        "        e += 1\n",
        "print(e)\n"
      ],
      "metadata": {
        "id": "0aNR5xz-DEje"
      },
      "execution_count": null,
      "outputs": []
    },
    {
      "cell_type": "markdown",
      "source": [
        "Dr.Yosefi and his queiz,wrong code,why:\n"
      ],
      "metadata": {
        "id": "IOMoySv2MTJP"
      }
    },
    {
      "cell_type": "code",
      "source": [
        "n , q = map(int,input().split())\n",
        "array = list(input().split())\n",
        "arr2 = list()\n",
        "for i in range(q):\n",
        "    sum = 0\n",
        "    t, l, r = map(int,input().split()) #t = 1 or 2\n",
        "    if t == 1:\n",
        "        for j in range (l-1,r):\n",
        "            sum += int(array[j])\n",
        "        arr2.append(sum)\n",
        "    elif t == 2:\n",
        "        array[l-1] = array[r-1]\n",
        "        for j in range (l-1,r-1):\n",
        "            array[j+1] = array[j]\n",
        "\n",
        "for i in range(len(arr2)):\n",
        "  print(arr2[i])\n"
      ],
      "metadata": {
        "id": "UH6GQtmdMYhi"
      },
      "execution_count": null,
      "outputs": []
    },
    {
      "cell_type": "markdown",
      "source": [
        "# Dr.Yosefi,correct code:"
      ],
      "metadata": {
        "id": "dbdG9NnW-Nw2"
      }
    },
    {
      "cell_type": "code",
      "source": [
        "n, q = map(int, input().split())\n",
        "a = list(map(int, input().split()))\n",
        "for i in range(q):\n",
        "    t, l, r = map(int, input().split())\n",
        "    l -= 1\n",
        "    r -= 1\n",
        "    if t == 1:\n",
        "        print(sum(a[l:r + 1]))\n",
        "    else:\n",
        "        t = a[r]\n",
        "        for j in range(r - 1, l - 1, -1):\n",
        "            a[j + 1] = a[j]\n",
        "        a[l] = t"
      ],
      "metadata": {
        "id": "NtIXwPPY-TXR"
      },
      "execution_count": null,
      "outputs": []
    },
    {
      "cell_type": "markdown",
      "source": [
        "# print reverse of some num until enter 0:"
      ],
      "metadata": {
        "id": "k2vbivThheSh"
      }
    },
    {
      "cell_type": "code",
      "source": [
        "n = int(input())\n",
        "a = list()\n",
        "while n != 0 :\n",
        "    a.append(n)\n",
        "    n = int(input())\n",
        "\n",
        "for i in range(len(a)-1,-1,-1):\n",
        "    print (a[i])"
      ],
      "metadata": {
        "id": "9Xk0twfChnfm"
      },
      "execution_count": null,
      "outputs": []
    },
    {
      "cell_type": "markdown",
      "source": [
        "# OR:"
      ],
      "metadata": {
        "id": "dTr-QOc6oAyk"
      }
    },
    {
      "cell_type": "code",
      "source": [
        "nums = []\n",
        "while True:\n",
        "    num = input()\n",
        "    if num != \"0\":\n",
        "        nums.append(num)\n",
        "    else:\n",
        "        break\n",
        "k = len(nums)-1\n",
        "while k >= 0:\n",
        "    print(nums[k])\n",
        "    k-=1"
      ],
      "metadata": {
        "id": "havNmxMaog7y"
      },
      "execution_count": null,
      "outputs": []
    },
    {
      "cell_type": "markdown",
      "source": [
        "# OR:"
      ],
      "metadata": {
        "id": "yNjZ9v-Fp1p8"
      }
    },
    {
      "cell_type": "code",
      "source": [
        "a = []\n",
        "\n",
        "while True:\n",
        "    x = int(input())\n",
        "    if (x == 0):\n",
        "        break\n",
        "    a.append(x)\n",
        "\n",
        "for i in range (1, len(a) + 1):\n",
        "    print(a[len(a) - i])"
      ],
      "metadata": {
        "id": "s8bt1El0p4oh"
      },
      "execution_count": null,
      "outputs": []
    },
    {
      "cell_type": "markdown",
      "source": [
        "# Array shif,x times:"
      ],
      "metadata": {
        "id": "HXdLNdTsxWpt"
      }
    },
    {
      "cell_type": "code",
      "source": [
        "n, x = map(int, input().split())\n",
        "a = list(map(int, input().split()))\n",
        "for i in range(x):\n",
        "    k = a[len(a)-1]\n",
        "    for j in range(0, len(a)-1):\n",
        "      a[(len(a)-1)-j] = a[(len(a)-1)-j-1]\n",
        "    a[0] = k\n",
        "    \n",
        "print(a)"
      ],
      "metadata": {
        "colab": {
          "base_uri": "https://localhost:8080/"
        },
        "id": "axyZkcUAxa0O",
        "outputId": "deee3a67-85cf-4066-f9d1-a34a14834cde"
      },
      "execution_count": null,
      "outputs": [
        {
          "output_type": "stream",
          "name": "stdout",
          "text": [
            "4 1\n",
            "1 2 3 4\n",
            "[2, 3, 1, 1]\n"
          ]
        }
      ]
    },
    {
      "cell_type": "markdown",
      "source": [
        "# OR:"
      ],
      "metadata": {
        "id": "beg6CZ_wFKfN"
      }
    },
    {
      "cell_type": "code",
      "source": [
        "n, x = map(int, input().split())\n",
        "a = list(map(int, input().split()))\n",
        "\n",
        "for i in range(n - x, n):\n",
        "    print(a[i], end=' ')\n",
        "\n",
        "for i in range(0, n - x):\n",
        "    print(a[i], end=' ')"
      ],
      "metadata": {
        "colab": {
          "base_uri": "https://localhost:8080/"
        },
        "id": "_PeWFR1Xx4z5",
        "outputId": "055539b3-f4a5-4359-c4a2-e058135cbe01"
      },
      "execution_count": null,
      "outputs": [
        {
          "output_type": "stream",
          "name": "stdout",
          "text": [
            "4 1\n",
            "1 2 3 4\n",
            "4 1 2 3 "
          ]
        }
      ]
    },
    {
      "cell_type": "markdown",
      "source": [
        "# OR:"
      ],
      "metadata": {
        "id": "UcfRNZluGINX"
      }
    },
    {
      "cell_type": "code",
      "source": [
        "n, x = map(int, input().split())\n",
        "arr = list(map(int, input().split()))\n",
        "r = [0] * n\n",
        "for i in range(n):\n",
        "    r[(i+x) % n] = arr[i]\n",
        "print(*r)"
      ],
      "metadata": {
        "id": "tzBd1N9fGKLp"
      },
      "execution_count": null,
      "outputs": []
    },
    {
      "cell_type": "markdown",
      "source": [
        "OR:"
      ],
      "metadata": {
        "id": "3MDrtBtCG-P6"
      }
    },
    {
      "cell_type": "code",
      "source": [
        "n, x = map(int, input().split())\n",
        "arr = list(map(int, input().split()))\n",
        "\n",
        "for i in range(x):\n",
        "    arr = [arr[-1]] + arr[:-1]\n",
        "\n",
        "print(*arr)\n"
      ],
      "metadata": {
        "id": "Fm3zY7c-HAXV"
      },
      "execution_count": null,
      "outputs": []
    },
    {
      "cell_type": "markdown",
      "source": [
        "# OR:"
      ],
      "metadata": {
        "id": "jIrp05mAHp1u"
      }
    },
    {
      "cell_type": "code",
      "source": [
        "lenghtOfList, shiftNum = map(int, input().split())\n",
        "list = []\n",
        "list = input().split()\n",
        "for i in range(shiftNum):\n",
        "    list.insert(0, list.pop())\n",
        "for i in list:\n",
        "    print(i, end=\" \")"
      ],
      "metadata": {
        "id": "VCf_rnm8HsST"
      },
      "execution_count": null,
      "outputs": []
    },
    {
      "cell_type": "markdown",
      "source": [
        "# sum of 2 array:"
      ],
      "metadata": {
        "id": "JdZ6jW6lQhbd"
      }
    },
    {
      "cell_type": "code",
      "source": [
        "n, m = map(int, input().split())\n",
        "\n",
        "a = []\n",
        "for i in range(n):\n",
        "\ta.append(list(map(int, input().split())))\n",
        "\t\n",
        "b = []\n",
        "for i in range(n):\n",
        "\tb.append(list(map(int, input().split())))\n",
        "\n",
        "c = [[a[i][j] + b[i][j] for j in range(m)] for i in range(n)]\n",
        "\n",
        "for i in range(n):\n",
        "    for j in range(m):\n",
        "        print(c[i][j], end=' ')\n",
        "    print()"
      ],
      "metadata": {
        "id": "rO-29-hnQlO0"
      },
      "execution_count": null,
      "outputs": []
    },
    {
      "cell_type": "markdown",
      "source": [
        "# OR:"
      ],
      "metadata": {
        "id": "akpIIqG3lW7y"
      }
    },
    {
      "cell_type": "code",
      "source": [
        "n, m = map(int, input().split())\n",
        "\n",
        "a = []\n",
        "for i in range(n):\n",
        "    row = list(map(int, input().split()))\n",
        "    a.append(row)\n",
        "\n",
        "b = []\n",
        "for i in range(n):\n",
        "    row = list(map(int, input().split()))\n",
        "    b.append(row)\n",
        "\n",
        "c = []\n",
        "for i in range(n):\n",
        "    row = []\n",
        "    for j in range(m):\n",
        "        row.append(a[i][j] + b[i][j])\n",
        "    c.append(row)\n",
        "\n",
        "for row in c:\n",
        "    print(' '.join(map(str, row)))"
      ],
      "metadata": {
        "id": "B55emhmrlZQN"
      },
      "execution_count": null,
      "outputs": []
    },
    {
      "cell_type": "markdown",
      "source": [
        "# OR:"
      ],
      "metadata": {
        "id": "rzCJe08LlgEW"
      }
    },
    {
      "cell_type": "code",
      "source": [
        "a, b = map(int, input().split())\n",
        "c = []\n",
        "d = []\n",
        "result = [[0] * b for i in range(a)]\n",
        "for i in range(a):\n",
        "    row = list(map(int, input().split()))\n",
        "    c.append(row)\n",
        "for i in range(a):\n",
        "    row = list(map(int, input().split()))\n",
        "    d.append(row)\n",
        "\n",
        "for i in range(len(c)):\n",
        "    for j in range(len(c[0])):\n",
        "        result[i][j] = c[i][j] + d[i][j]\n",
        "\n",
        "for i in result:\n",
        "    for j in i:\n",
        "        print(j, end = ' ')\n",
        "    print()"
      ],
      "metadata": {
        "id": "M2_Jh7otljGn"
      },
      "execution_count": null,
      "outputs": []
    },
    {
      "cell_type": "markdown",
      "source": [
        "# OR:"
      ],
      "metadata": {
        "id": "-wWbSP1WlplW"
      }
    },
    {
      "cell_type": "code",
      "source": [
        "n, m = map(int, input().split())\n",
        "arr1 = [[int(j) for j in input().split()] for i in range(n)]\n",
        "arr2 = [[int(j) for j in input().split()] for i in range(n)]\n",
        "r = [[0] * m for i in range(n)]\n",
        "for i in range(n):\n",
        "    for j in range(m):\n",
        "        r[i][j] = arr1[i][j] + arr2[i][j]\n",
        "for i in range(n):\n",
        "    for j in range(m):\n",
        "        print(r[i][j], end=' ')\n",
        "    print()"
      ],
      "metadata": {
        "colab": {
          "base_uri": "https://localhost:8080/"
        },
        "id": "-wnmu-gplsaG",
        "outputId": "fbca1518-a5a2-4f20-d601-563b92509691"
      },
      "execution_count": 1,
      "outputs": [
        {
          "output_type": "stream",
          "name": "stdout",
          "text": [
            "2 3\n",
            "1 1 1\n",
            "2 2 2\n",
            "3 3 3\n",
            "4 4 4\n",
            "4 4 4 \n",
            "6 6 6 \n"
          ]
        }
      ]
    },
    {
      "cell_type": "markdown",
      "source": [
        "sum of 2 array from chatGTP:"
      ],
      "metadata": {
        "id": "4WBs3GYGsgUY"
      }
    },
    {
      "cell_type": "code",
      "source": [
        "a = [2,3]\n",
        "b = [3,4]\n",
        "c = [sum(i) for i in zip(a,b)]\n",
        "print(c)"
      ],
      "metadata": {
        "id": "pwRpbOzirDfz"
      },
      "execution_count": null,
      "outputs": []
    },
    {
      "cell_type": "code",
      "source": [
        "s = input()\n",
        "print (s)\n"
      ],
      "metadata": {
        "id": "lmvLBjJqBaBl"
      },
      "execution_count": null,
      "outputs": []
    },
    {
      "cell_type": "markdown",
      "source": [
        "# Taghirat araye ey:"
      ],
      "metadata": {
        "id": "rygQrcCYDUoI"
      }
    },
    {
      "cell_type": "markdown",
      "source": [
        "1 solution, ??"
      ],
      "metadata": {
        "id": "9Xf7b_8QEnzp"
      }
    },
    {
      "cell_type": "code",
      "source": [
        "q = int(input())\n",
        "arr = list()\n",
        "for i in range(q):\n",
        "    a = input().split()\n",
        "    if a[0] == '+':\n",
        "        arr.insert(int(a[1]) - 1, int(a[2]))\n",
        "    else:\n",
        "        arr.pop(int(a[1]) - 1 )\n",
        "    if arr == list():\n",
        "        print('EMPTY')\n",
        "    else:\n",
        "        print(*arr)"
      ],
      "metadata": {
        "colab": {
          "base_uri": "https://localhost:8080/"
        },
        "id": "vJ7SLXZNCm7_",
        "outputId": "5387d9ba-064e-4e99-ee82-d31ad9b8c27e"
      },
      "execution_count": 19,
      "outputs": [
        {
          "output_type": "stream",
          "name": "stdout",
          "text": [
            "3\n",
            "+ 0 1\n",
            "1\n",
            "+ 1 5\n",
            "5 1\n",
            "- 0\n",
            "5\n"
          ]
        }
      ]
    },
    {
      "cell_type": "markdown",
      "source": [
        "# OR:"
      ],
      "metadata": {
        "id": "QeI8ohx4CoET"
      }
    },
    {
      "cell_type": "code",
      "source": [
        "q = int(input())\n",
        "arr = []\n",
        "r = []\n",
        "for i in range(q):\n",
        "    arr.append(input().split())\n",
        "for a in arr:\n",
        "    if a[0] == \"+\":\n",
        "        r.insert(int(a[1])-1,int(a[2]))\n",
        "        print(*r)\n",
        "    else:\n",
        "        r.pop(int(a[1])-1)\n",
        "        if r == []:\n",
        "            print(\"EMPTY\")\n",
        "        else:\n",
        "            print(*r)\n",
        " "
      ],
      "metadata": {
        "id": "oBPbafY8991q"
      },
      "execution_count": null,
      "outputs": []
    },
    {
      "cell_type": "markdown",
      "source": [
        "# OR:"
      ],
      "metadata": {
        "id": "amGzlE6W-JBI"
      }
    },
    {
      "cell_type": "code",
      "source": [
        "n = int(input())\n",
        "a = []\n",
        "for i in range(n):\n",
        "    inp = input().split()\n",
        "    ch = inp[0]\n",
        "    index = int(inp[1])\n",
        "\n",
        "    if ch == '+':\n",
        "        value = int(inp[2])\n",
        "        a.insert(index - 1, value)\n",
        "    else:\n",
        "        a.pop(index - 1)\n",
        "    \n",
        "    if len(a) == 0:\n",
        "        print(\"EMPTY\")\n",
        "    else:\n",
        "        for x in a:\n",
        "            print(x, end=' ')\n",
        "        print()"
      ],
      "metadata": {
        "id": "ppqhdrc167qY"
      },
      "execution_count": null,
      "outputs": []
    },
    {
      "cell_type": "markdown",
      "source": [
        "# OR:"
      ],
      "metadata": {
        "id": "N1zwoZub-Zdx"
      }
    },
    {
      "cell_type": "code",
      "source": [
        "q = int(input())\n",
        "a = list()\n",
        "b = list()\n",
        "\n",
        "for i in range (q):\n",
        "    a.append(list(map(str, input().split())))\n",
        "\n",
        "for i in range (q):\n",
        "    if (a[i][0] == '+'):\n",
        "        b.insert(int(a[i][1]) - 1, int(a[i][2]))\n",
        "    elif (a[i][0] == '-'):\n",
        "        b.pop(int(a[i][1]) - 1)\n",
        "\n",
        "    if (len(b) == 0):\n",
        "        print(\"EMPTY\")\n",
        "    else:\n",
        "        print(*b)"
      ],
      "metadata": {
        "id": "Y3hSJXJ_-ccp"
      },
      "execution_count": null,
      "outputs": []
    },
    {
      "cell_type": "code",
      "source": [
        "q = int(input())\n",
        "a = []\n",
        "for i in range (q):\n",
        "    a.append(list(map(str, input().split())))\n",
        "print(a)\n"
      ],
      "metadata": {
        "colab": {
          "base_uri": "https://localhost:8080/"
        },
        "id": "LE53A2t2_ftA",
        "outputId": "d17dc899-47c8-4f9b-ef06-a1f7771cd92a"
      },
      "execution_count": 16,
      "outputs": [
        {
          "output_type": "stream",
          "name": "stdout",
          "text": [
            "2\n",
            "d 1 2\n",
            "+ 0 1\n",
            "[['d', '1', '2'], ['+', '0', '1']]\n"
          ]
        }
      ]
    },
    {
      "cell_type": "markdown",
      "source": [
        "OR ?:"
      ],
      "metadata": {
        "id": "EuG2EvfQ-CRa"
      }
    },
    {
      "cell_type": "code",
      "source": [
        "a = []\n",
        "q = int(input())\n",
        "for i in range(q):\n",
        "    s, i = map(str,input().split())\n",
        "    if s == '+' :\n",
        "        x = int(input())\n",
        "        a.insert(int(i),int(x))\n",
        "    elif s == '-':\n",
        "      a.pop(int(i))\n",
        "    print(a)"
      ],
      "metadata": {
        "id": "kQkXyYji-FSi"
      },
      "execution_count": null,
      "outputs": []
    },
    {
      "cell_type": "markdown",
      "source": [
        "# OR:"
      ],
      "metadata": {
        "id": "zHGZylLaCTCH"
      }
    },
    {
      "cell_type": "code",
      "source": [
        "#functions\n",
        "#print function\n",
        "def my_print(a):\n",
        "    if( len(a ) == 0):\n",
        "        print(\"EMPTY\")\n",
        "    for i in range(len(a)):\n",
        "        if(i == len(a)-1):\n",
        "            print(a[i ] )\n",
        "        else:\n",
        "            print(a[i], end=\" \")\n",
        "\n",
        "\n",
        "#------------------\n",
        "n = int( input( ) )\n",
        "a = list()\n",
        "for i in range( n ):\n",
        "    t = input( )\n",
        "    temp = t.split( )\n",
        "    if(temp[0] == \"-\"):\n",
        "        a.pop( int(temp[1])-1 )\n",
        "        my_print(a)\n",
        "    elif(temp[0] == \"+\"):\n",
        "        a.insert(int(temp[1])-1,int(temp[2]))\n",
        "        my_print(a)\n",
        "    else:\n",
        "        print(\"wrong input !\")\n"
      ],
      "metadata": {
        "id": "OWDn7TFACVsv"
      },
      "execution_count": null,
      "outputs": []
    },
    {
      "cell_type": "code",
      "source": [
        "q = int(input())\n",
        "\n",
        "for i in range(q):\n",
        "    a = input().split()\n",
        "print(a)"
      ],
      "metadata": {
        "colab": {
          "base_uri": "https://localhost:8080/"
        },
        "id": "5BT244pDDhaD",
        "outputId": "b171d2ad-2488-4819-eccf-aa1ed2833e03"
      },
      "execution_count": 17,
      "outputs": [
        {
          "output_type": "stream",
          "name": "stdout",
          "text": [
            "3\n",
            "1 2 3\n",
            "1 0 3\n",
            "5 6 9\n",
            "['5', '6', '9']\n"
          ]
        }
      ]
    }
  ]
}