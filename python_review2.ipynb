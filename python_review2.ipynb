{
  "nbformat": 4,
  "nbformat_minor": 0,
  "metadata": {
    "colab": {
      "provenance": [],
      "authorship_tag": "ABX9TyPrZAcgYrKfKgj+xOlSiZS/",
      "include_colab_link": true
    },
    "kernelspec": {
      "name": "python3",
      "display_name": "Python 3"
    },
    "language_info": {
      "name": "python"
    }
  },
  "cells": [
    {
      "cell_type": "markdown",
      "metadata": {
        "id": "view-in-github",
        "colab_type": "text"
      },
      "source": [
        "<a href=\"https://colab.research.google.com/github/RemiJolian/Python/blob/main/python_review2.ipynb\" target=\"_parent\"><img src=\"https://colab.research.google.com/assets/colab-badge.svg\" alt=\"Open In Colab\"/></a>"
      ]
    },
    {
      "cell_type": "markdown",
      "source": [
        "# input list of nums:"
      ],
      "metadata": {
        "id": "rP0iEppv3pxd"
      }
    },
    {
      "cell_type": "code",
      "execution_count": 26,
      "metadata": {
        "colab": {
          "base_uri": "https://localhost:8080/"
        },
        "id": "DQPIBKZ03C6p",
        "outputId": "44968f76-6f24-4414-81c1-0dd2b7518a62"
      },
      "outputs": [
        {
          "output_type": "stream",
          "name": "stdout",
          "text": [
            "1 2 3\n",
            "[1, 2, 3]\n"
          ]
        }
      ],
      "source": [
        "array = [int(x) for x in input().split()]\n",
        "print(array)"
      ]
    },
    {
      "cell_type": "markdown",
      "source": [
        "# OR:"
      ],
      "metadata": {
        "id": "6g2ravSV3yF1"
      }
    },
    {
      "cell_type": "code",
      "source": [
        "array = list(map(int, input().split()))\n",
        "print (array)"
      ],
      "metadata": {
        "id": "VFMWcrbw30Jf"
      },
      "execution_count": null,
      "outputs": []
    },
    {
      "cell_type": "markdown",
      "source": [
        "OR2:"
      ],
      "metadata": {
        "id": "BNSzIOLn4Mx3"
      }
    },
    {
      "cell_type": "code",
      "source": [
        "a = []\n",
        "tmp = input().split()\n",
        "for i in range(0, len(tmp)):\n",
        "    x = int(tmp[i])\n",
        "    a.append(x)"
      ],
      "metadata": {
        "id": "Mh6cBp2m4QWw"
      },
      "execution_count": null,
      "outputs": []
    },
    {
      "cell_type": "markdown",
      "source": [
        "Print 2 list"
      ],
      "metadata": {
        "id": "57aYvp2k6TEj"
      }
    },
    {
      "cell_type": "code",
      "source": [
        "array1 = [int(i) for i in input().split()]\n",
        "array2 = [int(j) for j in input().split()]\n",
        "print(*array2,*array1)"
      ],
      "metadata": {
        "id": "_w0B0eQQ6D1v",
        "colab": {
          "base_uri": "https://localhost:8080/"
        },
        "outputId": "201ccec5-ca3d-4be3-e7d9-1dd28e65a98b"
      },
      "execution_count": 2,
      "outputs": [
        {
          "output_type": "stream",
          "name": "stdout",
          "text": [
            "1 2 3\n",
            "4 5 6\n",
            "4 5 6 1 2 3\n"
          ]
        }
      ]
    },
    {
      "cell_type": "markdown",
      "source": [
        "OR:"
      ],
      "metadata": {
        "id": "XTS31S1y6zOJ"
      }
    },
    {
      "cell_type": "code",
      "source": [
        "array1 = [int(x) for x in input().split()]\n",
        "array2 = list(map(int, input().split()))\n",
        "for x in array2:\n",
        "    print(x, end=' ')\n",
        "for x in array1:\n",
        "    print(x, end=' ')"
      ],
      "metadata": {
        "id": "g7Gwxxrm60s6",
        "colab": {
          "base_uri": "https://localhost:8080/"
        },
        "outputId": "7236bba5-cf75-46c8-e26f-e4d356f1b66e"
      },
      "execution_count": 27,
      "outputs": [
        {
          "output_type": "stream",
          "name": "stdout",
          "text": [
            "1 2 3\n",
            "4 5 6\n",
            "4 5 6 1 2 3 "
          ]
        }
      ]
    },
    {
      "cell_type": "markdown",
      "source": [
        "# list with specific member:"
      ],
      "metadata": {
        "id": "mhv2T3sn_JWT"
      }
    },
    {
      "cell_type": "code",
      "source": [
        "lst = [0] * 100"
      ],
      "metadata": {
        "id": "3rgyXFgx_R4M"
      },
      "execution_count": null,
      "outputs": []
    },
    {
      "cell_type": "markdown",
      "source": [
        "a list from 1 to 100 nums:"
      ],
      "metadata": {
        "id": "aV25qCYvApUw"
      }
    },
    {
      "cell_type": "code",
      "source": [
        "array = list()\n",
        "for i in range(1,101):\n",
        "    array.append(i)\n",
        "print(array)"
      ],
      "metadata": {
        "id": "KDPJKzo7At-V"
      },
      "execution_count": null,
      "outputs": []
    },
    {
      "cell_type": "markdown",
      "source": [
        "OR1:"
      ],
      "metadata": {
        "id": "3xH6WuN-AvgV"
      }
    },
    {
      "cell_type": "code",
      "source": [
        "l = [0] * 100\n",
        "for i in range(100):\n",
        "    l[i] = i + 1\n",
        "print(l)"
      ],
      "metadata": {
        "id": "ynJFOwl9AxqJ"
      },
      "execution_count": null,
      "outputs": []
    },
    {
      "cell_type": "markdown",
      "source": [
        "OR2:"
      ],
      "metadata": {
        "id": "4A9G_nyqA0w1"
      }
    },
    {
      "cell_type": "code",
      "source": [
        "l = [i + 1 for i in range(100)]\n",
        "print(l)"
      ],
      "metadata": {
        "id": "DviXwomeA2ho"
      },
      "execution_count": null,
      "outputs": []
    },
    {
      "cell_type": "markdown",
      "source": [
        "Compare 2 lists:"
      ],
      "metadata": {
        "id": "_4tqqnVxEI7p"
      }
    },
    {
      "cell_type": "code",
      "source": [
        "n = int(input())\n",
        "s1 = list(input())\n",
        "s2 = list(input())\n",
        "e = 0\n",
        "for i in range(n):\n",
        "    if s2[i] != s1[i]:\n",
        "        e += 1\n",
        "print(e)\n"
      ],
      "metadata": {
        "id": "0aNR5xz-DEje"
      },
      "execution_count": null,
      "outputs": []
    },
    {
      "cell_type": "markdown",
      "source": [
        "Dr.Yosefi and his queiz,wrong code,why:\n"
      ],
      "metadata": {
        "id": "IOMoySv2MTJP"
      }
    },
    {
      "cell_type": "code",
      "source": [
        "n , q = map(int,input().split())\n",
        "array = list(input().split())\n",
        "arr2 = list()\n",
        "for i in range(q):\n",
        "    sum = 0\n",
        "    t, l, r = map(int,input().split()) #t = 1 or 2\n",
        "    if t == 1:\n",
        "        for j in range (l-1,r):\n",
        "            sum += int(array[j])\n",
        "        arr2.append(sum)\n",
        "    elif t == 2:\n",
        "        array[l-1] = array[r-1]\n",
        "        for j in range (l-1,r-1):\n",
        "            array[j+1] = array[j]\n",
        "\n",
        "for i in range(len(arr2)):\n",
        "  print(arr2[i])\n"
      ],
      "metadata": {
        "id": "UH6GQtmdMYhi"
      },
      "execution_count": null,
      "outputs": []
    },
    {
      "cell_type": "markdown",
      "source": [
        "# Dr.Yosefi,correct code:"
      ],
      "metadata": {
        "id": "dbdG9NnW-Nw2"
      }
    },
    {
      "cell_type": "code",
      "source": [
        "n, q = map(int, input().split())\n",
        "a = list(map(int, input().split()))\n",
        "for i in range(q):\n",
        "    t, l, r = map(int, input().split())\n",
        "    l -= 1\n",
        "    r -= 1\n",
        "    if t == 1:\n",
        "        print(sum(a[l:r + 1]))\n",
        "    else:\n",
        "        t = a[r]\n",
        "        for j in range(r - 1, l - 1, -1):\n",
        "            a[j + 1] = a[j]\n",
        "        a[l] = t"
      ],
      "metadata": {
        "id": "NtIXwPPY-TXR"
      },
      "execution_count": null,
      "outputs": []
    },
    {
      "cell_type": "markdown",
      "source": [
        "# print reverse of some num until enter 0:"
      ],
      "metadata": {
        "id": "k2vbivThheSh"
      }
    },
    {
      "cell_type": "code",
      "source": [
        "n = int(input())\n",
        "a = list()\n",
        "while n != 0 :\n",
        "    a.append(n)\n",
        "    n = int(input())\n",
        "\n",
        "for i in range(len(a)-1,-1,-1):\n",
        "    print (a[i])"
      ],
      "metadata": {
        "id": "9Xk0twfChnfm"
      },
      "execution_count": 19,
      "outputs": []
    },
    {
      "cell_type": "markdown",
      "source": [
        "# OR:"
      ],
      "metadata": {
        "id": "dTr-QOc6oAyk"
      }
    },
    {
      "cell_type": "code",
      "source": [
        "nums = []\n",
        "while True:\n",
        "    num = input()\n",
        "    if num != \"0\":\n",
        "        nums.append(num)\n",
        "    else:\n",
        "        break\n",
        "k = len(nums)-1\n",
        "while k >= 0:\n",
        "    print(nums[k])\n",
        "    k-=1"
      ],
      "metadata": {
        "id": "havNmxMaog7y"
      },
      "execution_count": null,
      "outputs": []
    },
    {
      "cell_type": "markdown",
      "source": [
        "# OR:"
      ],
      "metadata": {
        "id": "yNjZ9v-Fp1p8"
      }
    },
    {
      "cell_type": "code",
      "source": [
        "a = []\n",
        "\n",
        "while True:\n",
        "    x = int(input())\n",
        "    if (x == 0):\n",
        "        break\n",
        "    a.append(x)\n",
        "\n",
        "for i in range (1, len(a) + 1):\n",
        "    print(a[len(a) - i])"
      ],
      "metadata": {
        "id": "s8bt1El0p4oh"
      },
      "execution_count": null,
      "outputs": []
    },
    {
      "cell_type": "markdown",
      "source": [
        "# Array shif,x times:"
      ],
      "metadata": {
        "id": "HXdLNdTsxWpt"
      }
    },
    {
      "cell_type": "code",
      "source": [
        "n, x = map(int, input().split())\n",
        "a = list(map(int, input().split()))\n",
        "for i in range(x):\n",
        "    k = a[len(a)-1]\n",
        "    for j in range(0, len(a)-1):\n",
        "      a[(len(a)-1)-j] = a[(len(a)-1)-j-1]\n",
        "    a[0] = k\n",
        "    \n",
        "print(a)"
      ],
      "metadata": {
        "colab": {
          "base_uri": "https://localhost:8080/"
        },
        "id": "axyZkcUAxa0O",
        "outputId": "deee3a67-85cf-4066-f9d1-a34a14834cde"
      },
      "execution_count": 21,
      "outputs": [
        {
          "output_type": "stream",
          "name": "stdout",
          "text": [
            "4 1\n",
            "1 2 3 4\n",
            "[2, 3, 1, 1]\n"
          ]
        }
      ]
    },
    {
      "cell_type": "markdown",
      "source": [
        "# OR:"
      ],
      "metadata": {
        "id": "beg6CZ_wFKfN"
      }
    },
    {
      "cell_type": "code",
      "source": [
        "n, x = map(int, input().split())\n",
        "a = list(map(int, input().split()))\n",
        "\n",
        "for i in range(n - x, n):\n",
        "    print(a[i], end=' ')\n",
        "\n",
        "for i in range(0, n - x):\n",
        "    print(a[i], end=' ')"
      ],
      "metadata": {
        "colab": {
          "base_uri": "https://localhost:8080/"
        },
        "id": "_PeWFR1Xx4z5",
        "outputId": "055539b3-f4a5-4359-c4a2-e058135cbe01"
      },
      "execution_count": 22,
      "outputs": [
        {
          "output_type": "stream",
          "name": "stdout",
          "text": [
            "4 1\n",
            "1 2 3 4\n",
            "4 1 2 3 "
          ]
        }
      ]
    },
    {
      "cell_type": "markdown",
      "source": [
        "# OR:"
      ],
      "metadata": {
        "id": "UcfRNZluGINX"
      }
    },
    {
      "cell_type": "code",
      "source": [
        "n, x = map(int, input().split())\n",
        "arr = list(map(int, input().split()))\n",
        "r = [0] * n\n",
        "for i in range(n):\n",
        "    r[(i+x) % n] = arr[i]\n",
        "print(*r)"
      ],
      "metadata": {
        "id": "tzBd1N9fGKLp"
      },
      "execution_count": null,
      "outputs": []
    },
    {
      "cell_type": "markdown",
      "source": [
        "OR:"
      ],
      "metadata": {
        "id": "3MDrtBtCG-P6"
      }
    },
    {
      "cell_type": "code",
      "source": [
        "n, x = map(int, input().split())\n",
        "arr = list(map(int, input().split()))\n",
        "\n",
        "for i in range(x):\n",
        "    arr = [arr[-1]] + arr[:-1]\n",
        "\n",
        "print(*arr)\n"
      ],
      "metadata": {
        "id": "Fm3zY7c-HAXV"
      },
      "execution_count": null,
      "outputs": []
    },
    {
      "cell_type": "code",
      "source": [
        "a = [1,2,3,4]\n",
        "print(a[:-1])"
      ],
      "metadata": {
        "colab": {
          "base_uri": "https://localhost:8080/"
        },
        "id": "kbBJVJFLHHip",
        "outputId": "fd031c89-eb9c-48d3-f28f-e5dc825756ee"
      },
      "execution_count": 24,
      "outputs": [
        {
          "output_type": "stream",
          "name": "stdout",
          "text": [
            "[1, 2, 3]\n"
          ]
        }
      ]
    },
    {
      "cell_type": "markdown",
      "source": [
        "# OR:"
      ],
      "metadata": {
        "id": "jIrp05mAHp1u"
      }
    },
    {
      "cell_type": "code",
      "source": [
        "lenghtOfList, shiftNum = map(int, input().split())\n",
        "list = []\n",
        "list = input().split()\n",
        "for i in range(shiftNum):\n",
        "    list.insert(0, list.pop())\n",
        "for i in list:\n",
        "    print(i, end=\" \")"
      ],
      "metadata": {
        "id": "VCf_rnm8HsST"
      },
      "execution_count": null,
      "outputs": []
    },
    {
      "cell_type": "markdown",
      "source": [
        "# sum of 2 array:"
      ],
      "metadata": {
        "id": "JdZ6jW6lQhbd"
      }
    },
    {
      "cell_type": "code",
      "source": [
        "n , m = map(int,input().split())\n",
        "l1 = []\n",
        "l2 = []\n",
        "l3 = []\n",
        "for i in range (0,n):\n",
        "    l1.append(list(map(int,input().split())))\n",
        "for i in range(n):\n",
        "      l2.append(list(map(int,input().split())))\n",
        "\n",
        "\n",
        "\n",
        "for i in range(n):\n",
        "  for j in range(m):\n",
        "    k = l1[i][j]+l2[i][j]\n",
        "    l3.append(list(k))\n",
        "    #print (k)\n",
        "\n",
        "print(l1)\n",
        "print(l2)\n",
        "print(l3)\n",
        "#for i in range(n):\n",
        "  #print (*l3[i])\n"
      ],
      "metadata": {
        "colab": {
          "base_uri": "https://localhost:8080/",
          "height": 336
        },
        "id": "rO-29-hnQlO0",
        "outputId": "6dc5d822-3067-4763-db0b-b3e9e6d12e2c"
      },
      "execution_count": 48,
      "outputs": [
        {
          "name": "stdout",
          "output_type": "stream",
          "text": [
            "2 3\n",
            "1 1 1\n",
            "2 2 2\n",
            "3 3 3\n",
            "4 4 4\n"
          ]
        },
        {
          "output_type": "error",
          "ename": "TypeError",
          "evalue": "ignored",
          "traceback": [
            "\u001b[0;31m---------------------------------------------------------------------------\u001b[0m",
            "\u001b[0;31mTypeError\u001b[0m                                 Traceback (most recent call last)",
            "\u001b[0;32m<ipython-input-48-be38bb80500b>\u001b[0m in \u001b[0;36m<module>\u001b[0;34m\u001b[0m\n\u001b[1;32m     13\u001b[0m   \u001b[0;32mfor\u001b[0m \u001b[0mj\u001b[0m \u001b[0;32min\u001b[0m \u001b[0mrange\u001b[0m\u001b[0;34m(\u001b[0m\u001b[0mm\u001b[0m\u001b[0;34m)\u001b[0m\u001b[0;34m:\u001b[0m\u001b[0;34m\u001b[0m\u001b[0;34m\u001b[0m\u001b[0m\n\u001b[1;32m     14\u001b[0m     \u001b[0mk\u001b[0m \u001b[0;34m=\u001b[0m \u001b[0ml1\u001b[0m\u001b[0;34m[\u001b[0m\u001b[0mi\u001b[0m\u001b[0;34m]\u001b[0m\u001b[0;34m[\u001b[0m\u001b[0mj\u001b[0m\u001b[0;34m]\u001b[0m\u001b[0;34m+\u001b[0m\u001b[0ml2\u001b[0m\u001b[0;34m[\u001b[0m\u001b[0mi\u001b[0m\u001b[0;34m]\u001b[0m\u001b[0;34m[\u001b[0m\u001b[0mj\u001b[0m\u001b[0;34m]\u001b[0m\u001b[0;34m\u001b[0m\u001b[0;34m\u001b[0m\u001b[0m\n\u001b[0;32m---> 15\u001b[0;31m     \u001b[0ml3\u001b[0m\u001b[0;34m.\u001b[0m\u001b[0mappend\u001b[0m\u001b[0;34m(\u001b[0m\u001b[0mlist\u001b[0m\u001b[0;34m(\u001b[0m\u001b[0mk\u001b[0m\u001b[0;34m)\u001b[0m\u001b[0;34m)\u001b[0m\u001b[0;34m\u001b[0m\u001b[0;34m\u001b[0m\u001b[0m\n\u001b[0m\u001b[1;32m     16\u001b[0m     \u001b[0;31m#print (k)\u001b[0m\u001b[0;34m\u001b[0m\u001b[0;34m\u001b[0m\u001b[0m\n\u001b[1;32m     17\u001b[0m \u001b[0;34m\u001b[0m\u001b[0m\n",
            "\u001b[0;31mTypeError\u001b[0m: 'int' object is not iterable"
          ]
        }
      ]
    }
  ]
}