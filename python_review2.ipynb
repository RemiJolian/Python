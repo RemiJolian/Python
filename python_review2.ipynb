{
  "cells": [
    {
      "cell_type": "markdown",
      "metadata": {
        "id": "view-in-github",
        "colab_type": "text"
      },
      "source": [
        "<a href=\"https://colab.research.google.com/github/RemiJolian/Python/blob/main/python_review2.ipynb\" target=\"_parent\"><img src=\"https://colab.research.google.com/assets/colab-badge.svg\" alt=\"Open In Colab\"/></a>"
      ]
    },
    {
      "cell_type": "markdown",
      "metadata": {
        "id": "rP0iEppv3pxd"
      },
      "source": [
        "# input list of nums:"
      ]
    },
    {
      "cell_type": "code",
      "execution_count": null,
      "metadata": {
        "colab": {
          "base_uri": "https://localhost:8080/"
        },
        "id": "DQPIBKZ03C6p",
        "outputId": "9806fe27-9fd3-4014-b36f-8c7b21c1a2ae"
      },
      "outputs": [
        {
          "output_type": "stream",
          "name": "stdout",
          "text": [
            "2 5 6\n",
            "[2, 5, 6]\n"
          ]
        }
      ],
      "source": [
        "array = [int(x) for x in input().split()]\n",
        "print(array)"
      ]
    },
    {
      "cell_type": "markdown",
      "metadata": {
        "id": "6g2ravSV3yF1"
      },
      "source": [
        "# OR:"
      ]
    },
    {
      "cell_type": "code",
      "execution_count": null,
      "metadata": {
        "colab": {
          "base_uri": "https://localhost:8080/"
        },
        "id": "VFMWcrbw30Jf",
        "outputId": "3290896e-4cf4-4039-9a16-05609ac88c23"
      },
      "outputs": [
        {
          "name": "stdout",
          "output_type": "stream",
          "text": [
            "1 2 3\n",
            "[1, 2, 3]\n"
          ]
        }
      ],
      "source": [
        "array = list(map(int, input().split()))\n",
        "print (array)"
      ]
    },
    {
      "cell_type": "markdown",
      "metadata": {
        "id": "BNSzIOLn4Mx3"
      },
      "source": [
        "OR2:"
      ]
    },
    {
      "cell_type": "code",
      "execution_count": null,
      "metadata": {
        "id": "Mh6cBp2m4QWw"
      },
      "outputs": [],
      "source": [
        "a = []\n",
        "tmp = input().split()\n",
        "for i in range(0, len(tmp)):\n",
        "    x = int(tmp[i])\n",
        "    a.append(x)"
      ]
    },
    {
      "cell_type": "markdown",
      "metadata": {
        "id": "57aYvp2k6TEj"
      },
      "source": [
        "Print 2 list"
      ]
    },
    {
      "cell_type": "code",
      "execution_count": null,
      "metadata": {
        "colab": {
          "base_uri": "https://localhost:8080/"
        },
        "id": "_w0B0eQQ6D1v",
        "outputId": "201ccec5-ca3d-4be3-e7d9-1dd28e65a98b"
      },
      "outputs": [
        {
          "name": "stdout",
          "output_type": "stream",
          "text": [
            "1 2 3\n",
            "4 5 6\n",
            "4 5 6 1 2 3\n"
          ]
        }
      ],
      "source": [
        "array1 = [int(i) for i in input().split()]\n",
        "array2 = [int(j) for j in input().split()]\n",
        "print(*array2,*array1)"
      ]
    },
    {
      "cell_type": "markdown",
      "metadata": {
        "id": "XTS31S1y6zOJ"
      },
      "source": [
        "OR:"
      ]
    },
    {
      "cell_type": "code",
      "execution_count": null,
      "metadata": {
        "colab": {
          "base_uri": "https://localhost:8080/"
        },
        "id": "g7Gwxxrm60s6",
        "outputId": "7236bba5-cf75-46c8-e26f-e4d356f1b66e"
      },
      "outputs": [
        {
          "name": "stdout",
          "output_type": "stream",
          "text": [
            "1 2 3\n",
            "4 5 6\n",
            "4 5 6 1 2 3 "
          ]
        }
      ],
      "source": [
        "array1 = [int(x) for x in input().split()]\n",
        "array2 = list(map(int, input().split()))\n",
        "for x in array2:\n",
        "    print(x, end=' ')\n",
        "for x in array1:\n",
        "    print(x, end=' ')"
      ]
    },
    {
      "cell_type": "markdown",
      "metadata": {
        "id": "mhv2T3sn_JWT"
      },
      "source": [
        "# list with specific member:"
      ]
    },
    {
      "cell_type": "code",
      "execution_count": null,
      "metadata": {
        "id": "3rgyXFgx_R4M"
      },
      "outputs": [],
      "source": [
        "lst = [0] * 100"
      ]
    },
    {
      "cell_type": "markdown",
      "metadata": {
        "id": "aV25qCYvApUw"
      },
      "source": [
        "a list from 1 to 100 nums:"
      ]
    },
    {
      "cell_type": "code",
      "execution_count": null,
      "metadata": {
        "id": "KDPJKzo7At-V"
      },
      "outputs": [],
      "source": [
        "array = list()\n",
        "for i in range(1,101):\n",
        "    array.append(i)\n",
        "print(array)"
      ]
    },
    {
      "cell_type": "markdown",
      "metadata": {
        "id": "3xH6WuN-AvgV"
      },
      "source": [
        "OR1:"
      ]
    },
    {
      "cell_type": "code",
      "execution_count": null,
      "metadata": {
        "colab": {
          "base_uri": "https://localhost:8080/"
        },
        "id": "ynJFOwl9AxqJ",
        "outputId": "5ac1cd5c-166b-4e6b-c800-5b58ac21cf46"
      },
      "outputs": [
        {
          "name": "stdout",
          "output_type": "stream",
          "text": [
            "[1, 2, 3, 4, 5, 6, 7, 8, 9, 10, 11, 12, 13, 14, 15, 16, 17, 18, 19, 20, 21, 22, 23, 24, 25, 26, 27, 28, 29, 30, 31, 32, 33, 34, 35, 36, 37, 38, 39, 40, 41, 42, 43, 44, 45, 46, 47, 48, 49, 50, 51, 52, 53, 54, 55, 56, 57, 58, 59, 60, 61, 62, 63, 64, 65, 66, 67, 68, 69, 70, 71, 72, 73, 74, 75, 76, 77, 78, 79, 80, 81, 82, 83, 84, 85, 86, 87, 88, 89, 90, 91, 92, 93, 94, 95, 96, 97, 98, 99, 100]\n"
          ]
        }
      ],
      "source": [
        "l = [0] * 100\n",
        "for i in range(100):\n",
        "    l[i] = i + 1\n",
        "print(l)"
      ]
    },
    {
      "cell_type": "markdown",
      "metadata": {
        "id": "4A9G_nyqA0w1"
      },
      "source": [
        "OR2:"
      ]
    },
    {
      "cell_type": "code",
      "execution_count": null,
      "metadata": {
        "id": "DviXwomeA2ho"
      },
      "outputs": [],
      "source": [
        "l = [i + 1 for i in range(100)]\n",
        "print(l)"
      ]
    },
    {
      "cell_type": "markdown",
      "metadata": {
        "id": "_4tqqnVxEI7p"
      },
      "source": [
        "Compare 2 lists:"
      ]
    },
    {
      "cell_type": "code",
      "execution_count": null,
      "metadata": {
        "id": "0aNR5xz-DEje"
      },
      "outputs": [],
      "source": [
        "n = int(input())\n",
        "s1 = list(input())\n",
        "s2 = list(input())\n",
        "e = 0\n",
        "for i in range(n):\n",
        "    if s2[i] != s1[i]:\n",
        "        e += 1\n",
        "print(e)\n"
      ]
    },
    {
      "cell_type": "markdown",
      "metadata": {
        "id": "IOMoySv2MTJP"
      },
      "source": [
        "Dr.Yosefi and his queiz,wrong code,why:\n"
      ]
    },
    {
      "cell_type": "code",
      "execution_count": null,
      "metadata": {
        "id": "UH6GQtmdMYhi"
      },
      "outputs": [],
      "source": [
        "n , q = map(int,input().split())\n",
        "array = list(input().split())\n",
        "arr2 = list()\n",
        "for i in range(q):\n",
        "    sum = 0\n",
        "    t, l, r = map(int,input().split()) #t = 1 or 2\n",
        "    if t == 1:\n",
        "        for j in range (l-1,r):\n",
        "            sum += int(array[j])\n",
        "        arr2.append(sum)\n",
        "    elif t == 2:\n",
        "        array[l-1] = array[r-1]\n",
        "        for j in range (l-1,r-1):\n",
        "            array[j+1] = array[j]\n",
        "\n",
        "for i in range(len(arr2)):\n",
        "  print(arr2[i])\n"
      ]
    },
    {
      "cell_type": "markdown",
      "metadata": {
        "id": "dbdG9NnW-Nw2"
      },
      "source": [
        "# Dr.Yosefi,correct code:"
      ]
    },
    {
      "cell_type": "code",
      "execution_count": null,
      "metadata": {
        "id": "NtIXwPPY-TXR"
      },
      "outputs": [],
      "source": [
        "n, q = map(int, input().split())\n",
        "a = list(map(int, input().split()))\n",
        "for i in range(q):\n",
        "    t, l, r = map(int, input().split())\n",
        "    l -= 1\n",
        "    r -= 1\n",
        "    if t == 1:\n",
        "        print(sum(a[l:r + 1]))\n",
        "    else:\n",
        "        t = a[r]\n",
        "        for j in range(r - 1, l - 1, -1):\n",
        "            a[j + 1] = a[j]\n",
        "        a[l] = t"
      ]
    },
    {
      "cell_type": "markdown",
      "metadata": {
        "id": "k2vbivThheSh"
      },
      "source": [
        "# print reverse of some num until enter 0:"
      ]
    },
    {
      "cell_type": "code",
      "execution_count": null,
      "metadata": {
        "id": "9Xk0twfChnfm"
      },
      "outputs": [],
      "source": [
        "n = int(input())\n",
        "a = list()\n",
        "while n != 0 :\n",
        "    a.append(n)\n",
        "    n = int(input())\n",
        "\n",
        "for i in range(len(a)-1,-1,-1):\n",
        "    print (a[i])"
      ]
    },
    {
      "cell_type": "markdown",
      "metadata": {
        "id": "dTr-QOc6oAyk"
      },
      "source": [
        "# OR:"
      ]
    },
    {
      "cell_type": "code",
      "execution_count": null,
      "metadata": {
        "id": "havNmxMaog7y"
      },
      "outputs": [],
      "source": [
        "nums = []\n",
        "while True:\n",
        "    num = input()\n",
        "    if num != \"0\":\n",
        "        nums.append(num)\n",
        "    else:\n",
        "        break\n",
        "k = len(nums)-1\n",
        "while k >= 0:\n",
        "    print(nums[k])\n",
        "    k-=1"
      ]
    },
    {
      "cell_type": "markdown",
      "metadata": {
        "id": "yNjZ9v-Fp1p8"
      },
      "source": [
        "# OR:"
      ]
    },
    {
      "cell_type": "code",
      "execution_count": null,
      "metadata": {
        "id": "s8bt1El0p4oh"
      },
      "outputs": [],
      "source": [
        "a = []\n",
        "\n",
        "while True:\n",
        "    x = int(input())\n",
        "    if (x == 0):\n",
        "        break\n",
        "    a.append(x)\n",
        "\n",
        "for i in range (1, len(a) + 1):\n",
        "    print(a[len(a) - i])"
      ]
    },
    {
      "cell_type": "markdown",
      "metadata": {
        "id": "HXdLNdTsxWpt"
      },
      "source": [
        "# Array shif,x times:"
      ]
    },
    {
      "cell_type": "code",
      "execution_count": null,
      "metadata": {
        "colab": {
          "base_uri": "https://localhost:8080/"
        },
        "id": "axyZkcUAxa0O",
        "outputId": "deee3a67-85cf-4066-f9d1-a34a14834cde"
      },
      "outputs": [
        {
          "name": "stdout",
          "output_type": "stream",
          "text": [
            "4 1\n",
            "1 2 3 4\n",
            "[2, 3, 1, 1]\n"
          ]
        }
      ],
      "source": [
        "n, x = map(int, input().split())\n",
        "a = list(map(int, input().split()))\n",
        "for i in range(x):\n",
        "    k = a[len(a)-1]\n",
        "    for j in range(0, len(a)-1):\n",
        "      a[(len(a)-1)-j] = a[(len(a)-1)-j-1]\n",
        "    a[0] = k\n",
        "    \n",
        "print(a)"
      ]
    },
    {
      "cell_type": "markdown",
      "metadata": {
        "id": "beg6CZ_wFKfN"
      },
      "source": [
        "# OR:"
      ]
    },
    {
      "cell_type": "code",
      "execution_count": null,
      "metadata": {
        "colab": {
          "base_uri": "https://localhost:8080/"
        },
        "id": "_PeWFR1Xx4z5",
        "outputId": "055539b3-f4a5-4359-c4a2-e058135cbe01"
      },
      "outputs": [
        {
          "name": "stdout",
          "output_type": "stream",
          "text": [
            "4 1\n",
            "1 2 3 4\n",
            "4 1 2 3 "
          ]
        }
      ],
      "source": [
        "n, x = map(int, input().split())\n",
        "a = list(map(int, input().split()))\n",
        "\n",
        "for i in range(n - x, n):\n",
        "    print(a[i], end=' ')\n",
        "\n",
        "for i in range(0, n - x):\n",
        "    print(a[i], end=' ')"
      ]
    },
    {
      "cell_type": "markdown",
      "metadata": {
        "id": "UcfRNZluGINX"
      },
      "source": [
        "# OR:"
      ]
    },
    {
      "cell_type": "code",
      "execution_count": null,
      "metadata": {
        "id": "tzBd1N9fGKLp"
      },
      "outputs": [],
      "source": [
        "n, x = map(int, input().split())\n",
        "arr = list(map(int, input().split()))\n",
        "r = [0] * n\n",
        "for i in range(n):\n",
        "    r[(i+x) % n] = arr[i]\n",
        "print(*r)"
      ]
    },
    {
      "cell_type": "markdown",
      "metadata": {
        "id": "3MDrtBtCG-P6"
      },
      "source": [
        "OR:"
      ]
    },
    {
      "cell_type": "code",
      "execution_count": null,
      "metadata": {
        "id": "Fm3zY7c-HAXV"
      },
      "outputs": [],
      "source": [
        "n, x = map(int, input().split())\n",
        "arr = list(map(int, input().split()))\n",
        "\n",
        "for i in range(x):\n",
        "    arr = [arr[-1]] + arr[:-1]\n",
        "\n",
        "print(*arr)\n"
      ]
    },
    {
      "cell_type": "markdown",
      "metadata": {
        "id": "jIrp05mAHp1u"
      },
      "source": [
        "# OR:"
      ]
    },
    {
      "cell_type": "code",
      "execution_count": null,
      "metadata": {
        "id": "VCf_rnm8HsST"
      },
      "outputs": [],
      "source": [
        "lenghtOfList, shiftNum = map(int, input().split())\n",
        "list = []\n",
        "list = input().split()\n",
        "for i in range(shiftNum):\n",
        "    list.insert(0, list.pop())\n",
        "for i in list:\n",
        "    print(i, end=\" \")"
      ]
    },
    {
      "cell_type": "markdown",
      "metadata": {
        "id": "JdZ6jW6lQhbd"
      },
      "source": [
        "# sum of 2 array:"
      ]
    },
    {
      "cell_type": "code",
      "execution_count": null,
      "metadata": {
        "colab": {
          "base_uri": "https://localhost:8080/"
        },
        "id": "rO-29-hnQlO0",
        "outputId": "58b6b9e2-f849-4cac-a3dd-4ed2a537a17e"
      },
      "outputs": [
        {
          "name": "stdout",
          "output_type": "stream",
          "text": [
            "2 3\n",
            "1 2 3\n",
            "4 5 6\n",
            "7 7 7\n",
            "8 8 8\n",
            "8 9 10 \n",
            "12 13 14 \n"
          ]
        }
      ],
      "source": [
        "n, m = map(int, input().split())\n",
        "\n",
        "a = []\n",
        "for i in range(n):\n",
        "\ta.append(list(map(int, input().split())))\n",
        "\t\n",
        "b = []\n",
        "for i in range(n):\n",
        "\tb.append(list(map(int, input().split())))\n",
        "\n",
        "c = [[a[i][j] + b[i][j] for j in range(m)] for i in range(n)]\n",
        "\n",
        "for i in range(n):\n",
        "    for j in range(m):\n",
        "        print(c[i][j], end=' ')\n",
        "    print()"
      ]
    },
    {
      "cell_type": "markdown",
      "metadata": {
        "id": "akpIIqG3lW7y"
      },
      "source": [
        "# OR:"
      ]
    },
    {
      "cell_type": "code",
      "execution_count": null,
      "metadata": {
        "id": "B55emhmrlZQN"
      },
      "outputs": [],
      "source": [
        "n, m = map(int, input().split())\n",
        "\n",
        "a = []\n",
        "for i in range(n):\n",
        "    row = list(map(int, input().split()))\n",
        "    a.append(row)\n",
        "\n",
        "b = []\n",
        "for i in range(n):\n",
        "    row = list(map(int, input().split()))\n",
        "    b.append(row)\n",
        "\n",
        "c = []\n",
        "for i in range(n):\n",
        "    row = []\n",
        "    for j in range(m):\n",
        "        row.append(a[i][j] + b[i][j])\n",
        "    c.append(row)\n",
        "\n",
        "for row in c:\n",
        "    print(' '.join(map(str, row)))"
      ]
    },
    {
      "cell_type": "markdown",
      "metadata": {
        "id": "rzCJe08LlgEW"
      },
      "source": [
        "# OR:"
      ]
    },
    {
      "cell_type": "code",
      "execution_count": null,
      "metadata": {
        "id": "M2_Jh7otljGn"
      },
      "outputs": [],
      "source": [
        "a, b = map(int, input().split())\n",
        "c = []\n",
        "d = []\n",
        "result = [[0] * b for i in range(a)]\n",
        "for i in range(a):\n",
        "    row = list(map(int, input().split()))\n",
        "    c.append(row)\n",
        "for i in range(a):\n",
        "    row = list(map(int, input().split()))\n",
        "    d.append(row)\n",
        "\n",
        "for i in range(len(c)):\n",
        "    for j in range(len(c[0])):\n",
        "        result[i][j] = c[i][j] + d[i][j]\n",
        "\n",
        "for i in result:\n",
        "    for j in i:\n",
        "        print(j, end = ' ')\n",
        "    print()"
      ]
    },
    {
      "cell_type": "markdown",
      "metadata": {
        "id": "-wWbSP1WlplW"
      },
      "source": [
        "# OR:"
      ]
    },
    {
      "cell_type": "code",
      "execution_count": null,
      "metadata": {
        "colab": {
          "base_uri": "https://localhost:8080/"
        },
        "id": "-wnmu-gplsaG",
        "outputId": "fbca1518-a5a2-4f20-d601-563b92509691"
      },
      "outputs": [
        {
          "name": "stdout",
          "output_type": "stream",
          "text": [
            "2 3\n",
            "1 1 1\n",
            "2 2 2\n",
            "3 3 3\n",
            "4 4 4\n",
            "4 4 4 \n",
            "6 6 6 \n"
          ]
        }
      ],
      "source": [
        "n, m = map(int, input().split())\n",
        "arr1 = [[int(j) for j in input().split()] for i in range(n)]\n",
        "arr2 = [[int(j) for j in input().split()] for i in range(n)]\n",
        "r = [[0] * m for i in range(n)]\n",
        "for i in range(n):\n",
        "    for j in range(m):\n",
        "        r[i][j] = arr1[i][j] + arr2[i][j]\n",
        "for i in range(n):\n",
        "    for j in range(m):\n",
        "        print(r[i][j], end=' ')\n",
        "    print()"
      ]
    },
    {
      "cell_type": "markdown",
      "metadata": {
        "id": "4WBs3GYGsgUY"
      },
      "source": [
        "sum of 2 array from chatGTP:"
      ]
    },
    {
      "cell_type": "code",
      "execution_count": null,
      "metadata": {
        "id": "pwRpbOzirDfz"
      },
      "outputs": [],
      "source": [
        "a = [2,3]\n",
        "b = [3,4]\n",
        "c = [sum(i) for i in zip(a,b)]\n",
        "print(c)"
      ]
    },
    {
      "cell_type": "code",
      "execution_count": null,
      "metadata": {
        "id": "lmvLBjJqBaBl"
      },
      "outputs": [],
      "source": [
        "s = input()\n",
        "print (s)\n"
      ]
    },
    {
      "cell_type": "markdown",
      "metadata": {
        "id": "rygQrcCYDUoI"
      },
      "source": [
        "# Taghirat araye ey:"
      ]
    },
    {
      "cell_type": "markdown",
      "metadata": {
        "id": "9Xf7b_8QEnzp"
      },
      "source": [
        "1 solution, ??"
      ]
    },
    {
      "cell_type": "code",
      "execution_count": null,
      "metadata": {
        "colab": {
          "base_uri": "https://localhost:8080/"
        },
        "id": "vJ7SLXZNCm7_",
        "outputId": "5387d9ba-064e-4e99-ee82-d31ad9b8c27e"
      },
      "outputs": [
        {
          "name": "stdout",
          "output_type": "stream",
          "text": [
            "3\n",
            "+ 0 1\n",
            "1\n",
            "+ 1 5\n",
            "5 1\n",
            "- 0\n",
            "5\n"
          ]
        }
      ],
      "source": [
        "q = int(input())\n",
        "arr = list()\n",
        "for i in range(q):\n",
        "    a = input().split()\n",
        "    if a[0] == '+':\n",
        "        arr.insert(int(a[1]) - 1, int(a[2]))\n",
        "    else:\n",
        "        arr.pop(int(a[1]) - 1 )\n",
        "    if arr == list():\n",
        "        print('EMPTY')\n",
        "    else:\n",
        "        print(*arr)"
      ]
    },
    {
      "cell_type": "markdown",
      "metadata": {
        "id": "QeI8ohx4CoET"
      },
      "source": [
        "# OR:"
      ]
    },
    {
      "cell_type": "code",
      "execution_count": null,
      "metadata": {
        "id": "oBPbafY8991q"
      },
      "outputs": [],
      "source": [
        "q = int(input())\n",
        "arr = []\n",
        "r = []\n",
        "for i in range(q):\n",
        "    arr.append(input().split())\n",
        "for a in arr:\n",
        "    if a[0] == \"+\":\n",
        "        r.insert(int(a[1])-1,int(a[2]))\n",
        "        print(*r)\n",
        "    else:\n",
        "        r.pop(int(a[1])-1)\n",
        "        if r == []:\n",
        "            print(\"EMPTY\")\n",
        "        else:\n",
        "            print(*r)\n",
        " "
      ]
    },
    {
      "cell_type": "markdown",
      "metadata": {
        "id": "amGzlE6W-JBI"
      },
      "source": [
        "# OR:"
      ]
    },
    {
      "cell_type": "code",
      "execution_count": null,
      "metadata": {
        "id": "ppqhdrc167qY"
      },
      "outputs": [],
      "source": [
        "n = int(input())\n",
        "a = []\n",
        "for i in range(n):\n",
        "    inp = input().split()\n",
        "    ch = inp[0]\n",
        "    index = int(inp[1])\n",
        "\n",
        "    if ch == '+':\n",
        "        value = int(inp[2])\n",
        "        a.insert(index - 1, value)\n",
        "    else:\n",
        "        a.pop(index - 1)\n",
        "    \n",
        "    if len(a) == 0:\n",
        "        print(\"EMPTY\")\n",
        "    else:\n",
        "        for x in a:\n",
        "            print(x, end=' ')\n",
        "        print()"
      ]
    },
    {
      "cell_type": "markdown",
      "metadata": {
        "id": "N1zwoZub-Zdx"
      },
      "source": [
        "# OR:"
      ]
    },
    {
      "cell_type": "code",
      "execution_count": null,
      "metadata": {
        "id": "Y3hSJXJ_-ccp"
      },
      "outputs": [],
      "source": [
        "q = int(input())\n",
        "a = list()\n",
        "b = list()\n",
        "\n",
        "for i in range (q):\n",
        "    a.append(list(map(str, input().split())))\n",
        "\n",
        "for i in range (q):\n",
        "    if (a[i][0] == '+'):\n",
        "        b.insert(int(a[i][1]) - 1, int(a[i][2]))\n",
        "    elif (a[i][0] == '-'):\n",
        "        b.pop(int(a[i][1]) - 1)\n",
        "\n",
        "    if (len(b) == 0):\n",
        "        print(\"EMPTY\")\n",
        "    else:\n",
        "        print(*b)"
      ]
    },
    {
      "cell_type": "code",
      "execution_count": null,
      "metadata": {
        "colab": {
          "base_uri": "https://localhost:8080/"
        },
        "id": "LE53A2t2_ftA",
        "outputId": "d17dc899-47c8-4f9b-ef06-a1f7771cd92a"
      },
      "outputs": [
        {
          "name": "stdout",
          "output_type": "stream",
          "text": [
            "2\n",
            "d 1 2\n",
            "+ 0 1\n",
            "[['d', '1', '2'], ['+', '0', '1']]\n"
          ]
        }
      ],
      "source": [
        "q = int(input())\n",
        "a = []\n",
        "for i in range (q):\n",
        "    a.append(list(map(str, input().split())))\n",
        "print(a)\n"
      ]
    },
    {
      "cell_type": "markdown",
      "metadata": {
        "id": "EuG2EvfQ-CRa"
      },
      "source": [
        "OR ?:"
      ]
    },
    {
      "cell_type": "code",
      "execution_count": null,
      "metadata": {
        "id": "kQkXyYji-FSi"
      },
      "outputs": [],
      "source": [
        "a = []\n",
        "q = int(input())\n",
        "for i in range(q):\n",
        "    s, i = map(str,input().split())\n",
        "    if s == '+' :\n",
        "        x = int(input())\n",
        "        a.insert(int(i),int(x))\n",
        "    elif s == '-':\n",
        "      a.pop(int(i))\n",
        "    print(a)"
      ]
    },
    {
      "cell_type": "markdown",
      "metadata": {
        "id": "zHGZylLaCTCH"
      },
      "source": [
        "# OR:"
      ]
    },
    {
      "cell_type": "code",
      "execution_count": null,
      "metadata": {
        "id": "OWDn7TFACVsv"
      },
      "outputs": [],
      "source": [
        "#functions\n",
        "#print function\n",
        "def my_print(a):\n",
        "    if( len(a ) == 0):\n",
        "        print(\"EMPTY\")\n",
        "    for i in range(len(a)):\n",
        "        if(i == len(a)-1):\n",
        "            print(a[i ] )\n",
        "        else:\n",
        "            print(a[i], end=\" \")\n",
        "\n",
        "\n",
        "#------------------\n",
        "n = int( input( ) )\n",
        "a = list()\n",
        "for i in range( n ):\n",
        "    t = input( )\n",
        "    temp = t.split( )\n",
        "    if(temp[0] == \"-\"):\n",
        "        a.pop( int(temp[1])-1 )\n",
        "        my_print(a)\n",
        "    elif(temp[0] == \"+\"):\n",
        "        a.insert(int(temp[1])-1,int(temp[2]))\n",
        "        my_print(a)\n",
        "    else:\n",
        "        print(\"wrong input !\")\n"
      ]
    },
    {
      "cell_type": "code",
      "execution_count": null,
      "metadata": {
        "id": "5BT244pDDhaD"
      },
      "outputs": [],
      "source": [
        "q = int(input())\n",
        "\n",
        "for i in range(q):\n",
        "    a = input().split()\n",
        "print(a)"
      ]
    },
    {
      "cell_type": "markdown",
      "metadata": {
        "id": "JbitoTIwARon"
      },
      "source": [
        "# Snapp at Shekarestan:"
      ]
    },
    {
      "cell_type": "code",
      "execution_count": null,
      "metadata": {
        "id": "qo_yd3UXAXGB"
      },
      "outputs": [],
      "source": [
        "n, m = map(int,input().split())\n",
        "array1 = []\n",
        "s = 0\n",
        "for i in range(n):\n",
        "  array1.append(list(map(int,input().split())))\n",
        "for i in range(m):\n",
        "  #array2.append(list(map(int,input().split())))\n",
        "  x, y = map(int,input().split())\n",
        "  s += array1[x-1][y-1]\n",
        "print(s)"
      ]
    },
    {
      "cell_type": "markdown",
      "metadata": {
        "id": "ihIRWjOfNdFR"
      },
      "source": [
        "# OR:"
      ]
    },
    {
      "cell_type": "code",
      "execution_count": null,
      "metadata": {
        "id": "H3Ff3KlXNe16"
      },
      "outputs": [],
      "source": [
        "n, m = map(int, input().split())\n",
        "a = [[int(x) for x in input().split()] for i in range(n)]\n",
        "\n",
        "ans = 0\n",
        "for i in range(m):\n",
        "    x, y = map(int, input().split())\n",
        "    ans += a[x - 1][y - 1]\n",
        "\n",
        "print(ans)\n"
      ]
    },
    {
      "cell_type": "markdown",
      "metadata": {
        "id": "x6HLHZSUODRh"
      },
      "source": [
        "# OR:"
      ]
    },
    {
      "cell_type": "code",
      "execution_count": null,
      "metadata": {
        "id": "KR_iJwPbOFRJ"
      },
      "outputs": [],
      "source": [
        "N, M = map(int,input().split())\n",
        "array = [[int(j) for j in input().split()] for i in range(N)]\n",
        "c = list()\n",
        "for i in range(M):\n",
        "    x, y = map(int, input().split())\n",
        "    c.append(array[x-1][y-1])\n",
        "Sum = 0\n",
        "for i in range(M):\n",
        "    Sum += c[i]\n",
        "print(Sum)"
      ]
    },
    {
      "cell_type": "markdown",
      "metadata": {
        "id": "hNgW2ShzOGu0"
      },
      "source": [
        "# OR:"
      ]
    },
    {
      "cell_type": "code",
      "execution_count": null,
      "metadata": {
        "id": "lfci0p3jOIXk"
      },
      "outputs": [],
      "source": [
        "N , M = map(int, input().split())\n",
        "answer = 0\n",
        "a = []\n",
        "for i in range(N):\n",
        "    a.append(list(map(int, input().split())))\n",
        "\n",
        "for j in range(M):\n",
        "    x,y = map(int, input().split())\n",
        "    price = a[x-1][y-1]\n",
        "    answer += price\n",
        "print(answer)\n",
        "    "
      ]
    },
    {
      "cell_type": "markdown",
      "metadata": {
        "id": "3g-F_m79g0zl"
      },
      "source": [
        "# Endoist:"
      ]
    },
    {
      "cell_type": "code",
      "execution_count": null,
      "metadata": {
        "id": "I4TuimZPmUc3"
      },
      "outputs": [],
      "source": [
        "maxn = 200\n",
        "counter = [0 for x in range(maxn)]\n",
        "q = int(input())\n",
        "\n",
        "for i in range(q):\n",
        "    tp, x = input().split()\n",
        "    x = int(x) - 1\n",
        "\n",
        "    if tp == '+':\n",
        "        counter[x] += 1\n",
        "    else:\n",
        "        print(counter[x])\n"
      ]
    },
    {
      "cell_type": "markdown",
      "metadata": {
        "id": "Tw4HQWg7r1Xx"
      },
      "source": [
        "# OR"
      ]
    },
    {
      "cell_type": "code",
      "execution_count": null,
      "metadata": {
        "id": "Ko8zyxkFr2-h"
      },
      "outputs": [],
      "source": [
        "\n",
        "q = int(input())\n",
        "a = [0] * 200\n",
        "b = list()\n",
        "c = 0\n",
        "for i in range(q):\n",
        "   b = list(map(str,input().split()))\n",
        "   b[1] = int(b[1])\n",
        "   c = b[1]\n",
        "   if (b[0] == '+'):\n",
        "       a[c - 1] += 1\n",
        "   elif (b[0] == '?'):\n",
        "        print(a[c - 1])\n"
      ]
    },
    {
      "cell_type": "markdown",
      "metadata": {
        "id": "vFFJ9EY_tf6h"
      },
      "source": [
        "# OR:"
      ]
    },
    {
      "cell_type": "code",
      "execution_count": null,
      "metadata": {
        "id": "vWZfl2LIth_1"
      },
      "outputs": [],
      "source": [
        "q = int(input())\n",
        "\n",
        "kise = [0 for x in range(210)]\n",
        "for i in range(q):\n",
        "    n = input().split()\n",
        "    what_to_do, color = n[0], int(n[1])\n",
        "    if what_to_do == \"+\":\n",
        "        kise[color] += 1\n",
        "    elif what_to_do == \"?\":\n",
        "        print(kise[color])"
      ]
    },
    {
      "cell_type": "markdown",
      "metadata": {
        "id": "FPYUtnZKzmBH"
      },
      "source": [
        "# search in string:"
      ]
    },
    {
      "cell_type": "markdown",
      "source": [
        "...not complete "
      ],
      "metadata": {
        "id": "opogK8n3EsNM"
      }
    },
    {
      "cell_type": "code",
      "execution_count": null,
      "metadata": {
        "colab": {
          "background_save": true
        },
        "id": "7EAeShlWs1Qz"
      },
      "outputs": [],
      "source": [
        "s = input()\n",
        "q = input()\n",
        "index = 0\n",
        "for i in range(len(s)):\n",
        "  if q in s:\n",
        "    index += s.index(q[0])\n",
        "    print(index+1)\n",
        "    k = s.index(q[len(q)-1]) + 1\n",
        "    print(k)\n",
        "    s = s[k::]\n",
        "    print(s)\n",
        "  \n",
        "    \n",
        "   \n"
      ]
    },
    {
      "cell_type": "markdown",
      "source": [
        "# final code:"
      ],
      "metadata": {
        "id": "1-nNxUv-Ew21"
      }
    },
    {
      "cell_type": "code",
      "source": [
        "a = input()\n",
        "b = input()\n",
        "for i in range(len(a)):\n",
        "    if b[0] == a[i] and b == a[i:i + len(b)]:\n",
        "        print(i + 1, end=' ')\n",
        "\n"
      ],
      "metadata": {
        "colab": {
          "base_uri": "https://localhost:8080/"
        },
        "id": "7vU7e4yZG3sW",
        "outputId": "de19d606-998c-467b-c9da-e54b2b3b84e9"
      },
      "execution_count": null,
      "outputs": [
        {
          "output_type": "stream",
          "name": "stdout",
          "text": [
            "asdfdfghjkjkldf\n",
            "df\n",
            "3 5 14 "
          ]
        }
      ]
    },
    {
      "cell_type": "markdown",
      "source": [
        "OR:"
      ],
      "metadata": {
        "id": "_xh3ABRHG4rS"
      }
    },
    {
      "cell_type": "code",
      "source": [
        "s = input()\n",
        "q = input()\n",
        "print(s)\n",
        "print(q)\n",
        "for i in range(len(s)):\n",
        "    flage = True\n",
        "    for j in range(len(q)):\n",
        "        if i + j < len(s):\n",
        "            if s[i+j] != q[j]:\n",
        "                flage = False\n",
        "        else:\n",
        "            flage = False\n",
        "    if flage == True:\n",
        "        print(i+1)"
      ],
      "metadata": {
        "id": "ZUfolS-sEzSK"
      },
      "execution_count": null,
      "outputs": []
    },
    {
      "cell_type": "markdown",
      "source": [
        "# OR:"
      ],
      "metadata": {
        "id": "GyrL44M1GCGP"
      }
    },
    {
      "cell_type": "code",
      "source": [
        "str = input()\n",
        "sub_str = input()\n",
        "for i in range(len(str)):\n",
        "    flag = True\n",
        "    for j in range(len(sub_str)):\n",
        "        if not(i+j < len(str)) or str[i + j] != sub_str[j]:\n",
        "            flag = False\n",
        "            break\n",
        "    if flag:\n",
        "        print(i + 1, end = \" \")\n",
        "    "
      ],
      "metadata": {
        "id": "6TTETwxMGEMe"
      },
      "execution_count": null,
      "outputs": []
    },
    {
      "cell_type": "markdown",
      "source": [
        "OR:"
      ],
      "metadata": {
        "id": "oEbW8kvjGPIJ"
      }
    },
    {
      "cell_type": "code",
      "source": [
        "s = input()\n",
        "p = input()\n",
        "for i in range(len(s) - len(p) + 1):\n",
        "    flag = True\n",
        "    for j in range(len(p)):\n",
        "        if p[j] != s[i + j]:\n",
        "            flag = False\n",
        "    if flag:\n",
        "        print(i + 1, end=' ')\n",
        "print()"
      ],
      "metadata": {
        "colab": {
          "base_uri": "https://localhost:8080/"
        },
        "id": "QQizUCkuGQmQ",
        "outputId": "eb86e0fb-1752-4b6a-a873-717d673370a7"
      },
      "execution_count": null,
      "outputs": [
        {
          "output_type": "stream",
          "name": "stdout",
          "text": [
            "asdfghjkdf\n",
            "df\n",
            "3 9 \n"
          ]
        }
      ]
    },
    {
      "cell_type": "markdown",
      "source": [
        "OR:"
      ],
      "metadata": {
        "id": "im5v3JqGIW7N"
      }
    },
    {
      "cell_type": "code",
      "source": [
        "main = input()\n",
        "key = input()\n",
        "collector = []\n",
        "\n",
        "for i in range(len(main)):\n",
        "    flag = True\n",
        "    for j in range(len(key)):\n",
        "        if i + j < len(main):\n",
        "            if main[i + j] != key[j]:\n",
        "                flag = False\n",
        "        else:\n",
        "            flag = False\n",
        "    if flag:\n",
        "        collector.append(i + 1)\n",
        "\n",
        "print(*collector)"
      ],
      "metadata": {
        "id": "x0KRazRPIYAx"
      },
      "execution_count": null,
      "outputs": []
    },
    {
      "cell_type": "markdown",
      "source": [
        "# Livan Bazi"
      ],
      "metadata": {
        "id": "_9U6sxh3QyWs"
      }
    },
    {
      "cell_type": "code",
      "source": [
        "n , x = input().split() # x = L, M, R\n",
        "ans = x\n",
        "n = int(n)\n",
        "for i in range(n):\n",
        "    r1, r2 = input().split()\n",
        "    if r1 ==  ans:\n",
        "        ans = r2\n",
        "    elif r2 == ans:\n",
        "        ans = r1\n",
        "    \n",
        "print(ans)"
      ],
      "metadata": {
        "id": "hmOq_HLLQ0ws"
      },
      "execution_count": null,
      "outputs": []
    },
    {
      "cell_type": "markdown",
      "source": [
        "# Gerdo shekastam:"
      ],
      "metadata": {
        "id": "tYHaapxr-rCq"
      }
    },
    {
      "cell_type": "markdown",
      "source": [
        "# Ramin code,correct code,but not accepted by Qyera:"
      ],
      "metadata": {
        "id": "n7OHbQbfXZsl"
      }
    },
    {
      "cell_type": "code",
      "source": [
        "n, x, y = map(int, input().split())\n",
        "k = list()\n",
        "while len(k) == 0:\n",
        "  for i in range(n//x + 1):\n",
        "      for j in range(n//x + 1):\n",
        "         if i * x + j * y == n:\n",
        "           k.append((i,j))\n",
        "  break\n",
        "if k == []:\n",
        "  print('-1')\n",
        "else:\n",
        "  print(*k[0])"
      ],
      "metadata": {
        "colab": {
          "base_uri": "https://localhost:8080/"
        },
        "id": "4KP8cyB8-uZW",
        "outputId": "9046ddb9-e15d-4ce3-9f33-49bd29f4cfa5"
      },
      "execution_count": null,
      "outputs": [
        {
          "output_type": "stream",
          "name": "stdout",
          "text": [
            "10 4 7\n",
            "-1\n"
          ]
        }
      ]
    },
    {
      "cell_type": "markdown",
      "source": [
        "## correct 1:"
      ],
      "metadata": {
        "id": "BIQAL3JkMjNa"
      }
    },
    {
      "cell_type": "code",
      "source": [
        "n, x, y = input().split()\n",
        "n, x, y = int(n), int(x), int(y)\n",
        "for i in range(n // x + 1):\n",
        "    if (n - i * x) % y == 0:\n",
        "        print(i, (n - i * x) // y)\n",
        "        break\n",
        "else:\n",
        "    print(-1)\n"
      ],
      "metadata": {
        "id": "X7Pv1O7TMk9V"
      },
      "execution_count": null,
      "outputs": []
    },
    {
      "cell_type": "markdown",
      "source": [
        "OR:"
      ],
      "metadata": {
        "id": "4Ni7VUxXXqlk"
      }
    },
    {
      "cell_type": "code",
      "source": [
        "# https://quera.org/problemset/3540/\n",
        "\n",
        "n,x,y = map(int,input().split())\n",
        "# ax+by=n => a = (n-by)/x  => a must be an integer\n",
        "b = 0\n",
        "while b*y <= n:\n",
        "  if (n-b*y) % x == 0:\n",
        "    print((n-b*y)//x,b)\n",
        "    break\n",
        "  b += 1\n",
        "else:\n",
        "  print(-1)"
      ],
      "metadata": {
        "id": "x9phW-w5G3tS"
      },
      "execution_count": null,
      "outputs": []
    },
    {
      "cell_type": "markdown",
      "source": [
        "OR:"
      ],
      "metadata": {
        "id": "BjeAdg6IYihG"
      }
    },
    {
      "cell_type": "code",
      "source": [
        "n,x,y= map(int,input().split())\n",
        "flag = True\n",
        "a = n // x\n",
        "for i in range (a + 1):\n",
        "    tmp = n - i*x\n",
        "    if tmp % y ==0:\n",
        "        c = tmp //y\n",
        "        print(i,c)\n",
        "        flag = False\n",
        "        break\n",
        "if flag:\n",
        "    print(-1)"
      ],
      "metadata": {
        "id": "TWV_wajTYjmk"
      },
      "execution_count": null,
      "outputs": []
    },
    {
      "cell_type": "markdown",
      "source": [
        "# Jos,Shangedoby and Mehrdad:"
      ],
      "metadata": {
        "id": "tk8VgjQgdQTG"
      }
    },
    {
      "cell_type": "code",
      "source": [
        "s = input() # s = 'abcdefgh\"\n",
        "p = input() # p = 'defgha\n",
        "for i in s:\n"
      ],
      "metadata": {
        "id": "nqYYWlTtauwH"
      },
      "execution_count": null,
      "outputs": []
    },
    {
      "cell_type": "code",
      "source": [
        "s1 = 'abcd'\n",
        "l = []\n",
        "print(list(s1))"
      ],
      "metadata": {
        "colab": {
          "base_uri": "https://localhost:8080/"
        },
        "id": "o47aeepreGIs",
        "outputId": "5c495f24-bbb0-4eb7-8bfb-caafc69c58df"
      },
      "execution_count": null,
      "outputs": [
        {
          "output_type": "stream",
          "name": "stdout",
          "text": [
            "['a', 'b', 'c', 'd']\n"
          ]
        }
      ]
    },
    {
      "cell_type": "markdown",
      "source": [
        "# Bagher and Jabejaey argham:"
      ],
      "metadata": {
        "id": "dV1UzWIMgTMb"
      }
    },
    {
      "cell_type": "code",
      "source": [
        "n = input() # n = 254\n",
        "l = list(n) # l = [2,5,4]\n",
        "l2 = []\n",
        "for i in range(len(l)-1):\n",
        "  l[len(l)-i], l[len(l)] = l[len(l)], l[len(l)-i]\n",
        "  l2.append(l)\n",
        "print(l2)\n",
        "\n",
        "\n"
      ],
      "metadata": {
        "id": "b8S9fPregZuz"
      },
      "execution_count": null,
      "outputs": []
    },
    {
      "cell_type": "code",
      "source": [
        "#arr = list(map(int,input().split()))\n",
        "#n = int(input())\n",
        "arr = [1, 2, 3, 4, 5, 6, 7, 8, 9, 10]\n",
        "n = 12\n",
        "L = 0\n",
        "R = len(arr)\n",
        "\n",
        "while L < R:\n",
        "  mid = (R + L)//2 \n",
        "  #print(mid)\n",
        "  if arr[mid] == n:\n",
        "    L = mid\n",
        "    break\n",
        "  elif arr[mid] < n:\n",
        "    L = mid + 1\n",
        "  elif arr[mid] > n:\n",
        "    R = mid\n",
        "if arr[L] == n:\n",
        "  print('yes')\n",
        "else:\n",
        "  print('No')"
      ],
      "metadata": {
        "colab": {
          "base_uri": "https://localhost:8080/",
          "height": 235
        },
        "id": "1cuWNDekrGgs",
        "outputId": "74cc145d-e1e0-4158-9730-64b8d57d5305"
      },
      "execution_count": null,
      "outputs": [
        {
          "output_type": "error",
          "ename": "IndexError",
          "evalue": "ignored",
          "traceback": [
            "\u001b[0;31m---------------------------------------------------------------------------\u001b[0m",
            "\u001b[0;31mIndexError\u001b[0m                                Traceback (most recent call last)",
            "\u001b[0;32m<ipython-input-12-f335fb11e101>\u001b[0m in \u001b[0;36m<cell line: 18>\u001b[0;34m()\u001b[0m\n\u001b[1;32m     16\u001b[0m   \u001b[0;32melif\u001b[0m \u001b[0marr\u001b[0m\u001b[0;34m[\u001b[0m\u001b[0mmid\u001b[0m\u001b[0;34m]\u001b[0m \u001b[0;34m>\u001b[0m \u001b[0mn\u001b[0m\u001b[0;34m:\u001b[0m\u001b[0;34m\u001b[0m\u001b[0;34m\u001b[0m\u001b[0m\n\u001b[1;32m     17\u001b[0m     \u001b[0mR\u001b[0m \u001b[0;34m=\u001b[0m \u001b[0mmid\u001b[0m\u001b[0;34m\u001b[0m\u001b[0;34m\u001b[0m\u001b[0m\n\u001b[0;32m---> 18\u001b[0;31m \u001b[0;32mif\u001b[0m \u001b[0marr\u001b[0m\u001b[0;34m[\u001b[0m\u001b[0mL\u001b[0m\u001b[0;34m]\u001b[0m \u001b[0;34m==\u001b[0m \u001b[0mn\u001b[0m\u001b[0;34m:\u001b[0m\u001b[0;34m\u001b[0m\u001b[0;34m\u001b[0m\u001b[0m\n\u001b[0m\u001b[1;32m     19\u001b[0m   \u001b[0mprint\u001b[0m\u001b[0;34m(\u001b[0m\u001b[0;34m'yes'\u001b[0m\u001b[0;34m)\u001b[0m\u001b[0;34m\u001b[0m\u001b[0;34m\u001b[0m\u001b[0m\n\u001b[1;32m     20\u001b[0m \u001b[0;32melse\u001b[0m\u001b[0;34m:\u001b[0m\u001b[0;34m\u001b[0m\u001b[0;34m\u001b[0m\u001b[0m\n",
            "\u001b[0;31mIndexError\u001b[0m: list index out of range"
          ]
        }
      ]
    },
    {
      "cell_type": "markdown",
      "source": [
        "#Quera, Payda Kon Queiz,search binary :"
      ],
      "metadata": {
        "id": "hvxiY7_dPoEx"
      }
    },
    {
      "cell_type": "code",
      "source": [
        "#Quera_Payda kon Prob\n",
        "n, q = map(int,input().split())\n",
        "array1 = list(map(int,input().split()))\n",
        "print(array1)\n",
        "for i in range(q):\n",
        "   L = 0\n",
        "   R = len(array1)\n",
        "   s, a = map(str,input().split())\n",
        "   a = int(a)\n",
        "   print('a:',a)\n",
        "   while L < R:\n",
        "      m = (R + L) // 2\n",
        "      print('mid_index:', m)\n",
        "      if a == array1[m]:   #    [1, 2, 10, 13]\n",
        "           L = 0\n",
        "           R = len(array1)\n",
        "           break\n",
        "      elif a > array1[m]:\n",
        "           L = m + 1\n",
        "      elif a < array1[m]:\n",
        "           R = m\n",
        "   if array1[m] == a:\n",
        "       print('a in Array :1')\n",
        "   else:\n",
        "       print('a in array:0')\n"
      ],
      "metadata": {
        "id": "YI22WNcROVQ5"
      },
      "execution_count": null,
      "outputs": []
    },
    {
      "cell_type": "markdown",
      "source": [
        "# OR:"
      ],
      "metadata": {
        "id": "WjizgRxArxRy"
      }
    },
    {
      "cell_type": "code",
      "source": [
        "n, q = map(int, input().split())\n",
        "numbers = input().split()\n",
        "requests= [input().split() for i in range(q)]\n",
        "for search_one in requests:\n",
        "    Min = 0\n",
        "    Max = q\n",
        "    while(Max - Min > 1):\n",
        "        mid = int((Max + Min) / 2)\n",
        "        if int(numbers[mid]) <= int(search_one[1]):\n",
        "            Min = mid\n",
        "        elif int(numbers[mid]) > int(search_one[1]):\n",
        "            Max = mid\n",
        "    if int(numbers[Min]) == int(search_one[1]):\n",
        "        print(1)\n",
        "    else:\n",
        "        print(0)"
      ],
      "metadata": {
        "id": "OGMeMJizECnF"
      },
      "execution_count": null,
      "outputs": []
    },
    {
      "cell_type": "markdown",
      "source": [
        "# OR:"
      ],
      "metadata": {
        "id": "Q4ZLr8ROr2yh"
      }
    },
    {
      "cell_type": "code",
      "source": [
        "def binary_search(alist, num):\n",
        "    low, high = 0, len(alist)\n",
        "    flag = 0\n",
        "    while low <= high:\n",
        "        mid = (low + high) // 2\n",
        "        if num == alist[mid]:\n",
        "            flag = 1\n",
        "            break\n",
        "        elif num > alist[mid]:\n",
        "            low = mid + 1\n",
        "        elif num < alist[mid]:\n",
        "            high = mid - 1\n",
        "    return flag \n",
        "        \n",
        "list_len, num_of_nums = map(int, input().split())\n",
        "alist = list(map(int, input().split()))\n",
        "for i in range(num_of_nums):\n",
        "    num = int(input().split()[1])\n",
        "    print(binary_search(alist, num))"
      ],
      "metadata": {
        "id": "H82bRNUKr4vN"
      },
      "execution_count": null,
      "outputs": []
    },
    {
      "cell_type": "markdown",
      "source": [
        "# OR:"
      ],
      "metadata": {
        "id": "O_eIZ5g5sKfG"
      }
    },
    {
      "cell_type": "code",
      "source": [
        "def search_check(numbers,a):\n",
        "    L = 0\n",
        "    R = len(numbers)\n",
        "    \n",
        "    while(R - L > 1):\n",
        "        M = int((R + L)/2)\n",
        "        if(a == numbers[M]):\n",
        "            L = M\n",
        "            R = M + 1\n",
        "            break\n",
        "        elif(a < numbers[M]):\n",
        "            \n",
        "            R = M\n",
        "        elif(a > numbers[M]):\n",
        "            \n",
        "            \n",
        "            L = M + 1\n",
        "    if(numbers[L] == a):\n",
        "        return True\n",
        "    else:\n",
        "        return False\n",
        "        \n",
        "\n",
        "n, q = map(int, input().split())\n",
        "numbers = list(map(int, input().split()))\n",
        "numbers.sort()\n",
        "answers = list()\n",
        "for i in range(q):\n",
        "    x = list(input().split())\n",
        "    \n",
        "    if(search_check(numbers, int(x[1]))):\n",
        "        answers.append(1)\n",
        "    else:\n",
        "        answers.append(0)\n",
        "\n",
        "for j in range(q):\n",
        "    print(answers[j])\n"
      ],
      "metadata": {
        "id": "OLwtTblWsMNt"
      },
      "execution_count": null,
      "outputs": []
    },
    {
      "cell_type": "markdown",
      "source": [
        "# Majid va majikHayash:"
      ],
      "metadata": {
        "id": "fn0bCbugpR59"
      }
    },
    {
      "cell_type": "code",
      "source": [
        "maxn = 100\n",
        "counter = [0 for i in range(maxn)]\n",
        "n = int(input())\n",
        "\n",
        "xs = [int(x) for x in input().split()]\n",
        "for x in xs:\n",
        "    counter[x - 1] += 1\n",
        "#print('xs: ', xs)\n",
        "#print('counter: ',count)\n",
        "\n",
        "mn = -1\n",
        "for i in range(maxn):\n",
        "    if counter[i] > 0 and (mn == -1 or counter[mn] > counter[i]):\n",
        "    \tmn = i\n",
        "    #print('mn:',mn)\n",
        "\n",
        "print(mn + 1)\n",
        "    "
      ],
      "metadata": {
        "id": "UYtjFaY6AnaP"
      },
      "execution_count": null,
      "outputs": []
    },
    {
      "cell_type": "code",
      "source": [
        "N = int(input())\n",
        "lst_n = list(map(int, input().split()))\n",
        "counter = [0] * max(lst_n)\n",
        "min_c = 100\n",
        "for i in range(N):\n",
        "    color = lst_n[i]\n",
        "    counter[color - 1] += 1\n",
        "for i in range(len(counter)):\n",
        "    if 0 < counter[i] < min_c:\n",
        "        min_c = counter[i]\n",
        "        ans = i + 1\n",
        "print(ans)\n"
      ],
      "metadata": {
        "id": "BFgFbMJ2365D"
      },
      "execution_count": null,
      "outputs": []
    },
    {
      "cell_type": "markdown",
      "source": [
        "# OR:"
      ],
      "metadata": {
        "id": "hWvn9cwWNZv1"
      }
    },
    {
      "cell_type": "code",
      "source": [
        "N = int(input())\n",
        "arr = list(map(int, input().split()))\n",
        "arr.sort()\n",
        "cols = list(set(arr))\n",
        "cols.sort()\n",
        "color = arr[0]\n",
        "count = arr.count(color)\n",
        "for x in cols:\n",
        "\tn = arr.count(x)\n",
        "\tif n < count:\n",
        "\t\tcolor = x\n",
        "\t\tcount = n\n",
        "print(color)\n"
      ],
      "metadata": {
        "id": "W94D2KpSMz3h"
      },
      "execution_count": null,
      "outputs": []
    },
    {
      "cell_type": "markdown",
      "source": [
        "# or:"
      ],
      "metadata": {
        "id": "xurRkQPNSt7k"
      }
    },
    {
      "cell_type": "code",
      "source": [
        "maxn = 100\n",
        "counter = [0 for i in range(maxn)]\n",
        "n = int(input())\n",
        "\n",
        "xs = [int(x) for x in input().split()]\n",
        "for x in xs:\n",
        "    counter[x - 1] += 1\n",
        "\n",
        "mn = -1\n",
        "for i in range(maxn):\n",
        "    if counter[i] > 0 and (mn == -1 or counter[mn] > counter[i]):\n",
        "    \tmn = i\n",
        "\n",
        "print(mn + 1)"
      ],
      "metadata": {
        "id": "0OjpX4PESw1o"
      },
      "execution_count": null,
      "outputs": []
    },
    {
      "cell_type": "markdown",
      "source": [
        "OR:"
      ],
      "metadata": {
        "id": "eLZyWlqxS5lW"
      }
    },
    {
      "cell_type": "code",
      "source": [
        "n = int(input())\n",
        "m = 0\n",
        "Min = 0\n",
        "\n",
        "s = input().split()\n",
        "\n",
        "\n",
        "\n",
        "for i in range(0, n):\n",
        "    if (int(s[i])) > m :\n",
        "        m = int(s[i])\n",
        "a = [0]*m\n",
        "\n",
        "for j in range(1, 101) :\n",
        "    for i in range(0, n) :\n",
        "        if int(s[i]) == j :\n",
        "            a[j-1] += 1\n",
        "\n",
        "Min = m-1\n",
        "for i in range(m-1, -1, -1) :\n",
        "    if a[i]<=a[Min] and a[i]>0 :\n",
        "        Min = i \n",
        "    \n",
        "#print(a)\n",
        "#print(m)\n",
        "print(Min+1)\n"
      ],
      "metadata": {
        "id": "dp33r9K5TA9l"
      },
      "execution_count": null,
      "outputs": []
    },
    {
      "cell_type": "markdown",
      "source": [
        "# Aseman ShekarAbad, Nums of Stars in Sky's king"
      ],
      "metadata": {
        "id": "snHAbWTtb-pu"
      }
    },
    {
      "cell_type": "code",
      "source": [
        "n , m = map(int,input().split())\n",
        "count = 0\n",
        "for i in range(n):  \n",
        "    arr = list(input())\n",
        "    for j in range(m):\n",
        "      if arr[j] == '*':\n",
        "        count += 1\n",
        "\n",
        "print(count)\n"
      ],
      "metadata": {
        "id": "IZY96GVLXx00"
      },
      "execution_count": null,
      "outputs": []
    },
    {
      "cell_type": "markdown",
      "source": [
        "# OR:"
      ],
      "metadata": {
        "id": "BaXIoeyAcSHU"
      }
    },
    {
      "cell_type": "code",
      "source": [
        "n, m = map(int, input().split())\n",
        "a = [input() for i in range(n)]\n",
        "\n",
        "ans = 0\n",
        "for i in range(n):\n",
        "    for j in range(m):\n",
        "       if a[i][j] == '*':\n",
        "           ans += 1\n",
        "\n",
        "print(ans)\n"
      ],
      "metadata": {
        "id": "2k4j4WCUcUTT"
      },
      "execution_count": null,
      "outputs": []
    },
    {
      "cell_type": "markdown",
      "source": [
        "# OR:"
      ],
      "metadata": {
        "id": "iwm-NYcNcmNv"
      }
    },
    {
      "cell_type": "code",
      "source": [
        "m, n = map(int, input().split())\n",
        "count = 0\n",
        "for i in range(m):\n",
        "    a = input()\n",
        "    for j in a:\n",
        "        if j == '*':\n",
        "            count = count + 1\n",
        "print(count)"
      ],
      "metadata": {
        "id": "gvnUAa-VcoES"
      },
      "execution_count": null,
      "outputs": []
    },
    {
      "cell_type": "markdown",
      "source": [
        "# Esm_ha_Karim:"
      ],
      "metadata": {
        "id": "6EQQcS_Oc0iy"
      }
    },
    {
      "cell_type": "code",
      "source": [
        "n = int(input())\n",
        "a = [input() for i in range(n)] #['asddf',]\n",
        "ans = 0\n",
        "for i in a:\n",
        "  set1 = set(i)\n",
        "  if len(set1) > ans:\n",
        "    ans = len(set1) \n",
        "print(ans)\n"
      ],
      "metadata": {
        "id": "DfdkxEhVd9j-"
      },
      "execution_count": null,
      "outputs": []
    },
    {
      "cell_type": "markdown",
      "source": [
        "# OR:"
      ],
      "metadata": {
        "id": "qkUwsfjkg7xg"
      }
    },
    {
      "cell_type": "code",
      "source": [
        "n = int(input())\n",
        "\n",
        "answer = 0\n",
        "for i in range(n):\n",
        "    s = input()\n",
        "    distinct_characters = len(s)\n",
        "    \n",
        "    for j in range(len(s)):\n",
        "        duplicate = 0\n",
        "        for k in range(j):\n",
        "            if s[j] == s[k]:\n",
        "                duplicate = 1\n",
        "        distinct_characters -= duplicate\n",
        "    \n",
        "    if distinct_characters > answer:\n",
        "        answer = distinct_characters\n",
        "\n",
        "print(answer)\n"
      ],
      "metadata": {
        "id": "6AwlXdKWeuBY"
      },
      "execution_count": null,
      "outputs": []
    },
    {
      "cell_type": "markdown",
      "source": [
        "# ORRRR:"
      ],
      "metadata": {
        "id": "XJtnvGpPhD3q"
      }
    },
    {
      "cell_type": "code",
      "source": [
        "n = int(input())\n",
        "names = []\n",
        "for i in range(n):\n",
        "  names.append(len(set(input())))\n",
        "print(max(names))"
      ],
      "metadata": {
        "colab": {
          "base_uri": "https://localhost:8080/"
        },
        "id": "78bd139XhGCW",
        "outputId": "51abe00c-751b-4e36-8856-44cab90cab0c"
      },
      "execution_count": null,
      "outputs": [
        {
          "output_type": "stream",
          "name": "stdout",
          "text": [
            "4\n",
            "abbas\n",
            "karim\n",
            "mohammad\n",
            "ali\n",
            "5\n"
          ]
        }
      ]
    },
    {
      "cell_type": "markdown",
      "source": [
        "# Bagher Khaste ast!:\n",
        "\n",
        "عدد ایکس داده شده . کوچکترین عدد بزرگتر از ایکس که از جابجایی ارقام آن بدست آمده"
      ],
      "metadata": {
        "id": "uLWgXVetsGIt"
      }
    },
    {
      "cell_type": "code",
      "source": [
        "n = int(input()) \n",
        "print('n: ', n)\n",
        "digit_n = [0] * 10\n",
        "tmp = n\n",
        "while tmp:\n",
        "    digit_n[tmp % 10] += 1\n",
        "    tmp = tmp // 10\n",
        "#print(digit_n)\n",
        "for y in range(n+1, 1000000):\n",
        "    digit_y = [0] * 10\n",
        "    tmp = y\n",
        "    while tmp:\n",
        "        digit_y[tmp % 10] += 1\n",
        "        tmp = tmp // 10\n",
        "    for i in range(10):\n",
        "        if digit_y != digit_n:\n",
        "            break\n",
        "    else:\n",
        "        print(y)\n",
        "        break\n",
        "else:\n",
        "    print(0)\n",
        "        \n"
      ],
      "metadata": {
        "id": "Ru6fyHkVsMaI"
      },
      "execution_count": null,
      "outputs": []
    },
    {
      "cell_type": "markdown",
      "source": [
        "# OR:"
      ],
      "metadata": {
        "id": "yeEj2_PR-WsQ"
      }
    },
    {
      "cell_type": "code",
      "source": [
        "from itertools import permutations\n",
        "\n",
        "num = input()\n",
        "num_list = sorted(list(num))\n",
        "permu = permutations(num_list, len(num_list))\n",
        "\n",
        "flag = False\n",
        "for p in list(permu):\n",
        "    p_num = \"\".join(p)\n",
        "    if p_num > num:\n",
        "        flag = True\n",
        "        print(p_num)\n",
        "        break\n",
        "if not flag:\n",
        "    print(0)\n"
      ],
      "metadata": {
        "id": "gc5riU6A-bqM"
      },
      "execution_count": null,
      "outputs": []
    },
    {
      "cell_type": "markdown",
      "source": [
        "# OR"
      ],
      "metadata": {
        "id": "JqjbVNdz-xEf"
      }
    },
    {
      "cell_type": "code",
      "source": [
        "def tot(x):\n",
        "    p_1 = x[:i-j+1]\n",
        "    p_2 = ''\n",
        "    s = sorted(x[i-j+1:])\n",
        "    for k in range (len(s)):\n",
        "        p_2 += str(s[k])\n",
        "    st = p_1 + p_2\n",
        "    return (st)\n",
        "\n",
        "def swap(s, i, j):\n",
        "    return ''.join((s[:i], s[j], s[i+1:j], s[i], s[j+1:]))\n",
        "\n",
        "\n",
        "\n",
        "a = input()\n",
        "n = len(a) - 1\n",
        "h = []\n",
        "for i in range ( n , 0 , -1 ):\n",
        "    flag = 1\n",
        "    for j in range ( n+1  ):\n",
        "        if a[i] > a[ i - j] :\n",
        "            flag = 1\n",
        "            c = swap(a , i-j , i )\n",
        "            #print(int(c))\n",
        "            h.append(int(tot(c)))\n",
        "        else :\n",
        "            flag = 0 \n",
        "#print(h)\n",
        "if h != []:\n",
        "    ans = min(h)\n",
        "    print (ans)\n",
        "else:\n",
        "    print('0')"
      ],
      "metadata": {
        "id": "_lWQTQgU-zZf"
      },
      "execution_count": null,
      "outputs": []
    },
    {
      "cell_type": "markdown",
      "source": [
        "# OR:"
      ],
      "metadata": {
        "id": "T0QjG5l1-8JZ"
      }
    },
    {
      "cell_type": "code",
      "source": [
        "from typing import Optional, List\n",
        "\n",
        "\n",
        "def get_smaller_digit(sorted_digits: List[str], bigger_than: str) -> Optional[str]:\n",
        "    for i in range(len(sorted_digits)):\n",
        "        if sorted_digits[i] > bigger_than:\n",
        "            return sorted_digits[i]\n",
        "    return None\n",
        "\n",
        "\n",
        "def solve(number: str) -> str:\n",
        "    for i in range(len(number) - 2, -1, -1):\n",
        "        remain_digits = sorted(number[i:])\n",
        "        smaller_digit = get_smaller_digit(remain_digits, number[i])\n",
        "        if smaller_digit is None:\n",
        "            continue\n",
        "        remain_digits.remove(smaller_digit)\n",
        "        return number[0:i] + smaller_digit + ''.join(remain_digits)\n",
        "    return '0'\n",
        "\n",
        "\n",
        "def main():\n",
        "    number = input()\n",
        "    result = solve(number)\n",
        "    print(result)\n",
        "\n",
        "\n",
        "main()"
      ],
      "metadata": {
        "id": "r_gke8sn--Q9"
      },
      "execution_count": null,
      "outputs": []
    },
    {
      "cell_type": "markdown",
      "source": [
        "# Majid-Milad Reshte sazi:\n",
        "میلاد و مجید در حال ساخت یک رشته طولانی از \n",
        "\n",
        "0 و \n",
        "\n",
        "1 هستند.\n",
        "\n",
        "رشته به این ترتیب ساخته می‌شود که در گام اول میلاد \n",
        "\n",
        "1 را می‌نویسد. از آن پس هر کس در نوبت خود رشته‌ای که تا الان ساخته شده است را در نظر گرفته و با تبدیل همه \n",
        "\n",
        "1ها به \n",
        "0\n",
        "0 و همه \n",
        "\n",
        "0ها به \n",
        "\n",
        "1، رشته حاصل را در ادامه رشته قبلی می‌نویسد و سپس نوبت نفر بعد می‌شود. و این کار را تا ابد ادامه می‌دهند."
      ],
      "metadata": {
        "id": "nfbRKLEVvfyF"
      }
    },
    {
      "cell_type": "code",
      "source": [
        "L, R = map(int,input().split())\n",
        "s = '1'\n",
        "while len(s) <= R:\n",
        "  for ch in s:\n",
        "     if ch == '1':\n",
        "        ch = '0'\n",
        "        #print('s1: ', s)\n",
        "     else:\n",
        "       ch = '1'\n",
        "       #print('s2: ', s)\n",
        "     s = s + ch\n",
        "print(s)\n",
        "print(s[L-1:R])\n"
      ],
      "metadata": {
        "colab": {
          "base_uri": "https://localhost:8080/"
        },
        "id": "O2iOStJivm2v",
        "outputId": "cb01a71d-1ac1-4c7c-f357-17b5462daa5b"
      },
      "execution_count": null,
      "outputs": [
        {
          "output_type": "stream",
          "name": "stdout",
          "text": [
            "4 7\n",
            "10010110\n",
            "1011\n"
          ]
        }
      ]
    },
    {
      "cell_type": "markdown",
      "source": [
        "# OR:"
      ],
      "metadata": {
        "id": "oqIUukPR1iBq"
      }
    },
    {
      "cell_type": "code",
      "source": [
        "def inverse(string: str) -> str:\n",
        "    result = \"\"\n",
        "    for c in string:\n",
        "        if c == \"1\":\n",
        "            result += \"0\"\n",
        "        else:\n",
        "            result += \"1\"\n",
        "    return result\n",
        "\n",
        "\n",
        "def generate_sequence(max_length: int) -> str:\n",
        "    result = \"1\"\n",
        "    while len(result) < max_length:\n",
        "        result += inverse(result)\n",
        "    return result\n",
        "\n",
        "\n",
        "begin, end = map(int, input().split())\n",
        "sequence = generate_sequence(end)\n",
        "\n",
        "print(sequence[begin - 1: end])"
      ],
      "metadata": {
        "colab": {
          "base_uri": "https://localhost:8080/"
        },
        "id": "_8Fy64er1j8T",
        "outputId": "a4618f52-8d3f-49d7-e9eb-b82bb5f94941"
      },
      "execution_count": null,
      "outputs": [
        {
          "output_type": "stream",
          "name": "stdout",
          "text": [
            "4 7\n",
            "1011\n"
          ]
        }
      ]
    },
    {
      "cell_type": "markdown",
      "source": [
        "# OR:"
      ],
      "metadata": {
        "id": "_TSYqWUP3rL8"
      }
    },
    {
      "cell_type": "code",
      "source": [
        "def negate(str_num):\n",
        "    rev = []\n",
        "    for n in str_num:\n",
        "        if n == \"1\":\n",
        "           rev.append(\"0\") \n",
        "        else:\n",
        "            rev.append(\"1\")\n",
        "    return \"\".join(rev)\n",
        "\n",
        "start, max_num_of_digits = map(int, input().split())\n",
        "num_of_digits = 0\n",
        "pow = 0\n",
        "prev_digits = \"1\"\n",
        "while num_of_digits < max_num_of_digits:\n",
        "    new_digits = prev_digits + negate(prev_digits)\n",
        "    num_of_digits += 2 ** pow\n",
        "    pow += 1\n",
        "    prev_digits = new_digits\n",
        "\n",
        "print(new_digits[start - 1 : max_num_of_digits])\n"
      ],
      "metadata": {
        "id": "NZDIOM4F3s9C"
      },
      "execution_count": null,
      "outputs": []
    },
    {
      "cell_type": "markdown",
      "source": [
        "# OR:"
      ],
      "metadata": {
        "id": "_ku9r7Vk32yq"
      }
    },
    {
      "cell_type": "code",
      "source": [
        "l,r = map(int,input().split())\n",
        "i = 0\n",
        "while ((2**i) < r):\n",
        "    i += 1\n",
        "a = '1'\n",
        "b = ''\n",
        "c = 1\n",
        "for j in range(i+1):\n",
        "    for k in range(c):\n",
        "        if a[k] == '1':\n",
        "            b = '0'\n",
        "        elif a[k] == '0':\n",
        "            b = '1'\n",
        "        a = a + b\n",
        "        b = ''\n",
        "        c = len(a)\n",
        "print(a[l-1:r])"
      ],
      "metadata": {
        "id": "jqSvflAC35_I"
      },
      "execution_count": null,
      "outputs": []
    },
    {
      "cell_type": "markdown",
      "source": [
        "# Oghat faraghat:jadval asami:"
      ],
      "metadata": {
        "id": "EEPbx5ka7eO-"
      }
    },
    {
      "cell_type": "code",
      "source": [
        "n, m = map(int,input().split())\n",
        "arr = []   \n",
        "count = 0                  # [['l', 'k', 'j', 'k'], ['e', 'r', 't', 'y'], ['c', 'd', 'e', 'r']]\n",
        "for i in range(n):\n",
        "    name = input()\n",
        "    arr.append(name)\n",
        "s = input()\n",
        "for i in arr:\n",
        "  if i == s:\n",
        "    count += 1\n",
        "for i in range(m):\n",
        "  for j in range(n):\n",
        "    if arr[j][i] != s[j]:\n",
        "      break\n",
        "    count += 1\n",
        "print(count)\n",
        "\n"
      ],
      "metadata": {
        "colab": {
          "base_uri": "https://localhost:8080/"
        },
        "id": "v7I3kDc070uB",
        "outputId": "6f0e1907-b772-4c15-8710-7aab27f8fada"
      },
      "execution_count": null,
      "outputs": [
        {
          "name": "stdout",
          "output_type": "stream",
          "text": [
            "2 8\n",
            "babababa\n",
            "abababab\n",
            "baba\n"
          ]
        }
      ]
    },
    {
      "cell_type": "code",
      "source": [
        "arr = []\n",
        "for i in range(2):\n",
        "    name = (input())\n",
        "    arr.append(name)\n",
        "print('arr:', arr)\n",
        "s = 'quera'\n",
        "for i in arr:\n",
        "  if i == s:\n",
        "    print('yes')\n",
        "  else:\n",
        "    print('No')"
      ],
      "metadata": {
        "colab": {
          "base_uri": "https://localhost:8080/"
        },
        "id": "hFmC77hm9DYo",
        "outputId": "5dcdaf09-0df4-4eae-b485-9f4a16526053"
      },
      "execution_count": null,
      "outputs": [
        {
          "output_type": "stream",
          "name": "stdout",
          "text": [
            "quera\n",
            "dfgh\n",
            "arr: ['quera', 'dfgh']\n",
            "yes\n",
            "No\n"
          ]
        }
      ]
    },
    {
      "cell_type": "markdown",
      "source": [
        "# Quera,chapter 10: \n",
        "Selected sorting:"
      ],
      "metadata": {
        "id": "Zo1bY0W3djJI"
      }
    },
    {
      "cell_type": "code",
      "source": [
        "a = [5, 8, 1, 2, 3, 6]\n",
        "n = len(a)\n",
        "for i in range(n):\n",
        "    min_index = i\n",
        "    for j in range(i+1, n):\n",
        "        if a[min_index] > a[j]:\n",
        "           min_index = j\n",
        "        #print('a[min_index]:', a[min_index])\n",
        "    #print(a)\n",
        "    a[i], a[min_index] = a[min_index], a[i]\n",
        "    \n",
        "print(a)\n"
      ],
      "metadata": {
        "id": "VJ9Bxg9-d_RQ"
      },
      "execution_count": null,
      "outputs": []
    },
    {
      "cell_type": "markdown",
      "source": [
        "# Bubble Sorting:"
      ],
      "metadata": {
        "id": "shaQt-DynXXF"
      }
    },
    {
      "cell_type": "code",
      "source": [
        "a = [5, 8, 1, 2, 3, 6, 9, 0, 1]\n",
        "n = len(a)\n",
        "for j in range(n):\n",
        "    for i in range(n-1):\n",
        "        if a[i] > a[i+1]:\n",
        "            a[i], a[i+1] = a[i+1], a[i]\n",
        "print(a)"
      ],
      "metadata": {
        "id": "UmRV9UaAnakD"
      },
      "execution_count": null,
      "outputs": []
    },
    {
      "cell_type": "markdown",
      "source": [
        "# INSERTION-SORTING:"
      ],
      "metadata": {
        "id": "wpkzPVaLtAGa"
      }
    },
    {
      "cell_type": "code",
      "source": [],
      "metadata": {
        "id": "qYljzkA0d3pK"
      },
      "execution_count": null,
      "outputs": []
    },
    {
      "cell_type": "code",
      "source": [
        "a = [5, 8, 2, 3, 6, 9, 0, 1]\n",
        "n = len(a)\n",
        "for i in range(n):\n",
        "    p = i\n",
        "    while p > 0 and a[p] < a[p-1]:\n",
        "        a[p], a[p-1] = a[p-1], a[p]\n",
        "        p = p-1\n",
        "print(a)"
      ],
      "metadata": {
        "id": "4D5BIsURtB06"
      },
      "execution_count": null,
      "outputs": []
    },
    {
      "cell_type": "markdown",
      "source": [
        "# Quera; moratabsazi sadeh,tamrin:"
      ],
      "metadata": {
        "id": "esbPYjdFtH-d"
      }
    },
    {
      "cell_type": "code",
      "source": [
        "n = int(input())\n",
        "arr = list(map(int,input().split())) # [2, 1, 4, 9, 4]\n",
        "for j in range(n):\n",
        "  for i in range(1,n):\n",
        "    if arr[i] > arr[i-1]:\n",
        "      arr[i], arr[i-1] = arr[i-1], arr[i]\n",
        "print(*arr)"
      ],
      "metadata": {
        "colab": {
          "base_uri": "https://localhost:8080/"
        },
        "id": "uMqzgbdXtPrn",
        "outputId": "36bc77bf-1d0b-4aad-f9dc-4bccecc1c2dc"
      },
      "execution_count": null,
      "outputs": [
        {
          "output_type": "stream",
          "name": "stdout",
          "text": [
            "3\n",
            "5 1 9\n",
            "[9, 5, 1]\n"
          ]
        }
      ]
    },
    {
      "cell_type": "markdown",
      "source": [
        "OR:"
      ],
      "metadata": {
        "id": "6605N182woJe"
      }
    },
    {
      "cell_type": "code",
      "source": [
        "n = int(input())\n",
        "arr = list(map(int, input().split()))\n",
        "\n",
        "for i in range(0, len(arr)):\n",
        "    p = i\n",
        "    while p > 0 and arr[p] > arr[p-1]:\n",
        "        arr[p], arr[p-1] = arr[p-1], arr[p]\n",
        "        p = p-1\n",
        "\n",
        "for i in arr:\n",
        "    print(i, end=' ')"
      ],
      "metadata": {
        "colab": {
          "base_uri": "https://localhost:8080/"
        },
        "id": "MnGrNaIRvla9",
        "outputId": "aa867bb7-ccd5-4357-d7f8-de70237d1256"
      },
      "execution_count": null,
      "outputs": [
        {
          "name": "stdout",
          "output_type": "stream",
          "text": [
            "2 5 9\n"
          ]
        },
        {
          "output_type": "execute_result",
          "data": {
            "text/plain": [
              "<map at 0x7f03d3eb6b80>"
            ]
          },
          "metadata": {},
          "execution_count": 3
        }
      ]
    },
    {
      "cell_type": "markdown",
      "source": [
        "OR:"
      ],
      "metadata": {
        "id": "Zg0nu_2gwuHi"
      }
    },
    {
      "cell_type": "code",
      "source": [
        "def selection_sort(alist):\n",
        "    for i in range(len(alist)):\n",
        "        max_index = i\n",
        "        for j in range(i, len(alist)):\n",
        "            if alist[max_index] < alist[j]:\n",
        "                max_index = j\n",
        "        alist[i], alist[max_index] = alist[max_index], alist[i]\n",
        "    return alist\n",
        "n = int(input())\n",
        "alist = list(map(int, input().split()))\n",
        "print(*selection_sort(alist))"
      ],
      "metadata": {
        "id": "BUiWdyMtwvYa"
      },
      "execution_count": null,
      "outputs": []
    },
    {
      "cell_type": "markdown",
      "source": [
        "# Samanbde:"
      ],
      "metadata": {
        "id": "pkhECqTAXLLy"
      }
    },
    {
      "cell_type": "markdown",
      "source": [
        "this code was written by me.it has some problem and ...."
      ],
      "metadata": {
        "id": "ZPgLAa4VlEM8"
      }
    },
    {
      "cell_type": "code",
      "source": [
        "#n, k = map(int,input().split()) \n",
        "arr = []\n",
        "name = ['ava', 'nastaran', 'baran', 'neda', 'bahar', 'behnaz']\n",
        "n = len(name)\n",
        "ch = ''\n",
        "k = 3\n",
        "for j in range(n):\n",
        "  for z in range(k):\n",
        "      if name[j][z] != ch:\n",
        "        c = 0\n",
        "        ch = name[j][z]  # ch = a\n",
        "        for i in name:\n",
        "          if i[z] != ch:\n",
        "            break\n",
        "            c += 1\n",
        "  if c not in arr:\n",
        "    arr.append(c)\n",
        "print(arr)"
      ],
      "metadata": {
        "colab": {
          "base_uri": "https://localhost:8080/"
        },
        "id": "js_9Nb4kX1Wb",
        "outputId": "8f423bdb-f49e-47ed-bf53-6a6acf7c824e"
      },
      "execution_count": null,
      "outputs": [
        {
          "output_type": "stream",
          "name": "stdout",
          "text": [
            "3\n"
          ]
        }
      ]
    },
    {
      "cell_type": "markdown",
      "source": [
        "# But this code was suggested by Quera, using func:"
      ],
      "metadata": {
        "id": "EaAC4ZTYlaGF"
      }
    },
    {
      "cell_type": "code",
      "source": [
        "n, k = map(int, input().split(\" \"))\n",
        "s = []\n",
        "\n",
        "for i in range(n):\n",
        "    s.append(input())\n",
        "\n",
        "s.sort()\n",
        "\n",
        "\n",
        "def lcp(id1, id2):\n",
        "    x = 0\n",
        "    l1 = len(s[id1])\n",
        "    l2 = len(s[id2])\n",
        "\n",
        "    while x < l1 and x < l2 and s[id1][x] == s[id2][x]:\n",
        "        x = x + 1\n",
        "\n",
        "    print(id1,id2)\n",
        "    return x\n",
        "\n",
        "ans = 1\n",
        "\n",
        "for i in range(n):\n",
        "    j = i + 1\n",
        "    while j < n and lcp(j, j - 1) >= k:\n",
        "        j = j + 1\n",
        "    ans = max(ans, j - i)\n",
        "\n",
        "print(ans)\n"
      ],
      "metadata": {
        "id": "x1YmlhvkTrMB"
      },
      "execution_count": null,
      "outputs": []
    },
    {
      "cell_type": "markdown",
      "source": [
        "# OR, nice code!!!:"
      ],
      "metadata": {
        "id": "199837WZq1J-"
      }
    },
    {
      "cell_type": "code",
      "source": [
        "n, k = map(int, input().split())     \n",
        "s = []\n",
        "p = []\n",
        "ans = 0\n",
        "                    # ['ava', 'nastaran', 'baran', 'neda', 'bahar', 'behnaz']\n",
        "\n",
        "for i in range(n) :\n",
        "    a = input()\n",
        "    s.append(a[0:k])\n",
        "for i in range(0, n) :\n",
        "    x = 1\n",
        "    for j in range(i+1, n) :\n",
        "        if s[i]==s[j] :\n",
        "            x +=1\n",
        "    p.append(x)\n",
        " \n",
        "print(s)\n",
        "print(p)\n",
        "for i in range(1, n): # we can use func:max(p)\n",
        "    if p[i-1]>p[i] :\n",
        "        ans = p[i-1]\n",
        "        p[i], p[i-1] = p[i-1], p[i]\n",
        "print(max(p)) \n",
        "print(ans)\n"
      ],
      "metadata": {
        "id": "a4B7QTpQltP8"
      },
      "execution_count": null,
      "outputs": []
    },
    {
      "cell_type": "markdown",
      "source": [
        "# OR:"
      ],
      "metadata": {
        "id": "QOKm6VKizn2E"
      }
    },
    {
      "cell_type": "code",
      "source": [
        "n, k = map(int, input().split())\n",
        "\n",
        "words_dict = {}\n",
        "for i in range(n):\n",
        "    word = input().strip()\n",
        "    prefix = word[:k]\n",
        "    if prefix in words_dict:\n",
        "        words_dict[prefix].append(word)\n",
        "    else:\n",
        "        words_dict[prefix] = [word]\n",
        "                                   # ['ava', 'nastaran', 'baran', 'neda', 'bahar', 'behnaz']\n",
        "max_set = []\n",
        "for prefix in words_dict:\n",
        "    if len(words_dict[prefix]) > len(max_set):\n",
        "        max_set = words_dict[prefix]\n",
        "\n",
        "print(len(max_set))\n"
      ],
      "metadata": {
        "id": "Hl1KGTq9rbsi"
      },
      "execution_count": null,
      "outputs": []
    },
    {
      "cell_type": "markdown",
      "source": [
        "# OR:"
      ],
      "metadata": {
        "id": "fy3LnoVZz3SE"
      }
    },
    {
      "cell_type": "code",
      "source": [
        "n, k = map(int, input().split())\n",
        "strings = list()           # ['ava', 'nastaran', 'baran', 'neda', 'bahar', 'behnaz']\n",
        "for i in range(n):\n",
        "    strings.append(input())\n",
        "\n",
        "m = len(strings)\n",
        "for i in range(m):\n",
        "    for j in range(m - 1):\n",
        "        if strings[j] > strings[j + 1]:\n",
        "            strings[j], strings[j + 1] = strings[j + 1], strings[j]\n",
        "\n",
        "print(strings)\n",
        "answer = 0\n",
        "for i in range(m):\n",
        "    for j in range(m):\n",
        "        if strings[i][0:k] == strings[j][0:k]:\n",
        "            if j - i + 1 > answer:\n",
        "                answer = j - i + 1\n",
        "                print(answer)"
      ],
      "metadata": {
        "colab": {
          "base_uri": "https://localhost:8080/"
        },
        "id": "qFQd0OWZz5YU",
        "outputId": "8a5c8e51-1066-4dc2-d16a-6273f1d2217d"
      },
      "execution_count": null,
      "outputs": [
        {
          "output_type": "stream",
          "name": "stdout",
          "text": [
            "3 2\n",
            "baran\n",
            "bahar\n",
            "neda\n",
            "['bahar', 'baran', 'neda']\n",
            "1\n",
            "2\n"
          ]
        }
      ]
    },
    {
      "cell_type": "code",
      "source": [
        "s1 = ['baran', 'abdola']\n",
        "print(s1[0] < s1[1]) # False"
      ],
      "metadata": {
        "colab": {
          "base_uri": "https://localhost:8080/"
        },
        "id": "oQDDJF-90NJN",
        "outputId": "6e8e1076-9023-47cd-9188-27ecb294abe2"
      },
      "execution_count": null,
      "outputs": [
        {
          "output_type": "stream",
          "name": "stdout",
          "text": [
            "False\n"
          ]
        }
      ]
    },
    {
      "cell_type": "markdown",
      "source": [
        "# Quera;\n",
        "Review exercise 1:\n",
        "Magic Circle\n",
        "Hasani!!"
      ],
      "metadata": {
        "id": "CVUO72kWe9jl"
      }
    },
    {
      "cell_type": "code",
      "source": [],
      "metadata": {
        "id": "XFWWLg4pfO3R"
      },
      "execution_count": null,
      "outputs": []
    },
    {
      "cell_type": "code",
      "source": [
        "n ,k = map(int,input().split())\n",
        "arr = []\n",
        "for i in range(1,n+1):\n",
        "  arr.append(i)\n",
        "print(arr)\n",
        "i = 1\n",
        "c = 1\n",
        "while i % n != 0 : \n",
        "  i = i + k -1\n",
        "  c = c + 1\n",
        "print (c+1)"
      ],
      "metadata": {
        "id": "D9qMNjw_fSKp"
      },
      "execution_count": null,
      "outputs": []
    }
  ],
  "metadata": {
    "colab": {
      "provenance": [],
      "authorship_tag": "ABX9TyMpGEDrIZCkG5Y8Jd47zUf8",
      "include_colab_link": true
    },
    "kernelspec": {
      "display_name": "Python 3",
      "name": "python3"
    },
    "language_info": {
      "name": "python"
    }
  },
  "nbformat": 4,
  "nbformat_minor": 0
}