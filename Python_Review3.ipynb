{
  "nbformat": 4,
  "nbformat_minor": 0,
  "metadata": {
    "colab": {
      "provenance": [],
      "authorship_tag": "ABX9TyOU7QVR68Cn5yj55wznUVdz",
      "include_colab_link": true
    },
    "kernelspec": {
      "name": "python3",
      "display_name": "Python 3"
    },
    "language_info": {
      "name": "python"
    }
  },
  "cells": [
    {
      "cell_type": "markdown",
      "metadata": {
        "id": "view-in-github",
        "colab_type": "text"
      },
      "source": [
        "<a href=\"https://colab.research.google.com/github/RemiJolian/Python/blob/main/Python_Review3.ipynb\" target=\"_parent\"><img src=\"https://colab.research.google.com/assets/colab-badge.svg\" alt=\"Open In Colab\"/></a>"
      ]
    },
    {
      "cell_type": "markdown",
      "source": [
        "# Quera Course\n",
        "Recursive functions\n"
      ],
      "metadata": {
        "id": "gSWuFu6i90fY"
      }
    },
    {
      "cell_type": "markdown",
      "source": [
        "factoriel n!"
      ],
      "metadata": {
        "id": "nqM3waLk9_3c"
      }
    },
    {
      "cell_type": "code",
      "execution_count": null,
      "metadata": {
        "colab": {
          "base_uri": "https://localhost:8080/"
        },
        "id": "jbMS2Jio9pTS",
        "outputId": "ea32528f-a041-4552-be34-89cf6ba059a4"
      },
      "outputs": [
        {
          "name": "stdout",
          "output_type": "stream",
          "text": [
            "5\n"
          ]
        },
        {
          "output_type": "execute_result",
          "data": {
            "text/plain": [
              "120"
            ]
          },
          "metadata": {},
          "execution_count": 8
        }
      ],
      "source": [
        "n = int(input())\n",
        "def f(n):\n",
        "  if n == 1:\n",
        "    return 1\n",
        "  else:\n",
        "    return (n * f(n-1))\n",
        "f(n)"
      ]
    },
    {
      "cell_type": "markdown",
      "source": [
        "gcd:bmm"
      ],
      "metadata": {
        "id": "2kT2BvFA_qbT"
      }
    },
    {
      "cell_type": "code",
      "source": [
        "def gcd(a,b):\n",
        "  if a > b:\n",
        "    a, b = b, a\n",
        "  if b%a == 0:\n",
        "    return a\n",
        "  else:\n",
        "    return gcd(b%a,a)\n",
        "gcd(18,12)"
      ],
      "metadata": {
        "colab": {
          "base_uri": "https://localhost:8080/"
        },
        "id": "bFL9wy8P_yso",
        "outputId": "16007fe8-c737-4c14-c20a-ef5f93eb047f"
      },
      "execution_count": null,
      "outputs": [
        {
          "output_type": "execute_result",
          "data": {
            "text/plain": [
              "6"
            ]
          },
          "metadata": {},
          "execution_count": 14
        }
      ]
    },
    {
      "cell_type": "markdown",
      "source": [
        "# donbale sade"
      ],
      "metadata": {
        "id": "EsDyKzF1QtR2"
      }
    },
    {
      "cell_type": "code",
      "source": [
        "n = int(input())\n",
        "\n",
        "def donb(n):\n",
        "  if n == 0:\n",
        "    return 5\n",
        "  elif n % 2 == 0:\n",
        "    return donb(n-1) - 21\n",
        "  else:\n",
        "    return donb(n-1) ** 2\n",
        "donb(n)"
      ],
      "metadata": {
        "colab": {
          "base_uri": "https://localhost:8080/"
        },
        "id": "4WHF1yFNNcxF",
        "outputId": "35f0649b-4012-4a72-ae35-8f06fde507c2"
      },
      "execution_count": null,
      "outputs": [
        {
          "name": "stdout",
          "output_type": "stream",
          "text": [
            "3\n"
          ]
        },
        {
          "output_type": "execute_result",
          "data": {
            "text/plain": [
              "16"
            ]
          },
          "metadata": {},
          "execution_count": 27
        }
      ]
    },
    {
      "cell_type": "markdown",
      "source": [
        "# Fibonachi Series:\n",
        "if i in fib return \"+\", else \"-\""
      ],
      "metadata": {
        "id": "kY5VEhxxZrbA"
      }
    },
    {
      "cell_type": "code",
      "source": [
        "n = int(input())\n",
        "\n",
        "fib = [0] * n\n",
        "fib[0] = 1\n",
        "\n",
        "\n",
        "if n > 1:\n",
        "  fib[1] = 2\n",
        "  for i in range(2, n):  \n",
        "    fib[i] = fib[i-1] + fib[i-2]\n",
        "#print(fib)\n",
        " \n",
        "for i in range(1,n+1):\n",
        "  if i in fib:\n",
        "    print('+',end = '')\n",
        "  else:\n",
        "    print('-',end = '')\n",
        " "
      ],
      "metadata": {
        "id": "_yPT9brUcUY6"
      },
      "execution_count": null,
      "outputs": []
    },
    {
      "cell_type": "markdown",
      "source": [
        "# OR:"
      ],
      "metadata": {
        "id": "fpzEPBBLp8aT"
      }
    },
    {
      "cell_type": "code",
      "source": [
        "def fib(n):\n",
        "    if n <= 2:\n",
        "        return 1\n",
        "    return fib(n-1)+fib(n-2)\n",
        "def is_fib(n):\n",
        "    i=1\n",
        "    while(fib(i)<n):\n",
        "        i += 1\n",
        "    if fib(i) == n:\n",
        "        return 1\n",
        "    else:\n",
        "        return 0\n",
        "    #Instead of this if and else block we could write:\n",
        "    #return fib(i) == n\n",
        "    #it returns True if fib(i) == n and 0 otherwise\n",
        "def print_answer(n):\n",
        "    if n==0:\n",
        "        return\n",
        "    print_answer(n-1)\n",
        "    if is_fib(n):\n",
        "        print('+',end='')\n",
        "    else:\n",
        "        print('-',end='')\n",
        "n = int(input())\n",
        "print_answer(n)\n"
      ],
      "metadata": {
        "id": "PRze7ig2p-tt"
      },
      "execution_count": null,
      "outputs": []
    },
    {
      "cell_type": "markdown",
      "source": [
        "OR:"
      ],
      "metadata": {
        "id": "ez8pQjetrG_f"
      }
    },
    {
      "cell_type": "code",
      "source": [
        "N = int(input())\n",
        "\n",
        "n=1\n",
        "fn_1=1\n",
        "fn=1\n",
        "output = []\n",
        "while fn <=N:\n",
        "  output.append(fn)\n",
        "  fn,fn_1 =fn+fn_1,fn \n",
        "\n",
        "s=[\"-\"]*N\n",
        "for i in range(1,N+1):\n",
        "  if i in output:\n",
        "    s[i-1]=\"+\"\n",
        "print(\"\".join(s))"
      ],
      "metadata": {
        "id": "qNv4uUvLrJt1"
      },
      "execution_count": null,
      "outputs": []
    },
    {
      "cell_type": "markdown",
      "source": [
        "# OR:"
      ],
      "metadata": {
        "id": "cfNAcTsIrPcq"
      }
    },
    {
      "cell_type": "code",
      "source": [
        "def fib(n, array):\n",
        "    if(n == 1):\n",
        "        if(array[n] == 0):\n",
        "            array[n] = 1\n",
        "        return array[n]\n",
        "    if(n == 2):\n",
        "        if(array[n] == 0):\n",
        "            array[n] = 2\n",
        "        return array[n]\n",
        "    if(array[n] == 0):\n",
        "        array[n] = fib(n - 1, array) + fib(n - 2, array)\n",
        "    return array[n]\n",
        "n = int(input())\n",
        "array = [0 for i in range(n + 1)]\n",
        "fib(n,array)\n",
        "for i in range(1,n+1):\n",
        "    if i in array[1:]:\n",
        "        print(\"+\", end=\"\")\n",
        "    else:\n",
        "        print(\"-\", end=\"\")"
      ],
      "metadata": {
        "id": "WUZ2AVqArRWm"
      },
      "execution_count": null,
      "outputs": []
    }
  ]
}